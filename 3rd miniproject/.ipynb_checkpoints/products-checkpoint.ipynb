{
 "cells": [
  {
   "cell_type": "markdown",
   "id": "8ecec370",
   "metadata": {},
   "source": [
    "└── data\n",
    "   ├── 2020-12-30\n",
    "   │  ├── FirstName_LastName1\n",
    "   │  │   └── data.csv\n",
    "   │  ├── FirstName_LastName2\n",
    "   │  │   └── data.csv\n",
    "   │  └── FirstName_LastName3\n",
    "   │      └── data.csv\n",
    "   └── 2020-12-31\n",
    "      ├── FirstName_LastName1\n",
    "      │   └── data.csv\n",
    "      └── FirstName_LastName5\n",
    "          └── data.csv\n",
    "имеется папака data, в которой есть папки с датой на каждый день. В этих папках лежат папки с покупателями, а в этих папкал лежать csv файлы"
   ]
  },
  {
   "cell_type": "markdown",
   "id": "a7d7a0d0",
   "metadata": {},
   "source": [
    "# Задачи\n",
    "1. **Соберите все данные из папки data в один датафрэйм, имеющий следующие столбцы: колонки из самих файлов (product_id, quantity), а также имя пользователя (name), и дата этих покупок (date), соответствует названию папки, где лежит папка с пользователем)**\n",
    "2. **Выясните, какой пользователь купил больше всего товаров. Если их несколько, то перечислите имена через запятую с пробелом и в алфавитном порядке.**\n",
    "3. **Найдите топ-10 товаров по числу проданных единиц за всё время и постройте барплот. Сколько было продано единиц товара с product_id==56?**\n",
    "4. **Визуализируйте продажи по дням.**\n",
    "5. **Сколько пользователей приобрели какой-либо товар повторно (более 1 раза)? Повтором будем считать покупку товара с одинаковым product_id, совершенную в разные дни.** "
   ]
  },
  {
   "cell_type": "code",
   "execution_count": 54,
   "id": "456f7cea",
   "metadata": {},
   "outputs": [],
   "source": [
    "import pandas as pd\n",
    "import os\n",
    "import seaborn as sns\n",
    "import matplotlib.pyplot as plt\n",
    "%matplotlib inline"
   ]
  },
  {
   "cell_type": "code",
   "execution_count": 5,
   "id": "23548afb",
   "metadata": {},
   "outputs": [],
   "source": [
    "df1 = pd.read_csv(r\"F:\\Загрузки\\data\\2020-12-03\\Alexey_Smirnov\\data.csv\", encoding='windows-1251')"
   ]
  },
  {
   "cell_type": "code",
   "execution_count": 6,
   "id": "9ae47a18",
   "metadata": {},
   "outputs": [
    {
     "data": {
      "text/html": [
       "<div>\n",
       "<style scoped>\n",
       "    .dataframe tbody tr th:only-of-type {\n",
       "        vertical-align: middle;\n",
       "    }\n",
       "\n",
       "    .dataframe tbody tr th {\n",
       "        vertical-align: top;\n",
       "    }\n",
       "\n",
       "    .dataframe thead th {\n",
       "        text-align: right;\n",
       "    }\n",
       "</style>\n",
       "<table border=\"1\" class=\"dataframe\">\n",
       "  <thead>\n",
       "    <tr style=\"text-align: right;\">\n",
       "      <th></th>\n",
       "      <th>Unnamed: 0</th>\n",
       "      <th>product_id</th>\n",
       "      <th>quantity</th>\n",
       "    </tr>\n",
       "  </thead>\n",
       "  <tbody>\n",
       "    <tr>\n",
       "      <th>0</th>\n",
       "      <td>0</td>\n",
       "      <td>47</td>\n",
       "      <td>1</td>\n",
       "    </tr>\n",
       "    <tr>\n",
       "      <th>1</th>\n",
       "      <td>1</td>\n",
       "      <td>57</td>\n",
       "      <td>1</td>\n",
       "    </tr>\n",
       "    <tr>\n",
       "      <th>2</th>\n",
       "      <td>2</td>\n",
       "      <td>14</td>\n",
       "      <td>2</td>\n",
       "    </tr>\n",
       "    <tr>\n",
       "      <th>3</th>\n",
       "      <td>3</td>\n",
       "      <td>52</td>\n",
       "      <td>1</td>\n",
       "    </tr>\n",
       "    <tr>\n",
       "      <th>4</th>\n",
       "      <td>4</td>\n",
       "      <td>1</td>\n",
       "      <td>4</td>\n",
       "    </tr>\n",
       "    <tr>\n",
       "      <th>5</th>\n",
       "      <td>5</td>\n",
       "      <td>94</td>\n",
       "      <td>4</td>\n",
       "    </tr>\n",
       "  </tbody>\n",
       "</table>\n",
       "</div>"
      ],
      "text/plain": [
       "   Unnamed: 0  product_id  quantity\n",
       "0           0          47         1\n",
       "1           1          57         1\n",
       "2           2          14         2\n",
       "3           3          52         1\n",
       "4           4           1         4\n",
       "5           5          94         4"
      ]
     },
     "execution_count": 6,
     "metadata": {},
     "output_type": "execute_result"
    }
   ],
   "source": [
    "df1"
   ]
  },
  {
   "cell_type": "code",
   "execution_count": 12,
   "id": "d361de6a",
   "metadata": {},
   "outputs": [],
   "source": [
    "main_path = r'F:\\Загрузки\\data'"
   ]
  },
  {
   "cell_type": "code",
   "execution_count": 99,
   "id": "4ed0e707",
   "metadata": {},
   "outputs": [
    {
     "data": {
      "text/plain": [
       "480"
      ]
     },
     "execution_count": 99,
     "metadata": {},
     "output_type": "execute_result"
    }
   ],
   "source": [
    "count = 0\n",
    "a = r\"\\\\\"\n",
    "for i in os.listdir(main_path):\n",
    "    for j in os.listdir(f'{main_path}{a}{i}'):\n",
    "         for file in os.listdir(f'{main_path}{a}{i}{a}{j}'):\n",
    "                csv = pd.read_csv(f'{main_path}{a}{i}{a}{j}{a}{file}')\n",
    "                csv['name'] = j\n",
    "                csv['date'] = i\n",
    "                count +=1\n",
    "                if count == 1:\n",
    "                    first = csv\n",
    "                else:\n",
    "                    first = pd.concat([first, csv], ignore_index=True)\n",
    "first.quantity.sum()"
   ]
  },
  {
   "cell_type": "code",
   "execution_count": 106,
   "id": "a41c7367",
   "metadata": {},
   "outputs": [],
   "source": [
    "first = first.drop(columns='Unnamed: 0')"
   ]
  },
  {
   "cell_type": "code",
   "execution_count": 107,
   "id": "8974ca3d",
   "metadata": {},
   "outputs": [
    {
     "data": {
      "text/html": [
       "<div>\n",
       "<style scoped>\n",
       "    .dataframe tbody tr th:only-of-type {\n",
       "        vertical-align: middle;\n",
       "    }\n",
       "\n",
       "    .dataframe tbody tr th {\n",
       "        vertical-align: top;\n",
       "    }\n",
       "\n",
       "    .dataframe thead th {\n",
       "        text-align: right;\n",
       "    }\n",
       "</style>\n",
       "<table border=\"1\" class=\"dataframe\">\n",
       "  <thead>\n",
       "    <tr style=\"text-align: right;\">\n",
       "      <th></th>\n",
       "      <th>product_id</th>\n",
       "      <th>quantity</th>\n",
       "      <th>name</th>\n",
       "      <th>date</th>\n",
       "    </tr>\n",
       "  </thead>\n",
       "  <tbody>\n",
       "    <tr>\n",
       "      <th>0</th>\n",
       "      <td>47</td>\n",
       "      <td>1</td>\n",
       "      <td>Alexey_Smirnov</td>\n",
       "      <td>2020-12-03</td>\n",
       "    </tr>\n",
       "    <tr>\n",
       "      <th>1</th>\n",
       "      <td>57</td>\n",
       "      <td>1</td>\n",
       "      <td>Alexey_Smirnov</td>\n",
       "      <td>2020-12-03</td>\n",
       "    </tr>\n",
       "    <tr>\n",
       "      <th>2</th>\n",
       "      <td>14</td>\n",
       "      <td>2</td>\n",
       "      <td>Alexey_Smirnov</td>\n",
       "      <td>2020-12-03</td>\n",
       "    </tr>\n",
       "    <tr>\n",
       "      <th>3</th>\n",
       "      <td>52</td>\n",
       "      <td>1</td>\n",
       "      <td>Alexey_Smirnov</td>\n",
       "      <td>2020-12-03</td>\n",
       "    </tr>\n",
       "    <tr>\n",
       "      <th>4</th>\n",
       "      <td>1</td>\n",
       "      <td>4</td>\n",
       "      <td>Alexey_Smirnov</td>\n",
       "      <td>2020-12-03</td>\n",
       "    </tr>\n",
       "    <tr>\n",
       "      <th>...</th>\n",
       "      <td>...</td>\n",
       "      <td>...</td>\n",
       "      <td>...</td>\n",
       "      <td>...</td>\n",
       "    </tr>\n",
       "    <tr>\n",
       "      <th>156</th>\n",
       "      <td>66</td>\n",
       "      <td>4</td>\n",
       "      <td>Rostislav_Petrov</td>\n",
       "      <td>2020-12-09</td>\n",
       "    </tr>\n",
       "    <tr>\n",
       "      <th>157</th>\n",
       "      <td>39</td>\n",
       "      <td>2</td>\n",
       "      <td>Rostislav_Petrov</td>\n",
       "      <td>2020-12-09</td>\n",
       "    </tr>\n",
       "    <tr>\n",
       "      <th>158</th>\n",
       "      <td>82</td>\n",
       "      <td>4</td>\n",
       "      <td>Vasiliy_Ivanov</td>\n",
       "      <td>2020-12-09</td>\n",
       "    </tr>\n",
       "    <tr>\n",
       "      <th>159</th>\n",
       "      <td>74</td>\n",
       "      <td>2</td>\n",
       "      <td>Vasiliy_Ivanov</td>\n",
       "      <td>2020-12-09</td>\n",
       "    </tr>\n",
       "    <tr>\n",
       "      <th>160</th>\n",
       "      <td>54</td>\n",
       "      <td>3</td>\n",
       "      <td>Vasiliy_Ivanov</td>\n",
       "      <td>2020-12-09</td>\n",
       "    </tr>\n",
       "  </tbody>\n",
       "</table>\n",
       "<p>161 rows × 4 columns</p>\n",
       "</div>"
      ],
      "text/plain": [
       "     product_id  quantity              name        date\n",
       "0            47         1    Alexey_Smirnov  2020-12-03\n",
       "1            57         1    Alexey_Smirnov  2020-12-03\n",
       "2            14         2    Alexey_Smirnov  2020-12-03\n",
       "3            52         1    Alexey_Smirnov  2020-12-03\n",
       "4             1         4    Alexey_Smirnov  2020-12-03\n",
       "..          ...       ...               ...         ...\n",
       "156          66         4  Rostislav_Petrov  2020-12-09\n",
       "157          39         2  Rostislav_Petrov  2020-12-09\n",
       "158          82         4    Vasiliy_Ivanov  2020-12-09\n",
       "159          74         2    Vasiliy_Ivanov  2020-12-09\n",
       "160          54         3    Vasiliy_Ivanov  2020-12-09\n",
       "\n",
       "[161 rows x 4 columns]"
      ]
     },
     "execution_count": 107,
     "metadata": {},
     "output_type": "execute_result"
    }
   ],
   "source": [
    "table = first\n",
    "table"
   ]
  },
  {
   "cell_type": "markdown",
   "id": "774a125e",
   "metadata": {},
   "source": [
    "## Выясните, какой пользователь купил больше всего товаров. Если их несколько, то перечислите имена через запятую с пробелом и в алфавитном порядке. "
   ]
  },
  {
   "cell_type": "code",
   "execution_count": 50,
   "id": "2d2ab528",
   "metadata": {},
   "outputs": [
    {
     "data": {
      "text/html": [
       "<div>\n",
       "<style scoped>\n",
       "    .dataframe tbody tr th:only-of-type {\n",
       "        vertical-align: middle;\n",
       "    }\n",
       "\n",
       "    .dataframe tbody tr th {\n",
       "        vertical-align: top;\n",
       "    }\n",
       "\n",
       "    .dataframe thead th {\n",
       "        text-align: right;\n",
       "    }\n",
       "</style>\n",
       "<table border=\"1\" class=\"dataframe\">\n",
       "  <thead>\n",
       "    <tr style=\"text-align: right;\">\n",
       "      <th></th>\n",
       "      <th>name</th>\n",
       "      <th>quantity</th>\n",
       "    </tr>\n",
       "  </thead>\n",
       "  <tbody>\n",
       "    <tr>\n",
       "      <th>3</th>\n",
       "      <td>Alexey_Smirnov</td>\n",
       "      <td>52</td>\n",
       "    </tr>\n",
       "    <tr>\n",
       "      <th>13</th>\n",
       "      <td>Petr_Smirnov</td>\n",
       "      <td>52</td>\n",
       "    </tr>\n",
       "  </tbody>\n",
       "</table>\n",
       "</div>"
      ],
      "text/plain": [
       "              name  quantity\n",
       "3   Alexey_Smirnov        52\n",
       "13    Petr_Smirnov        52"
      ]
     },
     "execution_count": 50,
     "metadata": {},
     "output_type": "execute_result"
    }
   ],
   "source": [
    "table.groupby('name', as_index=False) \\\n",
    ".agg({'quantity': 'sum'}) \\\n",
    ".sort_values(['quantity', 'name'], ascending=[False, True]) \\\n",
    ".head(2)"
   ]
  },
  {
   "cell_type": "markdown",
   "id": "3ef115d9",
   "metadata": {},
   "source": [
    "## Найдите топ-10 товаров по числу проданных единиц за всё время и постройте барплот (столбчатую диаграмму, sns.barplot)"
   ]
  },
  {
   "cell_type": "code",
   "execution_count": 82,
   "id": "91c3bcb9",
   "metadata": {},
   "outputs": [
    {
     "data": {
      "text/html": [
       "<div>\n",
       "<style scoped>\n",
       "    .dataframe tbody tr th:only-of-type {\n",
       "        vertical-align: middle;\n",
       "    }\n",
       "\n",
       "    .dataframe tbody tr th {\n",
       "        vertical-align: top;\n",
       "    }\n",
       "\n",
       "    .dataframe thead th {\n",
       "        text-align: right;\n",
       "    }\n",
       "</style>\n",
       "<table border=\"1\" class=\"dataframe\">\n",
       "  <thead>\n",
       "    <tr style=\"text-align: right;\">\n",
       "      <th></th>\n",
       "      <th>product_id</th>\n",
       "      <th>quantity</th>\n",
       "    </tr>\n",
       "  </thead>\n",
       "  <tbody>\n",
       "    <tr>\n",
       "      <th>42</th>\n",
       "      <td>56</td>\n",
       "      <td>18</td>\n",
       "    </tr>\n",
       "  </tbody>\n",
       "</table>\n",
       "</div>"
      ],
      "text/plain": [
       "    product_id  quantity\n",
       "42          56        18"
      ]
     },
     "execution_count": 82,
     "metadata": {},
     "output_type": "execute_result"
    }
   ],
   "source": [
    "products = table.groupby('product_id', as_index=False) \\\n",
    "                .agg({'quantity': 'sum'})\\\n",
    "                .sort_values('quantity', ascending=False)\n",
    "products.query('product_id == 56')"
   ]
  },
  {
   "cell_type": "code",
   "execution_count": 93,
   "id": "b7872965",
   "metadata": {},
   "outputs": [
    {
     "data": {
      "image/png": "[encoded data removed]",
      "text/plain": [
       "<Figure size 1440x360 with 1 Axes>"
      ]
     },
     "metadata": {
      "needs_background": "light"
     },
     "output_type": "display_data"
    }
   ],
   "source": [
    "plt.figure(figsize=(20, 5)) # (ширина, высота)\n",
    "sns.barplot(data=products, x='product_id', y='quantity', color=\"g\", alpha=1)\n",
    "sns.despine()"
   ]
  },
  {
   "cell_type": "markdown",
   "id": "37d5dc86",
   "metadata": {},
   "source": [
    "## Посмотрим на продажи по дням! Для визуализации снова используйте барплот, только теперь по оси x будут дни, по которым у нас есть данные (date)"
   ]
  },
  {
   "cell_type": "code",
   "execution_count": 95,
   "id": "7972463d",
   "metadata": {},
   "outputs": [],
   "source": [
    "days = table.groupby('date', as_index=False) \\\n",
    "                .agg({'quantity': 'sum'})\\\n",
    "                .sort_values('quantity', ascending=False)"
   ]
  },
  {
   "cell_type": "code",
   "execution_count": 97,
   "id": "ecf4e176",
   "metadata": {},
   "outputs": [
    {
     "data": {
      "text/plain": [
       "<AxesSubplot:xlabel='date', ylabel='quantity'>"
      ]
     },
     "execution_count": 97,
     "metadata": {},
     "output_type": "execute_result"
    },
    {
     "data": {
      "image/png": "[encoded data removed]",
      "text/plain": [
       "<Figure size 720x360 with 1 Axes>"
      ]
     },
     "metadata": {
      "needs_background": "light"
     },
     "output_type": "display_data"
    }
   ],
   "source": [
    "plt.figure(figsize=(10, 5))\n",
    "sns.barplot(x=days.date, y=days.quantity)"
   ]
  },
  {
   "cell_type": "markdown",
   "id": "c9dd2bc4",
   "metadata": {},
   "source": [
    "## Сколько пользователей приобрели какой-либо товар повторно (более 1 раза)? Повтором будем считать покупку товара с одинаковым product_id, совершенную в разные дни. "
   ]
  },
  {
   "cell_type": "code",
   "execution_count": 108,
   "id": "25ca91b3",
   "metadata": {},
   "outputs": [
    {
     "data": {
      "text/html": [
       "<div>\n",
       "<style scoped>\n",
       "    .dataframe tbody tr th:only-of-type {\n",
       "        vertical-align: middle;\n",
       "    }\n",
       "\n",
       "    .dataframe tbody tr th {\n",
       "        vertical-align: top;\n",
       "    }\n",
       "\n",
       "    .dataframe thead th {\n",
       "        text-align: right;\n",
       "    }\n",
       "</style>\n",
       "<table border=\"1\" class=\"dataframe\">\n",
       "  <thead>\n",
       "    <tr style=\"text-align: right;\">\n",
       "      <th></th>\n",
       "      <th>product_id</th>\n",
       "      <th>quantity</th>\n",
       "      <th>name</th>\n",
       "      <th>date</th>\n",
       "    </tr>\n",
       "  </thead>\n",
       "  <tbody>\n",
       "    <tr>\n",
       "      <th>0</th>\n",
       "      <td>47</td>\n",
       "      <td>1</td>\n",
       "      <td>Alexey_Smirnov</td>\n",
       "      <td>2020-12-03</td>\n",
       "    </tr>\n",
       "    <tr>\n",
       "      <th>1</th>\n",
       "      <td>57</td>\n",
       "      <td>1</td>\n",
       "      <td>Alexey_Smirnov</td>\n",
       "      <td>2020-12-03</td>\n",
       "    </tr>\n",
       "    <tr>\n",
       "      <th>2</th>\n",
       "      <td>14</td>\n",
       "      <td>2</td>\n",
       "      <td>Alexey_Smirnov</td>\n",
       "      <td>2020-12-03</td>\n",
       "    </tr>\n",
       "    <tr>\n",
       "      <th>3</th>\n",
       "      <td>52</td>\n",
       "      <td>1</td>\n",
       "      <td>Alexey_Smirnov</td>\n",
       "      <td>2020-12-03</td>\n",
       "    </tr>\n",
       "    <tr>\n",
       "      <th>4</th>\n",
       "      <td>1</td>\n",
       "      <td>4</td>\n",
       "      <td>Alexey_Smirnov</td>\n",
       "      <td>2020-12-03</td>\n",
       "    </tr>\n",
       "  </tbody>\n",
       "</table>\n",
       "</div>"
      ],
      "text/plain": [
       "   product_id  quantity            name        date\n",
       "0          47         1  Alexey_Smirnov  2020-12-03\n",
       "1          57         1  Alexey_Smirnov  2020-12-03\n",
       "2          14         2  Alexey_Smirnov  2020-12-03\n",
       "3          52         1  Alexey_Smirnov  2020-12-03\n",
       "4           1         4  Alexey_Smirnov  2020-12-03"
      ]
     },
     "execution_count": 108,
     "metadata": {},
     "output_type": "execute_result"
    }
   ],
   "source": [
    "table.head()"
   ]
  },
  {
   "cell_type": "code",
   "execution_count": 120,
   "id": "571e182e",
   "metadata": {},
   "outputs": [],
   "source": [
    "df = pd.DataFrame({\n",
    "    'product_id': [47, 47, 47, 47, 47, 47],\n",
    "    'quantity': [1, 2, 3, 4, 5, 6],\n",
    "    'name': ['Alexey_Smirnov', 'Alexey_Smirnov', 'Alexey_Smirnov', 'Alexey_Smirnov', 'Rostislav_Petrov', 'Rostislav_Petrov'],\n",
    "    'date': ['2020-12-03', '2020-12-03', '2020-12-09', '2020-12-10', '2020-12-09', '2020-12-10']\n",
    "})"
   ]
  },
  {
   "cell_type": "code",
   "execution_count": 121,
   "id": "bebd770b",
   "metadata": {},
   "outputs": [
    {
     "data": {
      "text/html": [
       "<div>\n",
       "<style scoped>\n",
       "    .dataframe tbody tr th:only-of-type {\n",
       "        vertical-align: middle;\n",
       "    }\n",
       "\n",
       "    .dataframe tbody tr th {\n",
       "        vertical-align: top;\n",
       "    }\n",
       "\n",
       "    .dataframe thead th {\n",
       "        text-align: right;\n",
       "    }\n",
       "</style>\n",
       "<table border=\"1\" class=\"dataframe\">\n",
       "  <thead>\n",
       "    <tr style=\"text-align: right;\">\n",
       "      <th></th>\n",
       "      <th>product_id</th>\n",
       "      <th>quantity</th>\n",
       "      <th>name</th>\n",
       "      <th>date</th>\n",
       "    </tr>\n",
       "  </thead>\n",
       "  <tbody>\n",
       "    <tr>\n",
       "      <th>0</th>\n",
       "      <td>47</td>\n",
       "      <td>1</td>\n",
       "      <td>Alexey_Smirnov</td>\n",
       "      <td>2020-12-03</td>\n",
       "    </tr>\n",
       "    <tr>\n",
       "      <th>1</th>\n",
       "      <td>47</td>\n",
       "      <td>2</td>\n",
       "      <td>Alexey_Smirnov</td>\n",
       "      <td>2020-12-03</td>\n",
       "    </tr>\n",
       "    <tr>\n",
       "      <th>2</th>\n",
       "      <td>47</td>\n",
       "      <td>3</td>\n",
       "      <td>Alexey_Smirnov</td>\n",
       "      <td>2020-12-09</td>\n",
       "    </tr>\n",
       "    <tr>\n",
       "      <th>3</th>\n",
       "      <td>47</td>\n",
       "      <td>4</td>\n",
       "      <td>Alexey_Smirnov</td>\n",
       "      <td>2020-12-10</td>\n",
       "    </tr>\n",
       "    <tr>\n",
       "      <th>4</th>\n",
       "      <td>47</td>\n",
       "      <td>5</td>\n",
       "      <td>Rostislav_Petrov</td>\n",
       "      <td>2020-12-09</td>\n",
       "    </tr>\n",
       "    <tr>\n",
       "      <th>5</th>\n",
       "      <td>47</td>\n",
       "      <td>6</td>\n",
       "      <td>Rostislav_Petrov</td>\n",
       "      <td>2020-12-10</td>\n",
       "    </tr>\n",
       "  </tbody>\n",
       "</table>\n",
       "</div>"
      ],
      "text/plain": [
       "   product_id  quantity              name        date\n",
       "0          47         1    Alexey_Smirnov  2020-12-03\n",
       "1          47         2    Alexey_Smirnov  2020-12-03\n",
       "2          47         3    Alexey_Smirnov  2020-12-09\n",
       "3          47         4    Alexey_Smirnov  2020-12-10\n",
       "4          47         5  Rostislav_Petrov  2020-12-09\n",
       "5          47         6  Rostislav_Petrov  2020-12-10"
      ]
     },
     "execution_count": 121,
     "metadata": {},
     "output_type": "execute_result"
    }
   ],
   "source": [
    "df"
   ]
  },
  {
   "cell_type": "markdown",
   "id": "e6b5a3f2",
   "metadata": {},
   "source": [
    "### **Как решать это задание?**\n",
    "Один из вариантов решения - удалить дубликаты по имени, продукту и дате. Это оставит только по одной строке на каждую покупку продукта в день. Затем нужно сгруппировать по колонкам `name` и `product_id` и посчитать число дней покупок каждого продукта для каждого человека (то есть число строк в группе). После этого отберите строки со значением больше 1, то есть только строки пользователей, купивших что-то в разные дни"
   ]
  },
  {
   "cell_type": "code",
   "execution_count": 122,
   "id": "ca86d020",
   "metadata": {},
   "outputs": [
    {
     "data": {
      "text/html": [
       "<div>\n",
       "<style scoped>\n",
       "    .dataframe tbody tr th:only-of-type {\n",
       "        vertical-align: middle;\n",
       "    }\n",
       "\n",
       "    .dataframe tbody tr th {\n",
       "        vertical-align: top;\n",
       "    }\n",
       "\n",
       "    .dataframe thead th {\n",
       "        text-align: right;\n",
       "    }\n",
       "</style>\n",
       "<table border=\"1\" class=\"dataframe\">\n",
       "  <thead>\n",
       "    <tr style=\"text-align: right;\">\n",
       "      <th></th>\n",
       "      <th>product_id</th>\n",
       "      <th>quantity</th>\n",
       "      <th>name</th>\n",
       "      <th>date</th>\n",
       "    </tr>\n",
       "  </thead>\n",
       "  <tbody>\n",
       "    <tr>\n",
       "      <th>0</th>\n",
       "      <td>47</td>\n",
       "      <td>1</td>\n",
       "      <td>Alexey_Smirnov</td>\n",
       "      <td>2020-12-03</td>\n",
       "    </tr>\n",
       "    <tr>\n",
       "      <th>2</th>\n",
       "      <td>47</td>\n",
       "      <td>3</td>\n",
       "      <td>Alexey_Smirnov</td>\n",
       "      <td>2020-12-09</td>\n",
       "    </tr>\n",
       "    <tr>\n",
       "      <th>3</th>\n",
       "      <td>47</td>\n",
       "      <td>4</td>\n",
       "      <td>Alexey_Smirnov</td>\n",
       "      <td>2020-12-10</td>\n",
       "    </tr>\n",
       "    <tr>\n",
       "      <th>4</th>\n",
       "      <td>47</td>\n",
       "      <td>5</td>\n",
       "      <td>Rostislav_Petrov</td>\n",
       "      <td>2020-12-09</td>\n",
       "    </tr>\n",
       "    <tr>\n",
       "      <th>5</th>\n",
       "      <td>47</td>\n",
       "      <td>6</td>\n",
       "      <td>Rostislav_Petrov</td>\n",
       "      <td>2020-12-10</td>\n",
       "    </tr>\n",
       "  </tbody>\n",
       "</table>\n",
       "</div>"
      ],
      "text/plain": [
       "   product_id  quantity              name        date\n",
       "0          47         1    Alexey_Smirnov  2020-12-03\n",
       "2          47         3    Alexey_Smirnov  2020-12-09\n",
       "3          47         4    Alexey_Smirnov  2020-12-10\n",
       "4          47         5  Rostislav_Petrov  2020-12-09\n",
       "5          47         6  Rostislav_Petrov  2020-12-10"
      ]
     },
     "execution_count": 122,
     "metadata": {},
     "output_type": "execute_result"
    }
   ],
   "source": [
    "df.drop_duplicates(subset=['product_id', 'name', 'date'])"
   ]
  },
  {
   "cell_type": "code",
   "execution_count": 131,
   "id": "7ca19759",
   "metadata": {},
   "outputs": [
    {
     "data": {
      "text/html": [
       "<div>\n",
       "<style scoped>\n",
       "    .dataframe tbody tr th:only-of-type {\n",
       "        vertical-align: middle;\n",
       "    }\n",
       "\n",
       "    .dataframe tbody tr th {\n",
       "        vertical-align: top;\n",
       "    }\n",
       "\n",
       "    .dataframe thead th {\n",
       "        text-align: right;\n",
       "    }\n",
       "</style>\n",
       "<table border=\"1\" class=\"dataframe\">\n",
       "  <thead>\n",
       "    <tr style=\"text-align: right;\">\n",
       "      <th></th>\n",
       "      <th>product_id</th>\n",
       "      <th>name</th>\n",
       "      <th>quantity</th>\n",
       "    </tr>\n",
       "  </thead>\n",
       "  <tbody>\n",
       "    <tr>\n",
       "      <th>0</th>\n",
       "      <td>47</td>\n",
       "      <td>Alexey_Smirnov</td>\n",
       "      <td>3</td>\n",
       "    </tr>\n",
       "    <tr>\n",
       "      <th>1</th>\n",
       "      <td>47</td>\n",
       "      <td>Rostislav_Petrov</td>\n",
       "      <td>2</td>\n",
       "    </tr>\n",
       "  </tbody>\n",
       "</table>\n",
       "</div>"
      ],
      "text/plain": [
       "   product_id              name  quantity\n",
       "0          47    Alexey_Smirnov         3\n",
       "1          47  Rostislav_Petrov         2"
      ]
     },
     "execution_count": 131,
     "metadata": {},
     "output_type": "execute_result"
    }
   ],
   "source": [
    "df.drop_duplicates(subset=['product_id', 'name', 'date']) \\\n",
    ".groupby(['product_id', 'name'], as_index=False) \\\n",
    ".agg({'quantity': 'count'}) # 2 человека, каунт по продукт айди, где quantity > 1"
   ]
  },
  {
   "cell_type": "code",
   "execution_count": 109,
   "id": "4380974b",
   "metadata": {},
   "outputs": [
    {
     "data": {
      "text/html": [
       "<div>\n",
       "<style scoped>\n",
       "    .dataframe tbody tr th:only-of-type {\n",
       "        vertical-align: middle;\n",
       "    }\n",
       "\n",
       "    .dataframe tbody tr th {\n",
       "        vertical-align: top;\n",
       "    }\n",
       "\n",
       "    .dataframe thead th {\n",
       "        text-align: right;\n",
       "    }\n",
       "</style>\n",
       "<table border=\"1\" class=\"dataframe\">\n",
       "  <thead>\n",
       "    <tr style=\"text-align: right;\">\n",
       "      <th></th>\n",
       "      <th>product_id</th>\n",
       "      <th>quantity</th>\n",
       "      <th>name</th>\n",
       "      <th>date</th>\n",
       "    </tr>\n",
       "  </thead>\n",
       "  <tbody>\n",
       "    <tr>\n",
       "      <th>0</th>\n",
       "      <td>47</td>\n",
       "      <td>1</td>\n",
       "      <td>Alexey_Smirnov</td>\n",
       "      <td>2020-12-03</td>\n",
       "    </tr>\n",
       "    <tr>\n",
       "      <th>1</th>\n",
       "      <td>57</td>\n",
       "      <td>1</td>\n",
       "      <td>Alexey_Smirnov</td>\n",
       "      <td>2020-12-03</td>\n",
       "    </tr>\n",
       "    <tr>\n",
       "      <th>2</th>\n",
       "      <td>14</td>\n",
       "      <td>2</td>\n",
       "      <td>Alexey_Smirnov</td>\n",
       "      <td>2020-12-03</td>\n",
       "    </tr>\n",
       "    <tr>\n",
       "      <th>3</th>\n",
       "      <td>52</td>\n",
       "      <td>1</td>\n",
       "      <td>Alexey_Smirnov</td>\n",
       "      <td>2020-12-03</td>\n",
       "    </tr>\n",
       "    <tr>\n",
       "      <th>4</th>\n",
       "      <td>1</td>\n",
       "      <td>4</td>\n",
       "      <td>Alexey_Smirnov</td>\n",
       "      <td>2020-12-03</td>\n",
       "    </tr>\n",
       "    <tr>\n",
       "      <th>...</th>\n",
       "      <td>...</td>\n",
       "      <td>...</td>\n",
       "      <td>...</td>\n",
       "      <td>...</td>\n",
       "    </tr>\n",
       "    <tr>\n",
       "      <th>156</th>\n",
       "      <td>66</td>\n",
       "      <td>4</td>\n",
       "      <td>Rostislav_Petrov</td>\n",
       "      <td>2020-12-09</td>\n",
       "    </tr>\n",
       "    <tr>\n",
       "      <th>157</th>\n",
       "      <td>39</td>\n",
       "      <td>2</td>\n",
       "      <td>Rostislav_Petrov</td>\n",
       "      <td>2020-12-09</td>\n",
       "    </tr>\n",
       "    <tr>\n",
       "      <th>158</th>\n",
       "      <td>82</td>\n",
       "      <td>4</td>\n",
       "      <td>Vasiliy_Ivanov</td>\n",
       "      <td>2020-12-09</td>\n",
       "    </tr>\n",
       "    <tr>\n",
       "      <th>159</th>\n",
       "      <td>74</td>\n",
       "      <td>2</td>\n",
       "      <td>Vasiliy_Ivanov</td>\n",
       "      <td>2020-12-09</td>\n",
       "    </tr>\n",
       "    <tr>\n",
       "      <th>160</th>\n",
       "      <td>54</td>\n",
       "      <td>3</td>\n",
       "      <td>Vasiliy_Ivanov</td>\n",
       "      <td>2020-12-09</td>\n",
       "    </tr>\n",
       "  </tbody>\n",
       "</table>\n",
       "<p>160 rows × 4 columns</p>\n",
       "</div>"
      ],
      "text/plain": [
       "     product_id  quantity              name        date\n",
       "0            47         1    Alexey_Smirnov  2020-12-03\n",
       "1            57         1    Alexey_Smirnov  2020-12-03\n",
       "2            14         2    Alexey_Smirnov  2020-12-03\n",
       "3            52         1    Alexey_Smirnov  2020-12-03\n",
       "4             1         4    Alexey_Smirnov  2020-12-03\n",
       "..          ...       ...               ...         ...\n",
       "156          66         4  Rostislav_Petrov  2020-12-09\n",
       "157          39         2  Rostislav_Petrov  2020-12-09\n",
       "158          82         4    Vasiliy_Ivanov  2020-12-09\n",
       "159          74         2    Vasiliy_Ivanov  2020-12-09\n",
       "160          54         3    Vasiliy_Ivanov  2020-12-09\n",
       "\n",
       "[160 rows x 4 columns]"
      ]
     },
     "execution_count": 109,
     "metadata": {},
     "output_type": "execute_result"
    }
   ],
   "source": [
    "table.drop_duplicates(subset=['product_id', 'name', 'date'])"
   ]
  },
  {
   "cell_type": "code",
   "execution_count": 133,
   "id": "0ed2f6fe",
   "metadata": {},
   "outputs": [
    {
     "data": {
      "text/html": [
       "<div>\n",
       "<style scoped>\n",
       "    .dataframe tbody tr th:only-of-type {\n",
       "        vertical-align: middle;\n",
       "    }\n",
       "\n",
       "    .dataframe tbody tr th {\n",
       "        vertical-align: top;\n",
       "    }\n",
       "\n",
       "    .dataframe thead th {\n",
       "        text-align: right;\n",
       "    }\n",
       "</style>\n",
       "<table border=\"1\" class=\"dataframe\">\n",
       "  <thead>\n",
       "    <tr style=\"text-align: right;\">\n",
       "      <th></th>\n",
       "      <th>product_id</th>\n",
       "      <th>name</th>\n",
       "      <th>quantity</th>\n",
       "    </tr>\n",
       "  </thead>\n",
       "  <tbody>\n",
       "    <tr>\n",
       "      <th>24</th>\n",
       "      <td>15</td>\n",
       "      <td>Anton_Ivanov</td>\n",
       "      <td>2</td>\n",
       "    </tr>\n",
       "    <tr>\n",
       "      <th>150</th>\n",
       "      <td>94</td>\n",
       "      <td>Petr_Fedorov</td>\n",
       "      <td>2</td>\n",
       "    </tr>\n",
       "  </tbody>\n",
       "</table>\n",
       "</div>"
      ],
      "text/plain": [
       "     product_id          name  quantity\n",
       "24           15  Anton_Ivanov         2\n",
       "150          94  Petr_Fedorov         2"
      ]
     },
     "execution_count": 133,
     "metadata": {},
     "output_type": "execute_result"
    }
   ],
   "source": [
    "table.drop_duplicates(subset=['product_id', 'name', 'date']) \\\n",
    ".groupby(['product_id', 'name'], as_index=False) \\\n",
    ".agg({'quantity': 'count'}) \\\n",
    ".query('quantity > 1')"
   ]
  },
  {
   "cell_type": "code",
   "execution_count": 134,
   "id": "8ab715a6",
   "metadata": {},
   "outputs": [
    {
     "data": {
      "text/html": [
       "<div>\n",
       "<style scoped>\n",
       "    .dataframe tbody tr th:only-of-type {\n",
       "        vertical-align: middle;\n",
       "    }\n",
       "\n",
       "    .dataframe tbody tr th {\n",
       "        vertical-align: top;\n",
       "    }\n",
       "\n",
       "    .dataframe thead th {\n",
       "        text-align: right;\n",
       "    }\n",
       "</style>\n",
       "<table border=\"1\" class=\"dataframe\">\n",
       "  <thead>\n",
       "    <tr style=\"text-align: right;\">\n",
       "      <th></th>\n",
       "      <th>product_id</th>\n",
       "      <th>name</th>\n",
       "      <th>quantity</th>\n",
       "    </tr>\n",
       "  </thead>\n",
       "  <tbody>\n",
       "    <tr>\n",
       "      <th>0</th>\n",
       "      <td>0</td>\n",
       "      <td>Vasiliy_Ivanov</td>\n",
       "      <td>1</td>\n",
       "    </tr>\n",
       "    <tr>\n",
       "      <th>1</th>\n",
       "      <td>1</td>\n",
       "      <td>Alexey_Smirnov</td>\n",
       "      <td>1</td>\n",
       "    </tr>\n",
       "    <tr>\n",
       "      <th>2</th>\n",
       "      <td>3</td>\n",
       "      <td>Kirill_Fedorov</td>\n",
       "      <td>1</td>\n",
       "    </tr>\n",
       "    <tr>\n",
       "      <th>3</th>\n",
       "      <td>3</td>\n",
       "      <td>Petr_Smirnov</td>\n",
       "      <td>1</td>\n",
       "    </tr>\n",
       "    <tr>\n",
       "      <th>4</th>\n",
       "      <td>4</td>\n",
       "      <td>Alexey_Smirnov</td>\n",
       "      <td>1</td>\n",
       "    </tr>\n",
       "    <tr>\n",
       "      <th>...</th>\n",
       "      <td>...</td>\n",
       "      <td>...</td>\n",
       "      <td>...</td>\n",
       "    </tr>\n",
       "    <tr>\n",
       "      <th>153</th>\n",
       "      <td>95</td>\n",
       "      <td>Vasiliy_Ivanov</td>\n",
       "      <td>1</td>\n",
       "    </tr>\n",
       "    <tr>\n",
       "      <th>154</th>\n",
       "      <td>96</td>\n",
       "      <td>Petr_Smirnov</td>\n",
       "      <td>1</td>\n",
       "    </tr>\n",
       "    <tr>\n",
       "      <th>155</th>\n",
       "      <td>97</td>\n",
       "      <td>Vasiliy_Fedorov</td>\n",
       "      <td>1</td>\n",
       "    </tr>\n",
       "    <tr>\n",
       "      <th>156</th>\n",
       "      <td>99</td>\n",
       "      <td>Alexey_Fedorov</td>\n",
       "      <td>1</td>\n",
       "    </tr>\n",
       "    <tr>\n",
       "      <th>157</th>\n",
       "      <td>99</td>\n",
       "      <td>Rostislav_Smirnov</td>\n",
       "      <td>1</td>\n",
       "    </tr>\n",
       "  </tbody>\n",
       "</table>\n",
       "<p>158 rows × 3 columns</p>\n",
       "</div>"
      ],
      "text/plain": [
       "     product_id               name  quantity\n",
       "0             0     Vasiliy_Ivanov         1\n",
       "1             1     Alexey_Smirnov         1\n",
       "2             3     Kirill_Fedorov         1\n",
       "3             3       Petr_Smirnov         1\n",
       "4             4     Alexey_Smirnov         1\n",
       "..          ...                ...       ...\n",
       "153          95     Vasiliy_Ivanov         1\n",
       "154          96       Petr_Smirnov         1\n",
       "155          97    Vasiliy_Fedorov         1\n",
       "156          99     Alexey_Fedorov         1\n",
       "157          99  Rostislav_Smirnov         1\n",
       "\n",
       "[158 rows x 3 columns]"
      ]
     },
     "execution_count": 134,
     "metadata": {},
     "output_type": "execute_result"
    }
   ],
   "source": [
    "table.drop_duplicates(subset=['product_id', 'name', 'date']) \\\n",
    ".groupby(['product_id', 'name'], as_index=False) \\\n",
    ".agg({'quantity': 'count'})"
   ]
  },
  {
   "cell_type": "markdown",
   "id": "3820c182",
   "metadata": {},
   "source": [
    "## И небольшой минипроект на фильтрацию данных!\n",
    "\n",
    "Имеется таблица с записями о компаниях, включая их ИНН, и отдельный текстовый файл с набором ИНН (колонка head_inn), которые хранятся в папке 4_inn.\n",
    "## Задачи:\n",
    "- извлечь из таблицы записи с ИНН, указанными в текстовом файле\n",
    "- записать результат в файл selected_inn.csv"
   ]
  },
  {
   "cell_type": "code",
   "execution_count": 149,
   "id": "232c5f04",
   "metadata": {},
   "outputs": [],
   "source": [
    "inn_text = pd.read_csv(r\"F:\\Загрузки\\4_necessary_inn.txt\", header=None)"
   ]
  },
  {
   "cell_type": "code",
   "execution_count": 156,
   "id": "449be317",
   "metadata": {},
   "outputs": [],
   "source": [
    "all_companies = pd.read_excel(r\"F:\\Загрузки\\4_inn.xls\")"
   ]
  },
  {
   "cell_type": "code",
   "execution_count": 160,
   "id": "b5ae22c1",
   "metadata": {},
   "outputs": [
    {
     "data": {
      "text/plain": [
       "(115, 1)"
      ]
     },
     "execution_count": 160,
     "metadata": {},
     "output_type": "execute_result"
    }
   ],
   "source": [
    "inn_text = inn_text.rename(columns={0: 'inn'})\n",
    "inn_text.shape"
   ]
  },
  {
   "cell_type": "code",
   "execution_count": 157,
   "id": "28cd3150",
   "metadata": {},
   "outputs": [],
   "source": [
    "all_companies = all_companies.rename(columns={'head_inn': 'inn'})"
   ]
  },
  {
   "cell_type": "code",
   "execution_count": 158,
   "id": "4188d03a",
   "metadata": {},
   "outputs": [],
   "source": [
    "final_table = all_companies.merge(inn_text, on='inn')"
   ]
  },
  {
   "cell_type": "code",
   "execution_count": 162,
   "id": "d7937b0b",
   "metadata": {},
   "outputs": [],
   "source": [
    "selected_inn = final_table"
   ]
  },
  {
   "cell_type": "code",
   "execution_count": 163,
   "id": "8644729e",
   "metadata": {},
   "outputs": [],
   "source": [
    "selected_inn.to_csv('selected_inn.csv')"
   ]
  },
  {
   "cell_type": "markdown",
   "id": "acde4be0",
   "metadata": {},
   "source": [
    "## В качестве проверки укажите сумму колонки income,RUB в отобранных данных."
   ]
  },
  {
   "cell_type": "code",
   "execution_count": 165,
   "id": "e5bffaf9",
   "metadata": {},
   "outputs": [
    {
     "data": {
      "text/html": [
       "<div>\n",
       "<style scoped>\n",
       "    .dataframe tbody tr th:only-of-type {\n",
       "        vertical-align: middle;\n",
       "    }\n",
       "\n",
       "    .dataframe tbody tr th {\n",
       "        vertical-align: top;\n",
       "    }\n",
       "\n",
       "    .dataframe thead th {\n",
       "        text-align: right;\n",
       "    }\n",
       "</style>\n",
       "<table border=\"1\" class=\"dataframe\">\n",
       "  <thead>\n",
       "    <tr style=\"text-align: right;\">\n",
       "      <th></th>\n",
       "      <th>Unnamed: 0</th>\n",
       "      <th>#</th>\n",
       "      <th>name</th>\n",
       "      <th>reg_number</th>\n",
       "      <th>address</th>\n",
       "      <th>head</th>\n",
       "      <th>head_job</th>\n",
       "      <th>inn</th>\n",
       "      <th>phone</th>\n",
       "      <th>email</th>\n",
       "      <th>site</th>\n",
       "      <th>registration_date</th>\n",
       "      <th>nalogoplatelschik_code</th>\n",
       "      <th>oktmo_code</th>\n",
       "      <th>okato_code</th>\n",
       "      <th>registration_region</th>\n",
       "      <th>okato_name</th>\n",
       "      <th>field</th>\n",
       "      <th>capital,RUB</th>\n",
       "      <th>income,RUB</th>\n",
       "    </tr>\n",
       "  </thead>\n",
       "  <tbody>\n",
       "    <tr>\n",
       "      <th>0</th>\n",
       "      <td>47</td>\n",
       "      <td>47</td>\n",
       "      <td>Пермэнергосбыт</td>\n",
       "      <td>6417532956774</td>\n",
       "      <td>ст. Слюдянка, пер. Брянский, д. 378 стр. 634, ...</td>\n",
       "      <td>Емельян Феликсович Зайцев</td>\n",
       "      <td>Релайтер</td>\n",
       "      <td>175482780898</td>\n",
       "      <td>8 833 729 83 14</td>\n",
       "      <td>boleslav28@gmail.com</td>\n",
       "      <td>krilova.net</td>\n",
       "      <td>1986-03-20</td>\n",
       "      <td>1998-02-11</td>\n",
       "      <td>47158105405</td>\n",
       "      <td>10234283083</td>\n",
       "      <td>Novosilikatnyy</td>\n",
       "      <td>г. Кропоткин (Краснод.), пр. Лесный, д. 8/3 к....</td>\n",
       "      <td>Разработка подробных результатов</td>\n",
       "      <td>44637351562</td>\n",
       "      <td>67534335517</td>\n",
       "    </tr>\n",
       "    <tr>\n",
       "      <th>1</th>\n",
       "      <td>76</td>\n",
       "      <td>76</td>\n",
       "      <td>ЗАО «Кабанова Ковалев»</td>\n",
       "      <td>9343329412518</td>\n",
       "      <td>с. Нарткала, ул. Верхняя, д. 68 стр. 1, 393309</td>\n",
       "      <td>Геннадий Денисович Григорьев</td>\n",
       "      <td>Бондарь</td>\n",
       "      <td>120708914823</td>\n",
       "      <td>+7 455 632 1053</td>\n",
       "      <td>kapustinjulian@oao.com</td>\n",
       "      <td>ao.ru</td>\n",
       "      <td>2011-09-28</td>\n",
       "      <td>1983-11-10</td>\n",
       "      <td>20653722407</td>\n",
       "      <td>92544205998</td>\n",
       "      <td>Severodvinsk</td>\n",
       "      <td>д. Москва, МГУ, бул. Транспортный, д. 75 стр. ...</td>\n",
       "      <td>Монетизация передовых действий</td>\n",
       "      <td>78570288945</td>\n",
       "      <td>19932336080</td>\n",
       "    </tr>\n",
       "    <tr>\n",
       "      <th>2</th>\n",
       "      <td>77</td>\n",
       "      <td>77</td>\n",
       "      <td>Неофарм</td>\n",
       "      <td>3813743111150</td>\n",
       "      <td>г. Долинск, ш. Московское, д. 25 к. 5, 227970</td>\n",
       "      <td>Юрий Архипович Богданов</td>\n",
       "      <td>Полицейский</td>\n",
       "      <td>663119569897</td>\n",
       "      <td>+7 077 854 47 31</td>\n",
       "      <td>bazhen41@matveeva.net</td>\n",
       "      <td>ao.com</td>\n",
       "      <td>2019-01-30</td>\n",
       "      <td>1986-09-01</td>\n",
       "      <td>96067740308</td>\n",
       "      <td>47030638090</td>\n",
       "      <td>Kovylkino</td>\n",
       "      <td>с. Сладково, наб. Вавилова, д. 62 к. 627, 198606</td>\n",
       "      <td>Эксплуатация круглосуточных пользователей</td>\n",
       "      <td>30634104861</td>\n",
       "      <td>3103853229</td>\n",
       "    </tr>\n",
       "    <tr>\n",
       "      <th>3</th>\n",
       "      <td>85</td>\n",
       "      <td>85</td>\n",
       "      <td>Арконик СМЗ</td>\n",
       "      <td>7465966885549</td>\n",
       "      <td>п. Тобольск, ул. Лунная, д. 375 стр. 724, 119588</td>\n",
       "      <td>Аникей Артёмович Павлов</td>\n",
       "      <td>Оперативный работник</td>\n",
       "      <td>722903871682</td>\n",
       "      <td>8 120 448 48 45</td>\n",
       "      <td>emeljan_75@gmail.com</td>\n",
       "      <td>ao.com</td>\n",
       "      <td>2004-08-10</td>\n",
       "      <td>2012-04-01</td>\n",
       "      <td>79166677871</td>\n",
       "      <td>45647356291</td>\n",
       "      <td>Otradnyy</td>\n",
       "      <td>клх Миасс, пер. Тургенева, д. 4/2 к. 8, 505443</td>\n",
       "      <td>Использование серверных диапазонов</td>\n",
       "      <td>85286893329</td>\n",
       "      <td>8607813826</td>\n",
       "    </tr>\n",
       "    <tr>\n",
       "      <th>4</th>\n",
       "      <td>90</td>\n",
       "      <td>90</td>\n",
       "      <td>Фармперспектива</td>\n",
       "      <td>6205521489390</td>\n",
       "      <td>к. Горно-Алтайск, ул. Степана Разина, д. 646 с...</td>\n",
       "      <td>Шашков Алексей Богданович</td>\n",
       "      <td>Фортификатор</td>\n",
       "      <td>837771137752</td>\n",
       "      <td>88711723244</td>\n",
       "      <td>ustinovaoksana@gmail.com</td>\n",
       "      <td>npo.biz</td>\n",
       "      <td>1982-05-29</td>\n",
       "      <td>1981-10-10</td>\n",
       "      <td>13185275127</td>\n",
       "      <td>67033649508</td>\n",
       "      <td>Ishim</td>\n",
       "      <td>клх Кунгур, ш. Запрудное, д. 13, 038583</td>\n",
       "      <td>Максимизация мультимедийных интерфейсов</td>\n",
       "      <td>88304638400</td>\n",
       "      <td>29181260019</td>\n",
       "    </tr>\n",
       "  </tbody>\n",
       "</table>\n",
       "</div>"
      ],
      "text/plain": [
       "   Unnamed: 0   #                    name     reg_number  \\\n",
       "0          47  47          Пермэнергосбыт  6417532956774   \n",
       "1          76  76  ЗАО «Кабанова Ковалев»  9343329412518   \n",
       "2          77  77                 Неофарм  3813743111150   \n",
       "3          85  85             Арконик СМЗ  7465966885549   \n",
       "4          90  90         Фармперспектива  6205521489390   \n",
       "\n",
       "                                             address  \\\n",
       "0  ст. Слюдянка, пер. Брянский, д. 378 стр. 634, ...   \n",
       "1     с. Нарткала, ул. Верхняя, д. 68 стр. 1, 393309   \n",
       "2      г. Долинск, ш. Московское, д. 25 к. 5, 227970   \n",
       "3   п. Тобольск, ул. Лунная, д. 375 стр. 724, 119588   \n",
       "4  к. Горно-Алтайск, ул. Степана Разина, д. 646 с...   \n",
       "\n",
       "                           head              head_job           inn  \\\n",
       "0     Емельян Феликсович Зайцев              Релайтер  175482780898   \n",
       "1  Геннадий Денисович Григорьев               Бондарь  120708914823   \n",
       "2       Юрий Архипович Богданов           Полицейский  663119569897   \n",
       "3       Аникей Артёмович Павлов  Оперативный работник  722903871682   \n",
       "4     Шашков Алексей Богданович          Фортификатор  837771137752   \n",
       "\n",
       "              phone                     email         site registration_date  \\\n",
       "0   8 833 729 83 14      boleslav28@gmail.com  krilova.net        1986-03-20   \n",
       "1   +7 455 632 1053    kapustinjulian@oao.com        ao.ru        2011-09-28   \n",
       "2  +7 077 854 47 31     bazhen41@matveeva.net       ao.com        2019-01-30   \n",
       "3   8 120 448 48 45      emeljan_75@gmail.com       ao.com        2004-08-10   \n",
       "4       88711723244  ustinovaoksana@gmail.com      npo.biz        1982-05-29   \n",
       "\n",
       "  nalogoplatelschik_code   oktmo_code   okato_code registration_region  \\\n",
       "0             1998-02-11  47158105405  10234283083      Novosilikatnyy   \n",
       "1             1983-11-10  20653722407  92544205998        Severodvinsk   \n",
       "2             1986-09-01  96067740308  47030638090           Kovylkino   \n",
       "3             2012-04-01  79166677871  45647356291            Otradnyy   \n",
       "4             1981-10-10  13185275127  67033649508               Ishim   \n",
       "\n",
       "                                          okato_name  \\\n",
       "0  г. Кропоткин (Краснод.), пр. Лесный, д. 8/3 к....   \n",
       "1  д. Москва, МГУ, бул. Транспортный, д. 75 стр. ...   \n",
       "2   с. Сладково, наб. Вавилова, д. 62 к. 627, 198606   \n",
       "3     клх Миасс, пер. Тургенева, д. 4/2 к. 8, 505443   \n",
       "4            клх Кунгур, ш. Запрудное, д. 13, 038583   \n",
       "\n",
       "                                       field  capital,RUB   income,RUB  \n",
       "0           Разработка подробных результатов  44637351562  67534335517  \n",
       "1             Монетизация передовых действий  78570288945  19932336080  \n",
       "2  Эксплуатация круглосуточных пользователей  30634104861   3103853229  \n",
       "3         Использование серверных диапазонов  85286893329   8607813826  \n",
       "4    Максимизация мультимедийных интерфейсов  88304638400  29181260019  "
      ]
     },
     "execution_count": 165,
     "metadata": {},
     "output_type": "execute_result"
    }
   ],
   "source": [
    "selected_inn.head()"
   ]
  },
  {
   "cell_type": "code",
   "execution_count": 166,
   "id": "d503ea3e",
   "metadata": {},
   "outputs": [
    {
     "data": {
      "text/plain": [
       "6104522627393"
      ]
     },
     "execution_count": 166,
     "metadata": {},
     "output_type": "execute_result"
    }
   ],
   "source": [
    "selected_inn['income,RUB'].sum()"
   ]
  }
 ],
 "metadata": {
  "kernelspec": {
   "display_name": "Python 3 (ipykernel)",
   "language": "python",
   "name": "python3"
  },
  "language_info": {
   "codemirror_mode": {
    "name": "ipython",
    "version": 3
   },
   "file_extension": ".py",
   "mimetype": "text/x-python",
   "name": "python",
   "nbconvert_exporter": "python",
   "pygments_lexer": "ipython3",
   "version": "3.9.12"
  }
 },
 "nbformat": 4,
 "nbformat_minor": 5
}
