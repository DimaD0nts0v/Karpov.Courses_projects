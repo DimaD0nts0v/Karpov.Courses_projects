{
 "cells": [
  {
   "cell_type": "code",
   "execution_count": 2,
   "metadata": {},
   "outputs": [
    {
     "name": "stdout",
     "output_type": "stream",
     "text": [
      "Defaulting to user installation because normal site-packages is not writeable\n",
      "Requirement already satisfied: bootstrapped in /mnt/HC_Volume_18315164/home-jupyter/jupyter-d-dontsov/.local/lib/python3.7/site-packages (0.0.2)\n",
      "Requirement already satisfied: matplotlib>=1.5.3 in /opt/tljh/user/lib/python3.7/site-packages (from bootstrapped) (3.2.1)\n",
      "Requirement already satisfied: pandas>=0.18.1 in /opt/tljh/user/lib/python3.7/site-packages (from bootstrapped) (1.1.2)\n",
      "Requirement already satisfied: numpy>=1.11.1 in /opt/tljh/user/lib/python3.7/site-packages (from bootstrapped) (1.21.2)\n",
      "Requirement already satisfied: pyparsing!=2.0.4,!=2.1.2,!=2.1.6,>=2.0.1 in /opt/tljh/user/lib/python3.7/site-packages (from matplotlib>=1.5.3->bootstrapped) (2.4.7)\n",
      "Requirement already satisfied: kiwisolver>=1.0.1 in /opt/tljh/user/lib/python3.7/site-packages (from matplotlib>=1.5.3->bootstrapped) (1.2.0)\n",
      "Requirement already satisfied: python-dateutil>=2.1 in /opt/tljh/user/lib/python3.7/site-packages (from matplotlib>=1.5.3->bootstrapped) (2.8.1)\n",
      "Requirement already satisfied: cycler>=0.10 in /opt/tljh/user/lib/python3.7/site-packages (from matplotlib>=1.5.3->bootstrapped) (0.10.0)\n",
      "Requirement already satisfied: pytz>=2017.2 in /opt/tljh/user/lib/python3.7/site-packages (from pandas>=0.18.1->bootstrapped) (2020.1)\n",
      "Requirement already satisfied: six in /opt/tljh/user/lib/python3.7/site-packages (from cycler>=0.10->matplotlib>=1.5.3->bootstrapped) (1.12.0)\n",
      "Note: you may need to restart the kernel to use updated packages.\n"
     ]
    }
   ],
   "source": [
    "pip install bootstrapped"
   ]
  },
  {
   "cell_type": "code",
   "execution_count": 3,
   "metadata": {},
   "outputs": [],
   "source": [
    "import pandas as pd\n",
    "import numpy as np\n",
    "import seaborn as sns\n",
    "import scipy.stats as ss\n",
    "from tqdm.auto import tqdm\n",
    "import matplotlib.pyplot as plt\n",
    "\n",
    "from statsmodels.stats.power import GofChisquarePower\n",
    "from statsmodels.stats.power import TTestPower\n",
    "from sklearn.model_selection import train_test_split\n",
    "\n",
    "import pandahouse as ph\n",
    "\n",
    "import bootstrapped.bootstrap as bs\n",
    "import bootstrapped.compare_functions as bs_compare\n",
    "import bootstrapped.stats_functions as bs_stats"
   ]
  },
  {
   "cell_type": "markdown",
   "metadata": {},
   "source": [
    "# Задание 1. A/B–тестирование\n",
    "**1.1 Условие**\n",
    "\n",
    "Одной из основных задач аналитика в нашей команде является корректное проведение экспериментов. Для этого мы применяем метод A/B–тестирования. В ходе тестирования одной гипотезы целевой группе была предложена новая механика оплаты услуг на сайте, у контрольной группы оставалась базовая механика. В качестве задания Вам необходимо проанализировать итоги эксперимента и сделать вывод, стоит ли запускать новую механику оплаты на всех пользователей.\n",
    "\n",
    "**1.2 Входные данные**\n",
    "\n",
    "В качестве входных данных Вы имеете 4 csv-файла:\n",
    "\n",
    "- groups.csv - файл с информацией о принадлежности пользователя к контрольной или экспериментальной группе (А – контроль, B – целевая группа) \n",
    "- groups_add.csv - дополнительный файл с пользователями, который вам прислали спустя 2 дня после передачи данных\n",
    "- active_studs.csv - файл с информацией о пользователях, которые зашли на платформу в дни проведения эксперимента. \n",
    "- checks.csv - файл с информацией об оплатах пользователей в дни проведения эксперимента. "
   ]
  },
  {
   "cell_type": "code",
   "execution_count": 4,
   "metadata": {},
   "outputs": [
    {
     "data": {
      "text/html": [
       "<div>\n",
       "<style scoped>\n",
       "    .dataframe tbody tr th:only-of-type {\n",
       "        vertical-align: middle;\n",
       "    }\n",
       "\n",
       "    .dataframe tbody tr th {\n",
       "        vertical-align: top;\n",
       "    }\n",
       "\n",
       "    .dataframe thead th {\n",
       "        text-align: right;\n",
       "    }\n",
       "</style>\n",
       "<table border=\"1\" class=\"dataframe\">\n",
       "  <thead>\n",
       "    <tr style=\"text-align: right;\">\n",
       "      <th></th>\n",
       "      <th>id</th>\n",
       "      <th>grp</th>\n",
       "    </tr>\n",
       "  </thead>\n",
       "  <tbody>\n",
       "    <tr>\n",
       "      <th>0</th>\n",
       "      <td>1489</td>\n",
       "      <td>B</td>\n",
       "    </tr>\n",
       "    <tr>\n",
       "      <th>1</th>\n",
       "      <td>1627</td>\n",
       "      <td>A</td>\n",
       "    </tr>\n",
       "    <tr>\n",
       "      <th>2</th>\n",
       "      <td>1768</td>\n",
       "      <td>B</td>\n",
       "    </tr>\n",
       "    <tr>\n",
       "      <th>3</th>\n",
       "      <td>1783</td>\n",
       "      <td>B</td>\n",
       "    </tr>\n",
       "    <tr>\n",
       "      <th>4</th>\n",
       "      <td>1794</td>\n",
       "      <td>A</td>\n",
       "    </tr>\n",
       "  </tbody>\n",
       "</table>\n",
       "</div>"
      ],
      "text/plain": [
       "     id grp\n",
       "0  1489   B\n",
       "1  1627   A\n",
       "2  1768   B\n",
       "3  1783   B\n",
       "4  1794   A"
      ]
     },
     "execution_count": 4,
     "metadata": {},
     "output_type": "execute_result"
    }
   ],
   "source": [
    "# сами файлы не залил, как было указано в задании\n",
    "try:\n",
    "    groups = pd.read_csv('https://getfile.dokpub.com/yandex/get/https://disk.yandex.ru/d/UhyYx41rTt3clQ', sep=';')\n",
    "except:\n",
    "    groups = pd.read_csv('2_groups.csv', sep=';')\n",
    "groups.head()"
   ]
  },
  {
   "cell_type": "code",
   "execution_count": 5,
   "metadata": {},
   "outputs": [
    {
     "data": {
      "text/html": [
       "<div>\n",
       "<style scoped>\n",
       "    .dataframe tbody tr th:only-of-type {\n",
       "        vertical-align: middle;\n",
       "    }\n",
       "\n",
       "    .dataframe tbody tr th {\n",
       "        vertical-align: top;\n",
       "    }\n",
       "\n",
       "    .dataframe thead th {\n",
       "        text-align: right;\n",
       "    }\n",
       "</style>\n",
       "<table border=\"1\" class=\"dataframe\">\n",
       "  <thead>\n",
       "    <tr style=\"text-align: right;\">\n",
       "      <th></th>\n",
       "      <th>id</th>\n",
       "      <th>grp</th>\n",
       "    </tr>\n",
       "  </thead>\n",
       "  <tbody>\n",
       "    <tr>\n",
       "      <th>0</th>\n",
       "      <td>5694584</td>\n",
       "      <td>B</td>\n",
       "    </tr>\n",
       "    <tr>\n",
       "      <th>1</th>\n",
       "      <td>5694830</td>\n",
       "      <td>B</td>\n",
       "    </tr>\n",
       "    <tr>\n",
       "      <th>2</th>\n",
       "      <td>5695057</td>\n",
       "      <td>B</td>\n",
       "    </tr>\n",
       "    <tr>\n",
       "      <th>3</th>\n",
       "      <td>5698872</td>\n",
       "      <td>B</td>\n",
       "    </tr>\n",
       "    <tr>\n",
       "      <th>4</th>\n",
       "      <td>5699067</td>\n",
       "      <td>B</td>\n",
       "    </tr>\n",
       "  </tbody>\n",
       "</table>\n",
       "</div>"
      ],
      "text/plain": [
       "        id grp\n",
       "0  5694584   B\n",
       "1  5694830   B\n",
       "2  5695057   B\n",
       "3  5698872   B\n",
       "4  5699067   B"
      ]
     },
     "execution_count": 5,
     "metadata": {},
     "output_type": "execute_result"
    }
   ],
   "source": [
    "try:\n",
    "    groups_add = pd.read_csv('https://getfile.dokpub.com/yandex/get/https://disk.yandex.ru/d/5Kxrz02m3IBUwQ')\n",
    "except:    \n",
    "    groups_add = pd.read_csv('2_group_add.csv')\n",
    "groups_add.head()"
   ]
  },
  {
   "cell_type": "code",
   "execution_count": 6,
   "metadata": {},
   "outputs": [
    {
     "data": {
      "text/html": [
       "<div>\n",
       "<style scoped>\n",
       "    .dataframe tbody tr th:only-of-type {\n",
       "        vertical-align: middle;\n",
       "    }\n",
       "\n",
       "    .dataframe tbody tr th {\n",
       "        vertical-align: top;\n",
       "    }\n",
       "\n",
       "    .dataframe thead th {\n",
       "        text-align: right;\n",
       "    }\n",
       "</style>\n",
       "<table border=\"1\" class=\"dataframe\">\n",
       "  <thead>\n",
       "    <tr style=\"text-align: right;\">\n",
       "      <th></th>\n",
       "      <th>student_id</th>\n",
       "    </tr>\n",
       "  </thead>\n",
       "  <tbody>\n",
       "    <tr>\n",
       "      <th>0</th>\n",
       "      <td>581585</td>\n",
       "    </tr>\n",
       "    <tr>\n",
       "      <th>1</th>\n",
       "      <td>5723133</td>\n",
       "    </tr>\n",
       "    <tr>\n",
       "      <th>2</th>\n",
       "      <td>3276743</td>\n",
       "    </tr>\n",
       "    <tr>\n",
       "      <th>3</th>\n",
       "      <td>4238589</td>\n",
       "    </tr>\n",
       "    <tr>\n",
       "      <th>4</th>\n",
       "      <td>4475369</td>\n",
       "    </tr>\n",
       "  </tbody>\n",
       "</table>\n",
       "</div>"
      ],
      "text/plain": [
       "   student_id\n",
       "0      581585\n",
       "1     5723133\n",
       "2     3276743\n",
       "3     4238589\n",
       "4     4475369"
      ]
     },
     "execution_count": 6,
     "metadata": {},
     "output_type": "execute_result"
    }
   ],
   "source": [
    "active = pd.read_csv('https://getfile.dokpub.com/yandex/get/https://disk.yandex.ru/d/ZAmSh-oO1_ZJjw')\n",
    "active.head()"
   ]
  },
  {
   "cell_type": "code",
   "execution_count": 7,
   "metadata": {},
   "outputs": [
    {
     "data": {
      "text/html": [
       "<div>\n",
       "<style scoped>\n",
       "    .dataframe tbody tr th:only-of-type {\n",
       "        vertical-align: middle;\n",
       "    }\n",
       "\n",
       "    .dataframe tbody tr th {\n",
       "        vertical-align: top;\n",
       "    }\n",
       "\n",
       "    .dataframe thead th {\n",
       "        text-align: right;\n",
       "    }\n",
       "</style>\n",
       "<table border=\"1\" class=\"dataframe\">\n",
       "  <thead>\n",
       "    <tr style=\"text-align: right;\">\n",
       "      <th></th>\n",
       "      <th>student_id</th>\n",
       "      <th>rev</th>\n",
       "    </tr>\n",
       "  </thead>\n",
       "  <tbody>\n",
       "    <tr>\n",
       "      <th>0</th>\n",
       "      <td>1627</td>\n",
       "      <td>990.0</td>\n",
       "    </tr>\n",
       "    <tr>\n",
       "      <th>1</th>\n",
       "      <td>3185</td>\n",
       "      <td>690.0</td>\n",
       "    </tr>\n",
       "    <tr>\n",
       "      <th>2</th>\n",
       "      <td>25973</td>\n",
       "      <td>690.0</td>\n",
       "    </tr>\n",
       "    <tr>\n",
       "      <th>3</th>\n",
       "      <td>26280</td>\n",
       "      <td>690.0</td>\n",
       "    </tr>\n",
       "    <tr>\n",
       "      <th>4</th>\n",
       "      <td>100300</td>\n",
       "      <td>990.0</td>\n",
       "    </tr>\n",
       "  </tbody>\n",
       "</table>\n",
       "</div>"
      ],
      "text/plain": [
       "   student_id    rev\n",
       "0        1627  990.0\n",
       "1        3185  690.0\n",
       "2       25973  690.0\n",
       "3       26280  690.0\n",
       "4      100300  990.0"
      ]
     },
     "execution_count": 7,
     "metadata": {},
     "output_type": "execute_result"
    }
   ],
   "source": [
    "checks = pd.read_csv('https://getfile.dokpub.com/yandex/get/https://disk.yandex.ru/d/Fn3ZfSjTrNdzOw', sep=';')\n",
    "checks.head()"
   ]
  },
  {
   "cell_type": "code",
   "execution_count": 8,
   "metadata": {},
   "outputs": [],
   "source": [
    "def shapes(x1, x2, x3, x4):\n",
    "    print(f'размерность первой:', x1.shape)\n",
    "    print(f'размерность второй:', x2.shape)\n",
    "    print(f'размерность третьей:', x3.shape)\n",
    "    print(f'размерность четвертой:', x4.shape)"
   ]
  },
  {
   "cell_type": "code",
   "execution_count": 9,
   "metadata": {},
   "outputs": [
    {
     "name": "stdout",
     "output_type": "stream",
     "text": [
      "размерность первой: (74484, 2)\n",
      "размерность второй: (92, 2)\n",
      "размерность третьей: (8341, 1)\n",
      "размерность четвертой: (541, 2)\n"
     ]
    }
   ],
   "source": [
    "shapes(groups, groups_add, active, checks)"
   ]
  },
  {
   "cell_type": "markdown",
   "metadata": {},
   "source": [
    "## Про метрики и сегментацию\n",
    "Никаких дополнительных данных по пользователям к сожалению нет (даты покупок, геопренадлежность и другие фичи), поэтому, если будет положительный эффект от изменения механики, то изменения будут для всех сегментов. Смотрим на общую картину.\n",
    "\n",
    "Из имеющихся данных можно посчитать CR в покупку активных пользователей, ARPAU и ARPPU. Общий CR в покупку считать смысла не вижу ввиду того, что тестируется именно механика оплаты, то есть перед этим пользователь проявил интерес к продукту и хотя бы зашел на платформу.\n",
    "\n",
    "**По поводу пользоваталей, присланных через 2 дня.**\n",
    "\n",
    "Так как спросить не у кого, откуда эти пользователи, когда они заходили в приложение и/или совершили покупку, то примем гипотезу о том, что произошла ошибка, и их просто забыли докинуть в основную группу. Но если эти пользователи совершали действия не во время теста, то учитывать их нельзя."
   ]
  },
  {
   "cell_type": "code",
   "execution_count": 10,
   "metadata": {},
   "outputs": [],
   "source": [
    "# первым делом я соединю 2 таблицы пользоваталей, для этого надо убедиться, что нет повторяющихся пользователей\n",
    "id = groups_add[\"id\"].to_list()"
   ]
  },
  {
   "cell_type": "code",
   "execution_count": 11,
   "metadata": {},
   "outputs": [
    {
     "data": {
      "text/html": [
       "<div>\n",
       "<style scoped>\n",
       "    .dataframe tbody tr th:only-of-type {\n",
       "        vertical-align: middle;\n",
       "    }\n",
       "\n",
       "    .dataframe tbody tr th {\n",
       "        vertical-align: top;\n",
       "    }\n",
       "\n",
       "    .dataframe thead th {\n",
       "        text-align: right;\n",
       "    }\n",
       "</style>\n",
       "<table border=\"1\" class=\"dataframe\">\n",
       "  <thead>\n",
       "    <tr style=\"text-align: right;\">\n",
       "      <th></th>\n",
       "      <th>id</th>\n",
       "      <th>grp</th>\n",
       "    </tr>\n",
       "  </thead>\n",
       "  <tbody>\n",
       "  </tbody>\n",
       "</table>\n",
       "</div>"
      ],
      "text/plain": [
       "Empty DataFrame\n",
       "Columns: [id, grp]\n",
       "Index: []"
      ]
     },
     "execution_count": 11,
     "metadata": {},
     "output_type": "execute_result"
    }
   ],
   "source": [
    "groups.query('id == @id')"
   ]
  },
  {
   "cell_type": "code",
   "execution_count": 12,
   "metadata": {},
   "outputs": [],
   "source": [
    "groups_all = pd.concat([groups, groups_add])"
   ]
  },
  {
   "cell_type": "code",
   "execution_count": 13,
   "metadata": {},
   "outputs": [
    {
     "data": {
      "text/plain": [
       "True"
      ]
     },
     "execution_count": 13,
     "metadata": {},
     "output_type": "execute_result"
    }
   ],
   "source": [
    "len(groups_all) == (len(groups) + len(groups_add))"
   ]
  },
  {
   "cell_type": "code",
   "execution_count": 14,
   "metadata": {},
   "outputs": [
    {
     "data": {
      "text/plain": [
       "grp\n",
       "B    59883\n",
       "A    14693\n",
       "dtype: int64"
      ]
     },
     "execution_count": 14,
     "metadata": {},
     "output_type": "execute_result"
    }
   ],
   "source": [
    "groups_all.value_counts('grp') # выборки 20/80, что странно"
   ]
  },
  {
   "cell_type": "code",
   "execution_count": 15,
   "metadata": {},
   "outputs": [
    {
     "data": {
      "text/plain": [
       "0.8029795108345849"
      ]
     },
     "execution_count": 15,
     "metadata": {},
     "output_type": "execute_result"
    }
   ],
   "source": [
    "59883 / (59883 + 14693)"
   ]
  },
  {
   "cell_type": "code",
   "execution_count": 16,
   "metadata": {},
   "outputs": [
    {
     "data": {
      "text/plain": [
       "True"
      ]
     },
     "execution_count": 16,
     "metadata": {},
     "output_type": "execute_result"
    }
   ],
   "source": [
    "# также проверим, нет ли пользоваталей A в другой группе и наоборот\n",
    "groups_all['id'].nunique() == len(groups_all)"
   ]
  },
  {
   "cell_type": "code",
   "execution_count": 17,
   "metadata": {},
   "outputs": [
    {
     "name": "stdout",
     "output_type": "stream",
     "text": [
      "<class 'pandas.core.frame.DataFrame'>\n",
      "Int64Index: 74576 entries, 0 to 91\n",
      "Data columns (total 2 columns):\n",
      " #   Column  Non-Null Count  Dtype \n",
      "---  ------  --------------  ----- \n",
      " 0   id      74576 non-null  int64 \n",
      " 1   grp     74576 non-null  object\n",
      "dtypes: int64(1), object(1)\n",
      "memory usage: 1.7+ MB\n"
     ]
    }
   ],
   "source": [
    "groups_all.info()"
   ]
  },
  {
   "cell_type": "code",
   "execution_count": 18,
   "metadata": {},
   "outputs": [
    {
     "data": {
      "text/plain": [
       "True"
      ]
     },
     "execution_count": 18,
     "metadata": {},
     "output_type": "execute_result"
    }
   ],
   "source": [
    "len(active) == active['student_id'].nunique()"
   ]
  },
  {
   "cell_type": "code",
   "execution_count": 19,
   "metadata": {},
   "outputs": [
    {
     "data": {
      "text/plain": [
       "541"
      ]
     },
     "execution_count": 19,
     "metadata": {},
     "output_type": "execute_result"
    }
   ],
   "source": [
    "checks['student_id'].nunique() # проверили на дубликаты"
   ]
  },
  {
   "cell_type": "code",
   "execution_count": 20,
   "metadata": {},
   "outputs": [
    {
     "data": {
      "text/plain": [
       "<matplotlib.axes._subplots.AxesSubplot at 0x7fc6001a5d30>"
      ]
     },
     "execution_count": 20,
     "metadata": {},
     "output_type": "execute_result"
    },
    {
     "data": {
      "image/png": "[encoded data removed]",
      "text/plain": [
       "<Figure size 432x288 with 1 Axes>"
      ]
     },
     "metadata": {
      "needs_background": "light"
     },
     "output_type": "display_data"
    }
   ],
   "source": [
    "checks['rev'].hist()"
   ]
  },
  {
   "cell_type": "code",
   "execution_count": 21,
   "metadata": {},
   "outputs": [],
   "source": [
    "# сджойним активных пользоваталей с таблицей групп. Предварительно меняем имена колонок\n",
    "groups_all.columns = ['student_id', 'group']"
   ]
  },
  {
   "cell_type": "code",
   "execution_count": 22,
   "metadata": {},
   "outputs": [],
   "source": [
    "active_users = active.merge(groups_all, how='left', on='student_id')"
   ]
  },
  {
   "cell_type": "code",
   "execution_count": 23,
   "metadata": {},
   "outputs": [
    {
     "data": {
      "text/plain": [
       "True"
      ]
     },
     "execution_count": 23,
     "metadata": {},
     "output_type": "execute_result"
    }
   ],
   "source": [
    "len(active) == len(active_users)"
   ]
  },
  {
   "cell_type": "code",
   "execution_count": 24,
   "metadata": {},
   "outputs": [],
   "source": [
    "# также джойним потраченные деньги\n",
    "active_users_payments = active_users.merge(checks, how='left', on='student_id')"
   ]
  },
  {
   "cell_type": "code",
   "execution_count": 25,
   "metadata": {},
   "outputs": [],
   "source": [
    "active_users_payments = active_users_payments.fillna(0)"
   ]
  },
  {
   "cell_type": "code",
   "execution_count": 26,
   "metadata": {},
   "outputs": [
    {
     "data": {
      "text/html": [
       "<div>\n",
       "<style scoped>\n",
       "    .dataframe tbody tr th:only-of-type {\n",
       "        vertical-align: middle;\n",
       "    }\n",
       "\n",
       "    .dataframe tbody tr th {\n",
       "        vertical-align: top;\n",
       "    }\n",
       "\n",
       "    .dataframe thead th {\n",
       "        text-align: right;\n",
       "    }\n",
       "</style>\n",
       "<table border=\"1\" class=\"dataframe\">\n",
       "  <thead>\n",
       "    <tr style=\"text-align: right;\">\n",
       "      <th></th>\n",
       "      <th>student_id</th>\n",
       "      <th>group</th>\n",
       "      <th>rev</th>\n",
       "    </tr>\n",
       "  </thead>\n",
       "  <tbody>\n",
       "    <tr>\n",
       "      <th>0</th>\n",
       "      <td>581585</td>\n",
       "      <td>A</td>\n",
       "      <td>0.0</td>\n",
       "    </tr>\n",
       "    <tr>\n",
       "      <th>1</th>\n",
       "      <td>5723133</td>\n",
       "      <td>A</td>\n",
       "      <td>0.0</td>\n",
       "    </tr>\n",
       "    <tr>\n",
       "      <th>2</th>\n",
       "      <td>3276743</td>\n",
       "      <td>B</td>\n",
       "      <td>0.0</td>\n",
       "    </tr>\n",
       "    <tr>\n",
       "      <th>3</th>\n",
       "      <td>4238589</td>\n",
       "      <td>A</td>\n",
       "      <td>0.0</td>\n",
       "    </tr>\n",
       "    <tr>\n",
       "      <th>4</th>\n",
       "      <td>4475369</td>\n",
       "      <td>B</td>\n",
       "      <td>0.0</td>\n",
       "    </tr>\n",
       "    <tr>\n",
       "      <th>...</th>\n",
       "      <td>...</td>\n",
       "      <td>...</td>\n",
       "      <td>...</td>\n",
       "    </tr>\n",
       "    <tr>\n",
       "      <th>8336</th>\n",
       "      <td>1794344</td>\n",
       "      <td>B</td>\n",
       "      <td>0.0</td>\n",
       "    </tr>\n",
       "    <tr>\n",
       "      <th>8337</th>\n",
       "      <td>296883</td>\n",
       "      <td>B</td>\n",
       "      <td>0.0</td>\n",
       "    </tr>\n",
       "    <tr>\n",
       "      <th>8338</th>\n",
       "      <td>3598448</td>\n",
       "      <td>B</td>\n",
       "      <td>0.0</td>\n",
       "    </tr>\n",
       "    <tr>\n",
       "      <th>8339</th>\n",
       "      <td>3610547</td>\n",
       "      <td>B</td>\n",
       "      <td>290.0</td>\n",
       "    </tr>\n",
       "    <tr>\n",
       "      <th>8340</th>\n",
       "      <td>205705</td>\n",
       "      <td>B</td>\n",
       "      <td>0.0</td>\n",
       "    </tr>\n",
       "  </tbody>\n",
       "</table>\n",
       "<p>8341 rows × 3 columns</p>\n",
       "</div>"
      ],
      "text/plain": [
       "      student_id group    rev\n",
       "0         581585     A    0.0\n",
       "1        5723133     A    0.0\n",
       "2        3276743     B    0.0\n",
       "3        4238589     A    0.0\n",
       "4        4475369     B    0.0\n",
       "...          ...   ...    ...\n",
       "8336     1794344     B    0.0\n",
       "8337      296883     B    0.0\n",
       "8338     3598448     B    0.0\n",
       "8339     3610547     B  290.0\n",
       "8340      205705     B    0.0\n",
       "\n",
       "[8341 rows x 3 columns]"
      ]
     },
     "execution_count": 26,
     "metadata": {},
     "output_type": "execute_result"
    }
   ],
   "source": [
    "active_users_payments"
   ]
  },
  {
   "cell_type": "markdown",
   "metadata": {},
   "source": [
    "## Проверка гипотез\n",
    "После получения финальной таблицы необходимо проверить различия в двух группах на стат значимость. Для этого есть много критериев, которые будут применимы в зависимости от условий, о чем ниже.\n",
    "### Сравнение конверсии в покупку двух групп\n",
    "Для сравнения двух номинативных переменных с 2 градациями подходит критерий Хи Квадрат. 2 группы - A и B, 2 градации - число купивших и тех, кто не купил. Перед началом сравнения надо проверить условия для применения данного критерия.\n",
    "\n",
    "*Гипотезы: H0 - переменные не связаны между собой, H1 - есть связь между двумя переменными.*\n",
    "\n",
    "Условиями применения критерия является, чтобы наблюдаемые значения были больше 10 (иначе использутеся поправка Йетса).\n",
    "\n",
    "Для применения критерия удобно будет сделать колонку со статусом, который бы указывал на то, заплатил ли клиент или нет.  В качестве p-уровня значимости alpha возьмем 0.05."
   ]
  },
  {
   "cell_type": "code",
   "execution_count": 27,
   "metadata": {},
   "outputs": [],
   "source": [
    "active_users_payments['status'] = active_users_payments['rev'] > 0"
   ]
  },
  {
   "cell_type": "code",
   "execution_count": 28,
   "metadata": {},
   "outputs": [
    {
     "data": {
      "text/html": [
       "<div>\n",
       "<style scoped>\n",
       "    .dataframe tbody tr th:only-of-type {\n",
       "        vertical-align: middle;\n",
       "    }\n",
       "\n",
       "    .dataframe tbody tr th {\n",
       "        vertical-align: top;\n",
       "    }\n",
       "\n",
       "    .dataframe thead th {\n",
       "        text-align: right;\n",
       "    }\n",
       "</style>\n",
       "<table border=\"1\" class=\"dataframe\">\n",
       "  <thead>\n",
       "    <tr style=\"text-align: right;\">\n",
       "      <th></th>\n",
       "      <th>student_id</th>\n",
       "      <th>group</th>\n",
       "      <th>rev</th>\n",
       "      <th>status</th>\n",
       "    </tr>\n",
       "  </thead>\n",
       "  <tbody>\n",
       "    <tr>\n",
       "      <th>0</th>\n",
       "      <td>581585</td>\n",
       "      <td>A</td>\n",
       "      <td>0.0</td>\n",
       "      <td>False</td>\n",
       "    </tr>\n",
       "    <tr>\n",
       "      <th>1</th>\n",
       "      <td>5723133</td>\n",
       "      <td>A</td>\n",
       "      <td>0.0</td>\n",
       "      <td>False</td>\n",
       "    </tr>\n",
       "    <tr>\n",
       "      <th>2</th>\n",
       "      <td>3276743</td>\n",
       "      <td>B</td>\n",
       "      <td>0.0</td>\n",
       "      <td>False</td>\n",
       "    </tr>\n",
       "    <tr>\n",
       "      <th>3</th>\n",
       "      <td>4238589</td>\n",
       "      <td>A</td>\n",
       "      <td>0.0</td>\n",
       "      <td>False</td>\n",
       "    </tr>\n",
       "    <tr>\n",
       "      <th>4</th>\n",
       "      <td>4475369</td>\n",
       "      <td>B</td>\n",
       "      <td>0.0</td>\n",
       "      <td>False</td>\n",
       "    </tr>\n",
       "    <tr>\n",
       "      <th>...</th>\n",
       "      <td>...</td>\n",
       "      <td>...</td>\n",
       "      <td>...</td>\n",
       "      <td>...</td>\n",
       "    </tr>\n",
       "    <tr>\n",
       "      <th>8336</th>\n",
       "      <td>1794344</td>\n",
       "      <td>B</td>\n",
       "      <td>0.0</td>\n",
       "      <td>False</td>\n",
       "    </tr>\n",
       "    <tr>\n",
       "      <th>8337</th>\n",
       "      <td>296883</td>\n",
       "      <td>B</td>\n",
       "      <td>0.0</td>\n",
       "      <td>False</td>\n",
       "    </tr>\n",
       "    <tr>\n",
       "      <th>8338</th>\n",
       "      <td>3598448</td>\n",
       "      <td>B</td>\n",
       "      <td>0.0</td>\n",
       "      <td>False</td>\n",
       "    </tr>\n",
       "    <tr>\n",
       "      <th>8339</th>\n",
       "      <td>3610547</td>\n",
       "      <td>B</td>\n",
       "      <td>290.0</td>\n",
       "      <td>True</td>\n",
       "    </tr>\n",
       "    <tr>\n",
       "      <th>8340</th>\n",
       "      <td>205705</td>\n",
       "      <td>B</td>\n",
       "      <td>0.0</td>\n",
       "      <td>False</td>\n",
       "    </tr>\n",
       "  </tbody>\n",
       "</table>\n",
       "<p>8341 rows × 4 columns</p>\n",
       "</div>"
      ],
      "text/plain": [
       "      student_id group    rev  status\n",
       "0         581585     A    0.0   False\n",
       "1        5723133     A    0.0   False\n",
       "2        3276743     B    0.0   False\n",
       "3        4238589     A    0.0   False\n",
       "4        4475369     B    0.0   False\n",
       "...          ...   ...    ...     ...\n",
       "8336     1794344     B    0.0   False\n",
       "8337      296883     B    0.0   False\n",
       "8338     3598448     B    0.0   False\n",
       "8339     3610547     B  290.0    True\n",
       "8340      205705     B    0.0   False\n",
       "\n",
       "[8341 rows x 4 columns]"
      ]
     },
     "execution_count": 28,
     "metadata": {},
     "output_type": "execute_result"
    }
   ],
   "source": [
    "active_users_payments"
   ]
  },
  {
   "cell_type": "code",
   "execution_count": 29,
   "metadata": {},
   "outputs": [],
   "source": [
    "chi_sq = active_users_payments.groupby('group', as_index=False) \\\n",
    "                            .agg({'rev': 'count', 'status': 'sum'}) \\\n",
    "                            .rename(columns={'rev':'all', 'status': 'payments'})"
   ]
  },
  {
   "cell_type": "code",
   "execution_count": 30,
   "metadata": {},
   "outputs": [
    {
     "data": {
      "text/html": [
       "<div>\n",
       "<style scoped>\n",
       "    .dataframe tbody tr th:only-of-type {\n",
       "        vertical-align: middle;\n",
       "    }\n",
       "\n",
       "    .dataframe tbody tr th {\n",
       "        vertical-align: top;\n",
       "    }\n",
       "\n",
       "    .dataframe thead th {\n",
       "        text-align: right;\n",
       "    }\n",
       "</style>\n",
       "<table border=\"1\" class=\"dataframe\">\n",
       "  <thead>\n",
       "    <tr style=\"text-align: right;\">\n",
       "      <th></th>\n",
       "      <th>group</th>\n",
       "      <th>all</th>\n",
       "      <th>payments</th>\n",
       "    </tr>\n",
       "  </thead>\n",
       "  <tbody>\n",
       "    <tr>\n",
       "      <th>0</th>\n",
       "      <td>A</td>\n",
       "      <td>1538</td>\n",
       "      <td>78</td>\n",
       "    </tr>\n",
       "    <tr>\n",
       "      <th>1</th>\n",
       "      <td>B</td>\n",
       "      <td>6803</td>\n",
       "      <td>314</td>\n",
       "    </tr>\n",
       "  </tbody>\n",
       "</table>\n",
       "</div>"
      ],
      "text/plain": [
       "  group   all  payments\n",
       "0     A  1538        78\n",
       "1     B  6803       314"
      ]
     },
     "execution_count": 30,
     "metadata": {},
     "output_type": "execute_result"
    }
   ],
   "source": [
    "chi_sq"
   ]
  },
  {
   "cell_type": "markdown",
   "metadata": {},
   "source": [
    "*Можно заметить, что итоговое число платящих пользователей меньше того, что было в чеках, что говорит о том, что некоторые из них не были активными. Скорее всего это связано с автоплатежом, поэтому в тесте они учитываться не будут. Также можно предположить, что возникли ошибки при логировании данных, что желательно как-то проверить.*"
   ]
  },
  {
   "cell_type": "code",
   "execution_count": 31,
   "metadata": {},
   "outputs": [
    {
     "data": {
      "text/plain": [
       "(0.43612258061018483,\n",
       " 0.5089998823014525,\n",
       " 1,\n",
       " array([[1543.46226955,   72.53773045],\n",
       "        [6797.53773045,  319.46226955]]))"
      ]
     },
     "execution_count": 31,
     "metadata": {},
     "output_type": "execute_result"
    }
   ],
   "source": [
    "b = np.array([[1538, 78], [6803, 314]])\n",
    "ss.chi2_contingency(b)"
   ]
  },
  {
   "cell_type": "code",
   "execution_count": 32,
   "metadata": {},
   "outputs": [
    {
     "data": {
      "text/plain": [
       "0.5089998823014525"
      ]
     },
     "execution_count": 32,
     "metadata": {},
     "output_type": "execute_result"
    }
   ],
   "source": [
    "ss.chi2_contingency(b)[1]"
   ]
  },
  {
   "cell_type": "code",
   "execution_count": 33,
   "metadata": {},
   "outputs": [
    {
     "data": {
      "text/plain": [
       "0.05071521456436931"
      ]
     },
     "execution_count": 33,
     "metadata": {},
     "output_type": "execute_result"
    }
   ],
   "source": [
    "78 / 1538 # конверсия для контрольной группы"
   ]
  },
  {
   "cell_type": "code",
   "execution_count": 34,
   "metadata": {},
   "outputs": [
    {
     "data": {
      "text/plain": [
       "0.046156107599588415"
      ]
     },
     "execution_count": 34,
     "metadata": {},
     "output_type": "execute_result"
    }
   ],
   "source": [
    "314 / 6803 # конверсия для испытуемой группы"
   ]
  },
  {
   "cell_type": "markdown",
   "metadata": {},
   "source": [
    "### Промежуточные выводы по CR активной аудитории в покупку\n",
    "p-value равен 0.43, что говорит о том, что мы не можем отвергнуть нулевую гипотезу. Однако, чтобы не совершить ошибку второго рода, когда мы отвергаем H1 при том, что она верна, необходимо посчитать мощность теста. В индустрии принято брать мощность теста в 80%, т.е. в 80% процентов случаев при многократном повторении эксперимента мы бы нашли различия в группах. Воспользуемся объектом GofChisquarePower и методом solve_power"
   ]
  },
  {
   "cell_type": "code",
   "execution_count": 35,
   "metadata": {},
   "outputs": [
    {
     "name": "stdout",
     "output_type": "stream",
     "text": [
      "0.12474722627935497\n"
     ]
    }
   ],
   "source": [
    "# вычислим относительную разницу между конверсиями групп A и B по формуле\n",
    "p_0 = 78 / 1538\n",
    "p_1 = 314 / 6803\n",
    "effect_size = np.sqrt((p_0 - p_1)**2 / p_0)\n",
    "\n",
    "nobs = 1538 # минимальное значение выборки\n",
    "alpha = 0.05 \n",
    "\n",
    "# заносим аргументы, оставляем пустым аругмент, который хотим узнать\n",
    "power_of_test = GofChisquarePower().solve_power(effect_size = effect_size, \n",
    "                                           nobs=nobs, \n",
    "                                           alpha=alpha, \n",
    "                                           power=None)\n",
    "print(power_of_test) # мощность теста"
   ]
  },
  {
   "cell_type": "code",
   "execution_count": 36,
   "metadata": {},
   "outputs": [
    {
     "name": "stdout",
     "output_type": "stream",
     "text": [
      "19150.729178982485\n"
     ]
    }
   ],
   "source": [
    "# выясним, какой минимальный размер должен быть у выборки с мощностью теста 0.8\n",
    "p_0 = 78 / 1538\n",
    "p_1 = 314 / 6803\n",
    "effect_size = np.sqrt((p_0 - p_1)**2 / p_0)\n",
    "\n",
    "power = 0.8 # мощность\n",
    "alpha = 0.05 \n",
    "\n",
    "\n",
    "size = GofChisquarePower().solve_power(effect_size = effect_size, \n",
    "                                           nobs=None, \n",
    "                                           alpha=alpha, \n",
    "                                           power=power)\n",
    "print(size)"
   ]
  },
  {
   "cell_type": "markdown",
   "metadata": {},
   "source": [
    "*Исходя из того, что мощность теста Хи-квадрат недостаточна, можно использовать бутстрап для сравнения средних в двух выборках. Для этого надо логические значения перевести в численный вид*"
   ]
  },
  {
   "cell_type": "code",
   "execution_count": 37,
   "metadata": {},
   "outputs": [],
   "source": [
    "active_users_payments['bin'] = (active_users_payments['rev'] > 0)*1"
   ]
  },
  {
   "cell_type": "code",
   "execution_count": 38,
   "metadata": {},
   "outputs": [
    {
     "data": {
      "text/html": [
       "<div>\n",
       "<style scoped>\n",
       "    .dataframe tbody tr th:only-of-type {\n",
       "        vertical-align: middle;\n",
       "    }\n",
       "\n",
       "    .dataframe tbody tr th {\n",
       "        vertical-align: top;\n",
       "    }\n",
       "\n",
       "    .dataframe thead th {\n",
       "        text-align: right;\n",
       "    }\n",
       "</style>\n",
       "<table border=\"1\" class=\"dataframe\">\n",
       "  <thead>\n",
       "    <tr style=\"text-align: right;\">\n",
       "      <th></th>\n",
       "      <th>student_id</th>\n",
       "      <th>group</th>\n",
       "      <th>rev</th>\n",
       "      <th>status</th>\n",
       "      <th>bin</th>\n",
       "    </tr>\n",
       "  </thead>\n",
       "  <tbody>\n",
       "    <tr>\n",
       "      <th>0</th>\n",
       "      <td>581585</td>\n",
       "      <td>A</td>\n",
       "      <td>0.0</td>\n",
       "      <td>False</td>\n",
       "      <td>0</td>\n",
       "    </tr>\n",
       "    <tr>\n",
       "      <th>1</th>\n",
       "      <td>5723133</td>\n",
       "      <td>A</td>\n",
       "      <td>0.0</td>\n",
       "      <td>False</td>\n",
       "      <td>0</td>\n",
       "    </tr>\n",
       "    <tr>\n",
       "      <th>2</th>\n",
       "      <td>3276743</td>\n",
       "      <td>B</td>\n",
       "      <td>0.0</td>\n",
       "      <td>False</td>\n",
       "      <td>0</td>\n",
       "    </tr>\n",
       "    <tr>\n",
       "      <th>3</th>\n",
       "      <td>4238589</td>\n",
       "      <td>A</td>\n",
       "      <td>0.0</td>\n",
       "      <td>False</td>\n",
       "      <td>0</td>\n",
       "    </tr>\n",
       "    <tr>\n",
       "      <th>4</th>\n",
       "      <td>4475369</td>\n",
       "      <td>B</td>\n",
       "      <td>0.0</td>\n",
       "      <td>False</td>\n",
       "      <td>0</td>\n",
       "    </tr>\n",
       "    <tr>\n",
       "      <th>...</th>\n",
       "      <td>...</td>\n",
       "      <td>...</td>\n",
       "      <td>...</td>\n",
       "      <td>...</td>\n",
       "      <td>...</td>\n",
       "    </tr>\n",
       "    <tr>\n",
       "      <th>8336</th>\n",
       "      <td>1794344</td>\n",
       "      <td>B</td>\n",
       "      <td>0.0</td>\n",
       "      <td>False</td>\n",
       "      <td>0</td>\n",
       "    </tr>\n",
       "    <tr>\n",
       "      <th>8337</th>\n",
       "      <td>296883</td>\n",
       "      <td>B</td>\n",
       "      <td>0.0</td>\n",
       "      <td>False</td>\n",
       "      <td>0</td>\n",
       "    </tr>\n",
       "    <tr>\n",
       "      <th>8338</th>\n",
       "      <td>3598448</td>\n",
       "      <td>B</td>\n",
       "      <td>0.0</td>\n",
       "      <td>False</td>\n",
       "      <td>0</td>\n",
       "    </tr>\n",
       "    <tr>\n",
       "      <th>8339</th>\n",
       "      <td>3610547</td>\n",
       "      <td>B</td>\n",
       "      <td>290.0</td>\n",
       "      <td>True</td>\n",
       "      <td>1</td>\n",
       "    </tr>\n",
       "    <tr>\n",
       "      <th>8340</th>\n",
       "      <td>205705</td>\n",
       "      <td>B</td>\n",
       "      <td>0.0</td>\n",
       "      <td>False</td>\n",
       "      <td>0</td>\n",
       "    </tr>\n",
       "  </tbody>\n",
       "</table>\n",
       "<p>8341 rows × 5 columns</p>\n",
       "</div>"
      ],
      "text/plain": [
       "      student_id group    rev  status  bin\n",
       "0         581585     A    0.0   False    0\n",
       "1        5723133     A    0.0   False    0\n",
       "2        3276743     B    0.0   False    0\n",
       "3        4238589     A    0.0   False    0\n",
       "4        4475369     B    0.0   False    0\n",
       "...          ...   ...    ...     ...  ...\n",
       "8336     1794344     B    0.0   False    0\n",
       "8337      296883     B    0.0   False    0\n",
       "8338     3598448     B    0.0   False    0\n",
       "8339     3610547     B  290.0    True    1\n",
       "8340      205705     B    0.0   False    0\n",
       "\n",
       "[8341 rows x 5 columns]"
      ]
     },
     "execution_count": 38,
     "metadata": {},
     "output_type": "execute_result"
    }
   ],
   "source": [
    "active_users_payments"
   ]
  },
  {
   "cell_type": "code",
   "execution_count": 39,
   "metadata": {},
   "outputs": [],
   "source": [
    "mean_cr_A = active_users_payments.query('group == \"A\"')['bin']\n",
    "mean_cr_B = active_users_payments.query('group == \"B\"')['bin']"
   ]
  },
  {
   "cell_type": "code",
   "execution_count": 40,
   "metadata": {},
   "outputs": [],
   "source": [
    "def get_bootstrap(\n",
    "    data_column_1, # числовые значения первой выборки\n",
    "    data_column_2, # числовые значения второй выборки\n",
    "    boot_it = 1000, # количество бутстрап-подвыборок\n",
    "    statistic = np.mean, # интересующая нас статистика\n",
    "    bootstrap_conf_level = 0.95 # уровень значимости\n",
    "):\n",
    "    boot_len = max([len(data_column_1), len(data_column_2)])\n",
    "    boot_data = []\n",
    "    for i in tqdm(range(boot_it)): # извлекаем подвыборки\n",
    "        samples_1 = data_column_1.sample(\n",
    "            boot_len, \n",
    "            replace = True # параметр возвращения\n",
    "        ).values\n",
    "        \n",
    "        samples_2 = data_column_2.sample(\n",
    "            boot_len, \n",
    "            replace = True\n",
    "        ).values\n",
    "        \n",
    "        boot_data.append(statistic(samples_1-samples_2)) # mean() - применяем статистику\n",
    "        \n",
    "    pd_boot_data = pd.DataFrame(boot_data)\n",
    "        \n",
    "    left_quant = (1 - bootstrap_conf_level)/2\n",
    "    right_quant = 1 - (1 - bootstrap_conf_level) / 2\n",
    "    ci = pd_boot_data.quantile([left_quant, right_quant])\n",
    "        \n",
    "    p_1 = ss.norm.cdf(\n",
    "        x = 0, \n",
    "        loc = np.mean(boot_data), \n",
    "        scale = np.std(boot_data)\n",
    "    )\n",
    "    p_2 = ss.norm.cdf(\n",
    "        x = 0, \n",
    "        loc = -np.mean(boot_data), \n",
    "        scale = np.std(boot_data)\n",
    "    )\n",
    "    p_value = min(p_1, p_2) * 2\n",
    "        \n",
    "    # Визуализация\n",
    "    plt.hist(pd_boot_data[0], bins = 50)\n",
    "    \n",
    "    plt.style.use('ggplot')\n",
    "    plt.vlines(ci,ymin=0,ymax=50,linestyle='--')\n",
    "    plt.xlabel('boot_data')\n",
    "    plt.ylabel('frequency')\n",
    "    plt.title(\"Histogram of boot_data\")\n",
    "    plt.show()\n",
    "       \n",
    "    return { \n",
    "            \"ci\": ci, \n",
    "            \"p_value\": p_value}"
   ]
  },
  {
   "cell_type": "code",
   "execution_count": 41,
   "metadata": {},
   "outputs": [
    {
     "data": {
      "application/vnd.jupyter.widget-view+json": {
       "model_id": "2414fc2baaac45a6a853135c8c6f8fa4",
       "version_major": 2,
       "version_minor": 0
      },
      "text/plain": [
       "HBox(children=(FloatProgress(value=0.0, max=1000.0), HTML(value='')))"
      ]
     },
     "metadata": {},
     "output_type": "display_data"
    },
    {
     "name": "stdout",
     "output_type": "stream",
     "text": [
      "\n"
     ]
    },
    {
     "data": {
      "image/png": "[encoded data removed]",
      "text/plain": [
       "<Figure size 432x288 with 1 Axes>"
      ]
     },
     "metadata": {
      "needs_background": "light"
     },
     "output_type": "display_data"
    },
    {
     "data": {
      "text/plain": [
       "{'ci':               0\n",
       " 0.025 -0.002646\n",
       " 0.975  0.011473,\n",
       " 'p_value': 0.21307302173040388}"
      ]
     },
     "execution_count": 41,
     "metadata": {},
     "output_type": "execute_result"
    }
   ],
   "source": [
    "get_bootstrap(mean_cr_A, mean_cr_B)"
   ]
  },
  {
   "cell_type": "code",
   "execution_count": 42,
   "metadata": {},
   "outputs": [],
   "source": [
    "mean_cr_A_arr = np.array(active_users_payments.query('group == \"A\"')['bin'])\n",
    "mean_cr_B_arr = np.array(active_users_payments.query('group == \"B\"')['bin'])"
   ]
  },
  {
   "cell_type": "markdown",
   "metadata": {},
   "source": [
    "*Значимых отличий тоже обнаружить не удалось*"
   ]
  },
  {
   "cell_type": "markdown",
   "metadata": {},
   "source": [
    "### Выводы по CR\n",
    "Как показал тест, вероятность найти различия между группами, если верна H1, очень мала и составляет 12% из-за недостаточности данных. Бутстрап, являясь более мощным тестом, также не показали стат. значимых различий средних в двух группах, что говорит о том, что мы не можем отклонить нулевую гипотезу о том, что конверсия не зависит от группы."
   ]
  },
  {
   "cell_type": "markdown",
   "metadata": {},
   "source": [
    "### Проверка ARPAU\n",
    "Для проверки подходят критерии, где проверяется группы с численными и номинативными переменными - t-тест, ANOVA и их разновидности. Так как группы 2, то ANOVA не применяется. У t-теста есть несколько условий его применения, которые должны соблюдаться:\n",
    "- гомогенность дисперсий в обеих группах\n",
    "- не должно быть сильных выбросов в обеих группах, иначе результаты теста могут ввести в заблуждение\n",
    "\n",
    "Если условия не соблюдаются, то можно сделать:\n",
    "- использовать тест Уэлча при разных дисперсиях\n",
    "- прологарифмировать обе выборки и сравнить их\n",
    "- ипользовать бутстрап и сравнить средние\n",
    "- использовать бутстрап и сравнить медианы\n",
    "- использовать непараметрический тест Манна-Уитни и сравнивать ранги, т.е. сами распределения\n",
    "\n",
    "*Выдвигаемые гипотезы: H0 - разницы между средними чеками в обеих группах нет, H1 - есть отличия между средними чеками в группах*"
   ]
  },
  {
   "cell_type": "code",
   "execution_count": 43,
   "metadata": {},
   "outputs": [
    {
     "data": {
      "text/html": [
       "<div>\n",
       "<style scoped>\n",
       "    .dataframe tbody tr th:only-of-type {\n",
       "        vertical-align: middle;\n",
       "    }\n",
       "\n",
       "    .dataframe tbody tr th {\n",
       "        vertical-align: top;\n",
       "    }\n",
       "\n",
       "    .dataframe thead th {\n",
       "        text-align: right;\n",
       "    }\n",
       "</style>\n",
       "<table border=\"1\" class=\"dataframe\">\n",
       "  <thead>\n",
       "    <tr style=\"text-align: right;\">\n",
       "      <th></th>\n",
       "      <th>group</th>\n",
       "      <th>rev</th>\n",
       "    </tr>\n",
       "  </thead>\n",
       "  <tbody>\n",
       "    <tr>\n",
       "      <th>0</th>\n",
       "      <td>A</td>\n",
       "      <td>47.347204</td>\n",
       "    </tr>\n",
       "    <tr>\n",
       "      <th>1</th>\n",
       "      <td>B</td>\n",
       "      <td>58.058798</td>\n",
       "    </tr>\n",
       "  </tbody>\n",
       "</table>\n",
       "</div>"
      ],
      "text/plain": [
       "  group        rev\n",
       "0     A  47.347204\n",
       "1     B  58.058798"
      ]
     },
     "execution_count": 43,
     "metadata": {},
     "output_type": "execute_result"
    }
   ],
   "source": [
    "# ради интереса посмотрим на средний чек\n",
    "active_users_payments.groupby('group').agg({'rev': 'mean'}).reset_index()"
   ]
  },
  {
   "cell_type": "code",
   "execution_count": 44,
   "metadata": {},
   "outputs": [
    {
     "data": {
      "text/html": [
       "<div>\n",
       "<style scoped>\n",
       "    .dataframe tbody tr th:only-of-type {\n",
       "        vertical-align: middle;\n",
       "    }\n",
       "\n",
       "    .dataframe tbody tr th {\n",
       "        vertical-align: top;\n",
       "    }\n",
       "\n",
       "    .dataframe thead th {\n",
       "        text-align: right;\n",
       "    }\n",
       "</style>\n",
       "<table border=\"1\" class=\"dataframe\">\n",
       "  <thead>\n",
       "    <tr style=\"text-align: right;\">\n",
       "      <th></th>\n",
       "      <th>group</th>\n",
       "      <th>rev</th>\n",
       "    </tr>\n",
       "  </thead>\n",
       "  <tbody>\n",
       "    <tr>\n",
       "      <th>0</th>\n",
       "      <td>A</td>\n",
       "      <td>0.0</td>\n",
       "    </tr>\n",
       "    <tr>\n",
       "      <th>1</th>\n",
       "      <td>B</td>\n",
       "      <td>0.0</td>\n",
       "    </tr>\n",
       "  </tbody>\n",
       "</table>\n",
       "</div>"
      ],
      "text/plain": [
       "  group  rev\n",
       "0     A  0.0\n",
       "1     B  0.0"
      ]
     },
     "execution_count": 44,
     "metadata": {},
     "output_type": "execute_result"
    }
   ],
   "source": [
    "# ради интереса посмотрим на медианный чек\n",
    "active_users_payments.groupby('group').agg({'rev': 'median'}).reset_index() "
   ]
  },
  {
   "cell_type": "markdown",
   "metadata": {},
   "source": [
    "*Исходя из CR в покупку, очень много нулей в обеих группах, что не позволит сравнить медианы трат.*"
   ]
  },
  {
   "cell_type": "code",
   "execution_count": 45,
   "metadata": {},
   "outputs": [
    {
     "data": {
      "text/plain": [
       "<matplotlib.axes._subplots.AxesSubplot at 0x7fc5d4359710>"
      ]
     },
     "execution_count": 45,
     "metadata": {},
     "output_type": "execute_result"
    },
    {
     "data": {
      "image/png": "[encoded data removed]",
      "text/plain": [
       "<Figure size 432x288 with 1 Axes>"
      ]
     },
     "metadata": {},
     "output_type": "display_data"
    }
   ],
   "source": [
    "active_users_payments.query('group == \"A\"')['rev'].hist() # типичные распределения трат"
   ]
  },
  {
   "cell_type": "code",
   "execution_count": 46,
   "metadata": {},
   "outputs": [
    {
     "data": {
      "text/plain": [
       "<matplotlib.axes._subplots.AxesSubplot at 0x7fc5d433c5c0>"
      ]
     },
     "execution_count": 46,
     "metadata": {},
     "output_type": "execute_result"
    },
    {
     "data": {
      "image/png": "[encoded data removed]",
      "text/plain": [
       "<Figure size 432x288 with 1 Axes>"
      ]
     },
     "metadata": {},
     "output_type": "display_data"
    }
   ],
   "source": [
    "active_users_payments.query('group == \"B\"')['rev'].hist()"
   ]
  },
  {
   "cell_type": "code",
   "execution_count": 47,
   "metadata": {},
   "outputs": [
    {
     "data": {
      "text/plain": [
       "<matplotlib.axes._subplots.AxesSubplot at 0x7fc5d4364dd8>"
      ]
     },
     "execution_count": 47,
     "metadata": {},
     "output_type": "execute_result"
    },
    {
     "data": {
      "image/png": "[encoded data removed]",
      "text/plain": [
       "<Figure size 432x288 with 1 Axes>"
      ]
     },
     "metadata": {},
     "output_type": "display_data"
    }
   ],
   "source": [
    "np.log(active_users_payments.query('group == \"B\"')['rev'] + 1).hist() # полномочия логарифма все"
   ]
  },
  {
   "cell_type": "markdown",
   "metadata": {},
   "source": [
    "*Выбросы есть в обеих выборках, в испытуемой группе они больше. Построим боксплот для наглядности, а также проверим выборки на равенство дисперсий*"
   ]
  },
  {
   "cell_type": "code",
   "execution_count": 48,
   "metadata": {},
   "outputs": [
    {
     "data": {
      "text/plain": [
       "<matplotlib.axes._subplots.AxesSubplot at 0x7fc5d41edfd0>"
      ]
     },
     "execution_count": 48,
     "metadata": {},
     "output_type": "execute_result"
    },
    {
     "data": {
      "image/png": "[encoded data removed]",
      "text/plain": [
       "<Figure size 432x288 with 1 Axes>"
      ]
     },
     "metadata": {},
     "output_type": "display_data"
    }
   ],
   "source": [
    "sns.boxplot(data=active_users_payments, x=\"group\", y=\"rev\") # из-за 0 медианы ничего непонятно"
   ]
  },
  {
   "cell_type": "code",
   "execution_count": 49,
   "metadata": {},
   "outputs": [
    {
     "name": "stdout",
     "output_type": "stream",
     "text": [
      "LeveneResult(statistic=1.5014608294336371, pvalue=0.22048133327049665)\n",
      "LeveneResult(statistic=35.48612369205911, pvalue=2.6846518854431503e-09)\n"
     ]
    }
   ],
   "source": [
    "# проверка на гомогенность, первая - по медиане, вторая - для распределений с жирными хвостами\n",
    "A_group = active_users_payments.query('group == \"A\"')['rev']\n",
    "B_group = active_users_payments.query('group == \"B\"')['rev']\n",
    "\n",
    "print(ss.levene(A_group, B_group))\n",
    "print(ss.levene(A_group, B_group, center='trimmed'))"
   ]
  },
  {
   "cell_type": "markdown",
   "metadata": {},
   "source": [
    "*Первый тест с p-value =  0.22, который используется при сравнении дисперсий выборок с ассиметричным распределением, не дает отклонить нулевую гипотезу о равности дисперсий, второй тест говорит об обратном. Даже с учетом того, что мы принимаем тот факт, что дисперсии равны, в выборках очень много выбросов, что негативно повлияет на сравнение средних и результаты t-теста. Поэтому в данном случае я бы использовал непараметричский тест Манна Уитни и бутстрап.*"
   ]
  },
  {
   "cell_type": "code",
   "execution_count": 50,
   "metadata": {},
   "outputs": [
    {
     "data": {
      "text/plain": [
       "1172.5999999999976"
      ]
     },
     "execution_count": 50,
     "metadata": {},
     "output_type": "execute_result"
    }
   ],
   "source": [
    "A_group.quantile(q=0.99) # почти все пользователи, потратившие деньги, являются выбросами"
   ]
  },
  {
   "cell_type": "code",
   "execution_count": 51,
   "metadata": {},
   "outputs": [
    {
     "data": {
      "text/plain": [
       "1900.0"
      ]
     },
     "execution_count": 51,
     "metadata": {},
     "output_type": "execute_result"
    }
   ],
   "source": [
    "B_group.quantile(q=0.99)"
   ]
  },
  {
   "cell_type": "code",
   "execution_count": 52,
   "metadata": {},
   "outputs": [
    {
     "data": {
      "text/plain": [
       "MannwhitneyuResult(statistic=5252113.0, pvalue=0.5099747992861601)"
      ]
     },
     "execution_count": 52,
     "metadata": {},
     "output_type": "execute_result"
    }
   ],
   "source": [
    "# сравним распределения тестом Манна-Уитни\n",
    "ss.mannwhitneyu(A_group, B_group)"
   ]
  },
  {
   "cell_type": "markdown",
   "metadata": {},
   "source": [
    "*Выборки имеют одинаковые распределения, мы не сможем отклонить нулевую гипотезу о их равенстве. Ради интереса проверим t-тестом:*"
   ]
  },
  {
   "cell_type": "code",
   "execution_count": 53,
   "metadata": {},
   "outputs": [
    {
     "data": {
      "text/plain": [
       "Ttest_indResult(statistic=-1.2863738493797021, pvalue=0.1984358364145106)"
      ]
     },
     "execution_count": 53,
     "metadata": {},
     "output_type": "execute_result"
    }
   ],
   "source": [
    "ss.ttest_ind(A_group, B_group, equal_var=False) # t-test Уэлча при различающихся дисперсиях - нет различий"
   ]
  },
  {
   "cell_type": "code",
   "execution_count": 54,
   "metadata": {},
   "outputs": [
    {
     "data": {
      "text/plain": [
       "Ttest_indResult(statistic=-1.225341107379344, pvalue=0.22048133326988403)"
      ]
     },
     "execution_count": 54,
     "metadata": {},
     "output_type": "execute_result"
    }
   ],
   "source": [
    "ss.ttest_ind(A_group, B_group) # нет различий"
   ]
  },
  {
   "cell_type": "markdown",
   "metadata": {},
   "source": [
    "*Во всех случаях статистически значимых отличий обнаружить не удалось. Проверим мощность теста*"
   ]
  },
  {
   "cell_type": "code",
   "execution_count": 55,
   "metadata": {},
   "outputs": [
    {
     "data": {
      "text/plain": [
       "0.27342592864216636"
      ]
     },
     "execution_count": 55,
     "metadata": {},
     "output_type": "execute_result"
    }
   ],
   "source": [
    "# сначала надо расчитать effect_size для неравных выборок\n",
    "mean1 = np.mean(A_group)\n",
    "mean2 = np.mean(B_group)\n",
    "std1 = np.std(A_group)\n",
    "std2 = np.std(B_group)\n",
    "n1 = len(A_group)\n",
    "n2 = len(B_group)\n",
    "pooled_std = np.sqrt(((n1-1)*std1**2 + (n2-1)*std2**2) / (n1 + n2 - 2))\n",
    "effect_size = (mean1 - mean2) / pooled_std\n",
    "\n",
    "effect_size = effect_size\n",
    "nobs = 1538\n",
    "alpha = 0.05\n",
    "\n",
    "TTestPower().solve_power(effect_size = effect_size,\n",
    "                      nobs = nobs,\n",
    "                      alpha = alpha,\n",
    "                      power = None)"
   ]
  },
  {
   "cell_type": "markdown",
   "metadata": {},
   "source": [
    "*Мощность снова вышла недостаточной для того, чтобы обнаружить изменения, если они есть. Попробуем бутстрап, для которого каких-либо ограничений в плане распределений, дисперсий нет*"
   ]
  },
  {
   "cell_type": "code",
   "execution_count": 56,
   "metadata": {},
   "outputs": [
    {
     "data": {
      "application/vnd.jupyter.widget-view+json": {
       "model_id": "9a1d924a90e3487b99df561c9319e929",
       "version_major": 2,
       "version_minor": 0
      },
      "text/plain": [
       "HBox(children=(FloatProgress(value=0.0, max=1000.0), HTML(value='')))"
      ]
     },
     "metadata": {},
     "output_type": "display_data"
    },
    {
     "name": "stdout",
     "output_type": "stream",
     "text": [
      "\n"
     ]
    },
    {
     "data": {
      "image/png": "[encoded data removed]",
      "text/plain": [
       "<Figure size 432x288 with 1 Axes>"
      ]
     },
     "metadata": {},
     "output_type": "display_data"
    },
    {
     "data": {
      "text/plain": [
       "{'ci':                0\n",
       " 0.025 -20.968852\n",
       " 0.975  -0.712554,\n",
       " 'p_value': 0.0387092736173035}"
      ]
     },
     "execution_count": 56,
     "metadata": {},
     "output_type": "execute_result"
    }
   ],
   "source": [
    "get_bootstrap(A_group, B_group)"
   ]
  },
  {
   "cell_type": "markdown",
   "metadata": {},
   "source": [
    "*Бутстрап показал, что есть статистически значимое различие между средними двух выборок (0 не вошел в 95% доверительный интервал). Конечно сейчас уже поздно, но я бы также проверил систему сплитования, чтобы убедиться, что данным можно верить. Для этого я бы воспользовался библиотекой sklearn для деления юзеров в группе А*"
   ]
  },
  {
   "cell_type": "code",
   "execution_count": 57,
   "metadata": {},
   "outputs": [],
   "source": [
    "control = active_users_payments.query('group == \"A\"')"
   ]
  },
  {
   "cell_type": "code",
   "execution_count": 58,
   "metadata": {},
   "outputs": [
    {
     "data": {
      "text/html": [
       "<div>\n",
       "<style scoped>\n",
       "    .dataframe tbody tr th:only-of-type {\n",
       "        vertical-align: middle;\n",
       "    }\n",
       "\n",
       "    .dataframe tbody tr th {\n",
       "        vertical-align: top;\n",
       "    }\n",
       "\n",
       "    .dataframe thead th {\n",
       "        text-align: right;\n",
       "    }\n",
       "</style>\n",
       "<table border=\"1\" class=\"dataframe\">\n",
       "  <thead>\n",
       "    <tr style=\"text-align: right;\">\n",
       "      <th></th>\n",
       "      <th>student_id</th>\n",
       "      <th>group</th>\n",
       "      <th>rev</th>\n",
       "      <th>status</th>\n",
       "      <th>bin</th>\n",
       "    </tr>\n",
       "  </thead>\n",
       "  <tbody>\n",
       "    <tr>\n",
       "      <th>0</th>\n",
       "      <td>581585</td>\n",
       "      <td>A</td>\n",
       "      <td>0.0</td>\n",
       "      <td>False</td>\n",
       "      <td>0</td>\n",
       "    </tr>\n",
       "    <tr>\n",
       "      <th>1</th>\n",
       "      <td>5723133</td>\n",
       "      <td>A</td>\n",
       "      <td>0.0</td>\n",
       "      <td>False</td>\n",
       "      <td>0</td>\n",
       "    </tr>\n",
       "    <tr>\n",
       "      <th>3</th>\n",
       "      <td>4238589</td>\n",
       "      <td>A</td>\n",
       "      <td>0.0</td>\n",
       "      <td>False</td>\n",
       "      <td>0</td>\n",
       "    </tr>\n",
       "    <tr>\n",
       "      <th>7</th>\n",
       "      <td>1394612</td>\n",
       "      <td>A</td>\n",
       "      <td>0.0</td>\n",
       "      <td>False</td>\n",
       "      <td>0</td>\n",
       "    </tr>\n",
       "    <tr>\n",
       "      <th>21</th>\n",
       "      <td>5194768</td>\n",
       "      <td>A</td>\n",
       "      <td>0.0</td>\n",
       "      <td>False</td>\n",
       "      <td>0</td>\n",
       "    </tr>\n",
       "    <tr>\n",
       "      <th>...</th>\n",
       "      <td>...</td>\n",
       "      <td>...</td>\n",
       "      <td>...</td>\n",
       "      <td>...</td>\n",
       "      <td>...</td>\n",
       "    </tr>\n",
       "    <tr>\n",
       "      <th>8317</th>\n",
       "      <td>3208984</td>\n",
       "      <td>A</td>\n",
       "      <td>0.0</td>\n",
       "      <td>False</td>\n",
       "      <td>0</td>\n",
       "    </tr>\n",
       "    <tr>\n",
       "      <th>8320</th>\n",
       "      <td>2900558</td>\n",
       "      <td>A</td>\n",
       "      <td>0.0</td>\n",
       "      <td>False</td>\n",
       "      <td>0</td>\n",
       "    </tr>\n",
       "    <tr>\n",
       "      <th>8326</th>\n",
       "      <td>1161774</td>\n",
       "      <td>A</td>\n",
       "      <td>0.0</td>\n",
       "      <td>False</td>\n",
       "      <td>0</td>\n",
       "    </tr>\n",
       "    <tr>\n",
       "      <th>8330</th>\n",
       "      <td>5006972</td>\n",
       "      <td>A</td>\n",
       "      <td>0.0</td>\n",
       "      <td>False</td>\n",
       "      <td>0</td>\n",
       "    </tr>\n",
       "    <tr>\n",
       "      <th>8334</th>\n",
       "      <td>4037274</td>\n",
       "      <td>A</td>\n",
       "      <td>0.0</td>\n",
       "      <td>False</td>\n",
       "      <td>0</td>\n",
       "    </tr>\n",
       "  </tbody>\n",
       "</table>\n",
       "<p>1538 rows × 5 columns</p>\n",
       "</div>"
      ],
      "text/plain": [
       "      student_id group  rev  status  bin\n",
       "0         581585     A  0.0   False    0\n",
       "1        5723133     A  0.0   False    0\n",
       "3        4238589     A  0.0   False    0\n",
       "7        1394612     A  0.0   False    0\n",
       "21       5194768     A  0.0   False    0\n",
       "...          ...   ...  ...     ...  ...\n",
       "8317     3208984     A  0.0   False    0\n",
       "8320     2900558     A  0.0   False    0\n",
       "8326     1161774     A  0.0   False    0\n",
       "8330     5006972     A  0.0   False    0\n",
       "8334     4037274     A  0.0   False    0\n",
       "\n",
       "[1538 rows x 5 columns]"
      ]
     },
     "execution_count": 58,
     "metadata": {},
     "output_type": "execute_result"
    }
   ],
   "source": [
    "control"
   ]
  },
  {
   "cell_type": "code",
   "execution_count": 59,
   "metadata": {},
   "outputs": [],
   "source": [
    "control_1, control_2 = train_test_split(control, test_size=0.5, random_state=42)"
   ]
  },
  {
   "cell_type": "code",
   "execution_count": 60,
   "metadata": {},
   "outputs": [
    {
     "data": {
      "text/plain": [
       "<matplotlib.axes._subplots.AxesSubplot at 0x7fc5d4011390>"
      ]
     },
     "execution_count": 60,
     "metadata": {},
     "output_type": "execute_result"
    },
    {
     "data": {
      "image/png": "[encoded data removed]",
      "text/plain": [
       "<Figure size 432x288 with 1 Axes>"
      ]
     },
     "metadata": {},
     "output_type": "display_data"
    }
   ],
   "source": [
    "control_1['rev'].hist()"
   ]
  },
  {
   "cell_type": "code",
   "execution_count": 61,
   "metadata": {},
   "outputs": [
    {
     "data": {
      "text/plain": [
       "<matplotlib.axes._subplots.AxesSubplot at 0x7fc5d4003cf8>"
      ]
     },
     "execution_count": 61,
     "metadata": {},
     "output_type": "execute_result"
    },
    {
     "data": {
      "image/png": "[encoded data removed]",
      "text/plain": [
       "<Figure size 432x288 with 1 Axes>"
      ]
     },
     "metadata": {},
     "output_type": "display_data"
    }
   ],
   "source": [
    "control_2['rev'].hist() # поделилось вроде ровно, распределения похожи"
   ]
  },
  {
   "cell_type": "code",
   "execution_count": 62,
   "metadata": {},
   "outputs": [
    {
     "data": {
      "application/vnd.jupyter.widget-view+json": {
       "model_id": "4d7181601894433aa41c5f48aa970651",
       "version_major": 2,
       "version_minor": 0
      },
      "text/plain": [
       "HBox(children=(FloatProgress(value=0.0, max=1000.0), HTML(value='')))"
      ]
     },
     "metadata": {},
     "output_type": "display_data"
    },
    {
     "name": "stdout",
     "output_type": "stream",
     "text": [
      "\n"
     ]
    },
    {
     "data": {
      "image/png": "[encoded data removed]",
      "text/plain": [
       "<Figure size 432x288 with 1 Axes>"
      ]
     },
     "metadata": {},
     "output_type": "display_data"
    },
    {
     "data": {
      "text/plain": [
       "0.044"
      ]
     },
     "execution_count": 62,
     "metadata": {},
     "output_type": "execute_result"
    }
   ],
   "source": [
    "# проверяем сплит систему - FPR должен быть меньше ошибки первого рода, в данном случае 0.05\n",
    "simulations = 1000  # число сравнений двух выборок\n",
    "n_s = 100          # размер выборки\n",
    "res = []\n",
    "\n",
    "# Запуск симуляций A/A теста\n",
    "for i in tqdm(range(simulations)):\n",
    "    s1 = control_1['rev'].sample(n_s, replace = False).values\n",
    "    s2 = control_2['rev'].sample(n_s, replace = False).values\n",
    "    res.append(ss.ttest_ind(s1, s2, equal_var = False)[1]) # сохраняем p-value\n",
    "\n",
    "plt.hist(res, bins = 50)\n",
    "plt.style.use('ggplot')\n",
    "plt.xlabel('pvalues')\n",
    "plt.ylabel('frequency')\n",
    "plt.title(\"Histogram of ttest A/A simulations \")\n",
    "plt.show()\n",
    "\n",
    "# Проверяем количество ложноположительных случаев FPR\n",
    "sum(np.array(res) <0.05) / simulations"
   ]
  },
  {
   "cell_type": "code",
   "execution_count": 63,
   "metadata": {},
   "outputs": [
    {
     "data": {
      "application/vnd.jupyter.widget-view+json": {
       "model_id": "1715d4a2e7a94fe59e38b1face3872f2",
       "version_major": 2,
       "version_minor": 0
      },
      "text/plain": [
       "HBox(children=(FloatProgress(value=0.0, max=1000.0), HTML(value='')))"
      ]
     },
     "metadata": {},
     "output_type": "display_data"
    },
    {
     "name": "stdout",
     "output_type": "stream",
     "text": [
      "\n"
     ]
    },
    {
     "data": {
      "image/png": "[encoded data removed]",
      "text/plain": [
       "<Figure size 432x288 with 1 Axes>"
      ]
     },
     "metadata": {},
     "output_type": "display_data"
    },
    {
     "data": {
      "text/plain": [
       "0.006"
      ]
     },
     "execution_count": 63,
     "metadata": {},
     "output_type": "execute_result"
    }
   ],
   "source": [
    "# проверяем сплит систему - FPR должен быть меньше ошибки первого рода, уже меньше 0.01\n",
    "simulations = 1000  # число сравнений двух выборок\n",
    "n_s = 200          # размер выборки\n",
    "res = []\n",
    "\n",
    "# Запуск симуляций A/A теста\n",
    "for i in tqdm(range(simulations)):\n",
    "    s1 = control_1['rev'].sample(n_s, replace = False).values\n",
    "    s2 = control_2['rev'].sample(n_s, replace = False).values\n",
    "    res.append(ss.ttest_ind(s1, s2, equal_var = False)[1]) # сохраняем p-value\n",
    "\n",
    "plt.hist(res, bins = 50)\n",
    "plt.style.use('ggplot')\n",
    "plt.xlabel('pvalues')\n",
    "plt.ylabel('frequency')\n",
    "plt.title(\"Histogram of ttest A/A simulations \")\n",
    "plt.show()\n",
    "\n",
    "# Проверяем количество ложноположительных случаев FPR\n",
    "sum(np.array(res) <0.01) / simulations"
   ]
  },
  {
   "cell_type": "markdown",
   "metadata": {},
   "source": [
    "### Выводы по ARPAU\n",
    "Сплит система в норме, FPR не превышает заданный уровень ошибки первого рода. Проблема заключается в мощности тестов из-за сильного дисбаланса, чего стат критерии не любят. Маленькая мощность порождает получить с большей долей вероятности ошибку второго рода. В результате этого t-тест и U-тест не показали стат значимых различий, в отличие от бутстрапа. Я не совсем уверен в том, целесообразно ли применять в данном случае t-тест и целесообразно в принципе применение U-теста, поэтому в данном случае доверюсь результатам бутстрапа. Вывод - есть стат. значимое различие в двух выборках, ARPAU больше у пользователетй с новой механикой оплаты."
   ]
  },
  {
   "cell_type": "markdown",
   "metadata": {},
   "source": [
    "### Проверка ARPPU\n",
    "В данном случае будем проверять средний чек на платящего пользователя, перекос размеров выборок здесь также будет существенный, выборки будут на порядок меньше. Все это также может повлиять на мощность тестов."
   ]
  },
  {
   "cell_type": "code",
   "execution_count": 64,
   "metadata": {},
   "outputs": [
    {
     "data": {
      "text/plain": [
       "<matplotlib.axes._subplots.AxesSubplot at 0x7fc5d43cd8d0>"
      ]
     },
     "execution_count": 64,
     "metadata": {},
     "output_type": "execute_result"
    },
    {
     "data": {
      "image/png": "[encoded data removed]",
      "text/plain": [
       "<Figure size 432x288 with 1 Axes>"
      ]
     },
     "metadata": {},
     "output_type": "display_data"
    }
   ],
   "source": [
    "active_users_payments_not_0 = active_users_payments.query('rev > 0')\n",
    "sns.boxplot(data=active_users_payments_not_0, x=\"group\", y=\"rev\") # выбросов стало меньше"
   ]
  },
  {
   "cell_type": "code",
   "execution_count": 65,
   "metadata": {},
   "outputs": [],
   "source": [
    "A_not_0 = active_users_payments.query('rev > 0 and group == \"A\"')['rev']\n",
    "B_not_0 = active_users_payments.query('rev > 0 and group == \"B\"')['rev']"
   ]
  },
  {
   "cell_type": "code",
   "execution_count": 66,
   "metadata": {},
   "outputs": [
    {
     "data": {
      "text/plain": [
       "<matplotlib.axes._subplots.AxesSubplot at 0x7fc5d3e8ceb8>"
      ]
     },
     "execution_count": 66,
     "metadata": {},
     "output_type": "execute_result"
    },
    {
     "data": {
      "image/png": "[encoded data removed]",
      "text/plain": [
       "<Figure size 432x288 with 1 Axes>"
      ]
     },
     "metadata": {},
     "output_type": "display_data"
    }
   ],
   "source": [
    "A_not_0.hist()"
   ]
  },
  {
   "cell_type": "code",
   "execution_count": 67,
   "metadata": {},
   "outputs": [
    {
     "data": {
      "text/plain": [
       "<matplotlib.axes._subplots.AxesSubplot at 0x7fc5d3e37898>"
      ]
     },
     "execution_count": 67,
     "metadata": {},
     "output_type": "execute_result"
    },
    {
     "data": {
      "image/png": "[encoded data removed]",
      "text/plain": [
       "<Figure size 432x288 with 1 Axes>"
      ]
     },
     "metadata": {},
     "output_type": "display_data"
    }
   ],
   "source": [
    "B_not_0.hist() # распределения немного отличаются по форме, во 2 группе большинство тех, кто заплатил от 1500 до 2000"
   ]
  },
  {
   "cell_type": "markdown",
   "metadata": {},
   "source": [
    "*Логика сравнения выборок тут та же, что и с ARPAU, однако можно сравнить и медианы (правда это уже будет не ARPPU по определению). Исходя из боксплотов, по прежнему есть выбросы, исходя из чего среднее будет смещено вправо. В отличие от среднего, медиана робастна к выбросам*\n",
    "\n",
    "*Я бы не стал использовать в данном случае t-тест из-за выбросов, а использовал бы U-тест ради интереса и бутстрап как основной критерий для принятия решения, при чем сравнил бы средние и медианы*"
   ]
  },
  {
   "cell_type": "code",
   "execution_count": 68,
   "metadata": {},
   "outputs": [
    {
     "data": {
      "text/plain": [
       "MannwhitneyuResult(statistic=9001.0, pvalue=0.0002511393831406922)"
      ]
     },
     "execution_count": 68,
     "metadata": {},
     "output_type": "execute_result"
    }
   ],
   "source": [
    "ss.mannwhitneyu(A_not_0, B_not_0) # как и предполагалось, распределения отличаются"
   ]
  },
  {
   "cell_type": "code",
   "execution_count": 69,
   "metadata": {},
   "outputs": [
    {
     "data": {
      "application/vnd.jupyter.widget-view+json": {
       "model_id": "11ecab31b3a14be283ccbf880e2b7b7d",
       "version_major": 2,
       "version_minor": 0
      },
      "text/plain": [
       "HBox(children=(FloatProgress(value=0.0, max=1000.0), HTML(value='')))"
      ]
     },
     "metadata": {},
     "output_type": "display_data"
    },
    {
     "name": "stdout",
     "output_type": "stream",
     "text": [
      "\n"
     ]
    },
    {
     "data": {
      "image/png": "[encoded data removed]",
      "text/plain": [
       "<Figure size 432x288 with 1 Axes>"
      ]
     },
     "metadata": {},
     "output_type": "display_data"
    },
    {
     "data": {
      "text/plain": [
       "{'ci':                 0\n",
       " 0.025 -469.076440\n",
       " 0.975 -176.709245,\n",
       " 'p_value': 3.706086726486042e-06}"
      ]
     },
     "execution_count": 69,
     "metadata": {},
     "output_type": "execute_result"
    }
   ],
   "source": [
    "# сравним средние\n",
    "get_bootstrap(A_not_0, B_not_0)"
   ]
  },
  {
   "cell_type": "code",
   "execution_count": 70,
   "metadata": {},
   "outputs": [],
   "source": [
    "# сравним медианы\n",
    "def get_bootstrap_median(\n",
    "    data_column_1, # числовые значения первой выборки\n",
    "    data_column_2, # числовые значения второй выборки\n",
    "    boot_it = 1000, # количество бутстрэп-подвыборок\n",
    "    statistic = np.median, # интересующая нас статистика\n",
    "    bootstrap_conf_level = 0.95 # уровень значимости\n",
    "):\n",
    "    boot_len = max([len(data_column_1), len(data_column_2)])\n",
    "    boot_data = []\n",
    "    for i in tqdm(range(boot_it)): # извлекаем подвыборки\n",
    "        samples_1 = data_column_1.sample(\n",
    "            boot_len, \n",
    "            replace = True # параметр возвращения\n",
    "        ).values\n",
    "        \n",
    "        samples_2 = data_column_2.sample(\n",
    "            boot_len, \n",
    "            replace = True\n",
    "        ).values\n",
    "        \n",
    "        boot_data.append(statistic(samples_1-samples_2)) # берем медиану\n",
    "        \n",
    "    pd_boot_data = pd.DataFrame(boot_data)\n",
    "        \n",
    "    left_quant = (1 - bootstrap_conf_level)/2\n",
    "    right_quant = 1 - (1 - bootstrap_conf_level) / 2\n",
    "    ci = pd_boot_data.quantile([left_quant, right_quant])\n",
    "        \n",
    "    p_1 = ss.norm.cdf(\n",
    "        x = 0, \n",
    "        loc = np.median(boot_data), \n",
    "        scale = np.std(boot_data)\n",
    "    )\n",
    "    p_2 = ss.norm.cdf(\n",
    "        x = 0, \n",
    "        loc = -np.median(boot_data), \n",
    "        scale = np.std(boot_data)\n",
    "    )\n",
    "    p_value = min(p_1, p_2) * 2\n",
    "        \n",
    "    # Визуализация\n",
    "    plt.hist(pd_boot_data[0], bins = 50)\n",
    "    \n",
    "    plt.style.use('ggplot')\n",
    "    plt.vlines(ci,ymin=0,ymax=50,linestyle='--')\n",
    "    plt.xlabel('boot_data')\n",
    "    plt.ylabel('frequency')\n",
    "    plt.title(\"Histogram of boot_data\")\n",
    "    plt.show()\n",
    "       \n",
    "    return { \n",
    "            \"ci\": ci, \n",
    "            \"p_value\": p_value}"
   ]
  },
  {
   "cell_type": "code",
   "execution_count": 71,
   "metadata": {},
   "outputs": [
    {
     "data": {
      "application/vnd.jupyter.widget-view+json": {
       "model_id": "afb0eaf0552e43d7827a84a183608d84",
       "version_major": 2,
       "version_minor": 0
      },
      "text/plain": [
       "HBox(children=(FloatProgress(value=0.0, max=1000.0), HTML(value='')))"
      ]
     },
     "metadata": {},
     "output_type": "display_data"
    },
    {
     "name": "stdout",
     "output_type": "stream",
     "text": [
      "\n"
     ]
    },
    {
     "data": {
      "image/png": "[encoded data removed]",
      "text/plain": [
       "<Figure size 432x288 with 1 Axes>"
      ]
     },
     "metadata": {},
     "output_type": "display_data"
    },
    {
     "data": {
      "text/plain": [
       "{'ci':               0\n",
       " 0.025  198.7875\n",
       " 0.975  565.1000,\n",
       " 'p_value': 3.5005860667945524e-05}"
      ]
     },
     "execution_count": 71,
     "metadata": {},
     "output_type": "execute_result"
    }
   ],
   "source": [
    "get_bootstrap_median(B_not_0, A_not_0)"
   ]
  },
  {
   "cell_type": "markdown",
   "metadata": {},
   "source": [
    "### Выводы по ARPPU\n",
    "В данном случае все 3 теста показали стат значимые различия между выборками - разные распределения, разные средние и медианы. Это также было видно на боксплоте и распределениях"
   ]
  },
  {
   "cell_type": "markdown",
   "metadata": {},
   "source": [
    "*Также из любопытства решил попробовать готовую библиотеку по бутстрапу, но не до конца понял по поводу суммы, которую рекомендуют использовать в качестве меры центральной тенденции, т.е. искомой статистики. Исходя из комментариев к коду, сумму рекомендуют использовать в тех случаях, когда хотим учесть размеры выборок, т.е. как я понял, при дисбалансе*\n",
    "\n",
    "https://github.com/facebookarchive/bootstrapped/blob/master/examples/bootstrap_ab_testing.ipynb\n"
   ]
  },
  {
   "cell_type": "code",
   "execution_count": 72,
   "metadata": {},
   "outputs": [],
   "source": [
    "# функции на вход просят нампаевский массив\n",
    "A_not_0_ar = np.array(active_users_payments.query('rev > 0 and group == \"A\"')['rev'])\n",
    "B_not_0_ar = np.array(active_users_payments.query('rev > 0 and group == \"B\"')['rev'])"
   ]
  },
  {
   "cell_type": "code",
   "execution_count": 73,
   "metadata": {},
   "outputs": [
    {
     "name": "stdout",
     "output_type": "stream",
     "text": [
      "-48.68421052631579    (-67.06539074960128, -25.5)\n"
     ]
    }
   ],
   "source": [
    "print(bs.bootstrap_ab(\n",
    "    A_not_0_ar, \n",
    "    B_not_0_ar, \n",
    "    stat_func=bs_stats.median,\n",
    "    compare_func=bs_compare.percent_change\n",
    "))"
   ]
  },
  {
   "cell_type": "code",
   "execution_count": 74,
   "metadata": {},
   "outputs": [
    {
     "name": "stdout",
     "output_type": "stream",
     "text": [
      "-25.780639513106717    (-44.127962823490286, -9.8980779272027)\n"
     ]
    }
   ],
   "source": [
    "print(bs.bootstrap_ab(\n",
    "    A_not_0_ar, \n",
    "    B_not_0_ar, \n",
    "    stat_func=bs_stats.mean,\n",
    "    compare_func=bs_compare.percent_change\n",
    "))"
   ]
  },
  {
   "cell_type": "code",
   "execution_count": 75,
   "metadata": {},
   "outputs": [
    {
     "name": "stdout",
     "output_type": "stream",
     "text": [
      "-81.5633435733195    (-86.04849804768851, -77.77833979199737)\n"
     ]
    }
   ],
   "source": [
    "print(bs.bootstrap_ab(\n",
    "    A_not_0_ar, \n",
    "    B_not_0_ar, \n",
    "    stat_func=bs_stats.sum,\n",
    "    compare_func=bs_compare.percent_change\n",
    "))"
   ]
  },
  {
   "cell_type": "markdown",
   "metadata": {},
   "source": [
    "*Главное, что и в этих тестах доверительный интервал не включает 0*\n",
    "\n",
    "*Также проверим и ARPAU, в качестве меры центральной тенденции воспользуемся суммой и средним*"
   ]
  },
  {
   "cell_type": "code",
   "execution_count": 76,
   "metadata": {},
   "outputs": [],
   "source": [
    "A_group_active = np.array(active_users_payments.query('group == \"A\"')['rev'])\n",
    "B_group_active = np.array(active_users_payments.query('group == \"B\"')['rev'])"
   ]
  },
  {
   "cell_type": "code",
   "execution_count": 77,
   "metadata": {},
   "outputs": [
    {
     "name": "stdout",
     "output_type": "stream",
     "text": [
      "-81.5633435733195    (-88.33061795321053, -75.96259323856147)\n"
     ]
    }
   ],
   "source": [
    "# есть стат. значимые различия, используя сумму в качестве статистики\n",
    "print(bs.bootstrap_ab(\n",
    "    A_group_active, \n",
    "    B_group_active, \n",
    "    stat_func=bs_stats.sum,\n",
    "    compare_func=bs_compare.percent_change\n",
    "))"
   ]
  },
  {
   "cell_type": "code",
   "execution_count": 78,
   "metadata": {},
   "outputs": [
    {
     "name": "stdout",
     "output_type": "stream",
     "text": [
      "-18.449561982634965    (-48.19491300667572, 6.7764076900157235)\n"
     ]
    }
   ],
   "source": [
    "# нет стат. значимых различий, используя среднее в качестве статистики\n",
    "print(bs.bootstrap_ab(\n",
    "    A_group_active, \n",
    "    B_group_active, \n",
    "    stat_func=bs_stats.mean,\n",
    "    compare_func=bs_compare.percent_change\n",
    "))"
   ]
  },
  {
   "cell_type": "markdown",
   "metadata": {},
   "source": [
    "*По идее, среднее и сумма это одно и то же, только среднее как раз должно учитывать размеры групп. В общем буду искать информацию по этому поводу, а пока больше доверюсь лекционной функции, принцип работы которой я понимаю*"
   ]
  },
  {
   "cell_type": "markdown",
   "metadata": {},
   "source": [
    "# Выводы по заданию 1\n",
    "Выводы будут зависеть от того, какие метрики мы определили целевыми перед началом A/B теста. Если мы хотели увеличить CR в покупку у активных пользователей, то сделать нам это не удалось. Хотя по идее, при тестировании новой мехиники оплаты именно конверсия, на мой взгляд, должна быть целевой метрикой. Это объясняется тем, что механика оплаты имеет большее значение при самом факте оплаты (предположу, что в новую механику добавили новый способ оплаты, который на наш взгляд должен был увеличить число платящих пользователей). Я бы не стал вводить новую механику оплаты, а продлил тест или разбил бы тестувую и контрольную группы на равное число пользователей для увеличения мощности теста.\n",
    "\n",
    "Если наша целевая метрика ARPAU, то я бы скорее запустил новую механику на всех пользователей, так как различия между средними статистически значимы. Меня смущает тот факт, что в тесте мы сравниваем среднее, которое сильно искажается выбросами, которыми можно считать в выборках как 0, так и все значения, которые больше 0.\n",
    "\n",
    "Если наша целевая метрика ARPPU, то я бы точно запустил новую механику на всю аудиторию, так как средние и медианы статистически значимо отличаются."
   ]
  },
  {
   "cell_type": "markdown",
   "metadata": {},
   "source": [
    "# Задание 2. SQL\n",
    "**2.1 Очень усердные ученики.**\n",
    "\n",
    "**2.1.1 Условие**\n",
    "\n",
    "Образовательные курсы состоят из различных уроков, каждый из которых состоит из нескольких маленьких заданий. Каждое такое маленькое задание называется \"горошиной\".\n",
    "\n",
    "Назовём очень усердным учеником того пользователя, который хотя бы раз за текущий месяц правильно решил 20 горошин.\n",
    "\n",
    "**2.1.2 Задача**\n",
    "\n",
    "Дана таблица default.peas:\n",
    "\n",
    "```\n",
    "| Название атрибута |Тип атрибута | Смысловое значение                       |\n",
    "|-------------------+-------------+------------------------------------------|\n",
    "| st_id             | int         | ID ученика                               |\n",
    "|-------------------+-------------+------------------------------------------|\n",
    "| timest            | timestamp   | Время решения карточки                   |\n",
    "|-------------------+-------------+------------------------------------------|\n",
    "| correct           | bool        | Правильно ли решена горошина?            |\n",
    "|-------------------+-------------+------------------------------------------|\n",
    "| subject           | text        | Дисциплина, в которой находится горошина |\n",
    "```\n",
    "\n",
    "Необходимо написать оптимальный запрос, который даст информацию о количестве очень усердных студентов."
   ]
  },
  {
   "cell_type": "code",
   "execution_count": 79,
   "metadata": {},
   "outputs": [],
   "source": [
    "connection_default = {'host': 'http://clickhouse.beslan.pro:8080',\n",
    "                      'database':'default',\n",
    "                      'user':'student', \n",
    "                      'password':'dpo_python_2020'\n",
    "                     }"
   ]
  },
  {
   "cell_type": "code",
   "execution_count": 80,
   "metadata": {},
   "outputs": [],
   "source": [
    "# посмотрим, на месяцы и число учеников\n",
    "query_month = \"\"\"\n",
    "SELECT \n",
    "    CAST(min(timest) AS Date) AS min_month,\n",
    "    CAST(max(timest) AS Date) AS max_month,\n",
    "    countdistinct(st_id) AS all_students\n",
    "FROM\n",
    "    default.peas;\n",
    "\"\"\""
   ]
  },
  {
   "cell_type": "code",
   "execution_count": 81,
   "metadata": {},
   "outputs": [
    {
     "data": {
      "text/html": [
       "<div>\n",
       "<style scoped>\n",
       "    .dataframe tbody tr th:only-of-type {\n",
       "        vertical-align: middle;\n",
       "    }\n",
       "\n",
       "    .dataframe tbody tr th {\n",
       "        vertical-align: top;\n",
       "    }\n",
       "\n",
       "    .dataframe thead th {\n",
       "        text-align: right;\n",
       "    }\n",
       "</style>\n",
       "<table border=\"1\" class=\"dataframe\">\n",
       "  <thead>\n",
       "    <tr style=\"text-align: right;\">\n",
       "      <th></th>\n",
       "      <th>min_month</th>\n",
       "      <th>max_month</th>\n",
       "      <th>all_students</th>\n",
       "    </tr>\n",
       "  </thead>\n",
       "  <tbody>\n",
       "    <tr>\n",
       "      <th>0</th>\n",
       "      <td>2021-10-30</td>\n",
       "      <td>2021-10-31</td>\n",
       "      <td>308</td>\n",
       "    </tr>\n",
       "  </tbody>\n",
       "</table>\n",
       "</div>"
      ],
      "text/plain": [
       "   min_month  max_month  all_students\n",
       "0 2021-10-30 2021-10-31           308"
      ]
     },
     "execution_count": 81,
     "metadata": {},
     "output_type": "execute_result"
    }
   ],
   "source": [
    "info_1 = ph.read_clickhouse(query_month, connection=connection_default)\n",
    "info_1"
   ]
  },
  {
   "cell_type": "code",
   "execution_count": 82,
   "metadata": {},
   "outputs": [],
   "source": [
    "# посмотрим на всякий случай на тип данных\n",
    "types_of_data = '''\n",
    "DESCRIBE TABLE default.peas\n",
    "'''"
   ]
  },
  {
   "cell_type": "code",
   "execution_count": 83,
   "metadata": {},
   "outputs": [
    {
     "data": {
      "text/html": [
       "<div>\n",
       "<style scoped>\n",
       "    .dataframe tbody tr th:only-of-type {\n",
       "        vertical-align: middle;\n",
       "    }\n",
       "\n",
       "    .dataframe tbody tr th {\n",
       "        vertical-align: top;\n",
       "    }\n",
       "\n",
       "    .dataframe thead th {\n",
       "        text-align: right;\n",
       "    }\n",
       "</style>\n",
       "<table border=\"1\" class=\"dataframe\">\n",
       "  <thead>\n",
       "    <tr style=\"text-align: right;\">\n",
       "      <th></th>\n",
       "      <th>name</th>\n",
       "      <th>type</th>\n",
       "      <th>default_type</th>\n",
       "      <th>default_expression</th>\n",
       "      <th>comment</th>\n",
       "      <th>codec_expression</th>\n",
       "      <th>ttl_expression</th>\n",
       "    </tr>\n",
       "  </thead>\n",
       "  <tbody>\n",
       "    <tr>\n",
       "      <th>0</th>\n",
       "      <td>st_id</td>\n",
       "      <td>String</td>\n",
       "      <td></td>\n",
       "      <td></td>\n",
       "      <td></td>\n",
       "      <td></td>\n",
       "      <td></td>\n",
       "    </tr>\n",
       "    <tr>\n",
       "      <th>1</th>\n",
       "      <td>timest</td>\n",
       "      <td>DateTime64(3)</td>\n",
       "      <td></td>\n",
       "      <td></td>\n",
       "      <td></td>\n",
       "      <td></td>\n",
       "      <td></td>\n",
       "    </tr>\n",
       "    <tr>\n",
       "      <th>2</th>\n",
       "      <td>correct</td>\n",
       "      <td>Int8</td>\n",
       "      <td></td>\n",
       "      <td></td>\n",
       "      <td></td>\n",
       "      <td></td>\n",
       "      <td></td>\n",
       "    </tr>\n",
       "    <tr>\n",
       "      <th>3</th>\n",
       "      <td>subject</td>\n",
       "      <td>String</td>\n",
       "      <td></td>\n",
       "      <td></td>\n",
       "      <td></td>\n",
       "      <td></td>\n",
       "      <td></td>\n",
       "    </tr>\n",
       "  </tbody>\n",
       "</table>\n",
       "</div>"
      ],
      "text/plain": [
       "      name           type default_type default_expression comment  \\\n",
       "0    st_id         String                                           \n",
       "1   timest  DateTime64(3)                                           \n",
       "2  correct           Int8                                           \n",
       "3  subject         String                                           \n",
       "\n",
       "  codec_expression ttl_expression  \n",
       "0                                  \n",
       "1                                  \n",
       "2                                  \n",
       "3                                  "
      ]
     },
     "execution_count": 83,
     "metadata": {},
     "output_type": "execute_result"
    }
   ],
   "source": [
    "info_1_2 = ph.read_clickhouse(types_of_data, connection=connection_default)\n",
    "info_1_2"
   ]
  },
  {
   "cell_type": "markdown",
   "metadata": {},
   "source": [
    "*С учетом того, что в таблице лежат данные только за два дня, то запрос можно существенно сократить*"
   ]
  },
  {
   "cell_type": "code",
   "execution_count": 84,
   "metadata": {},
   "outputs": [],
   "source": [
    "query_1 = \"\"\"\n",
    "SELECT\n",
    "    COUNT(*) AS number_of_students\n",
    "FROM (\n",
    "    SELECT\n",
    "        SUM(correct) AS sum_of_students\n",
    "    FROM\n",
    "        default.peas\n",
    "    GROUP BY\n",
    "        CAST(st_id AS UInt32) -- изначально у id строковый тип\n",
    "    HAVING\n",
    "        sum_of_students >= 20\n",
    "    )\n",
    "\"\"\""
   ]
  },
  {
   "cell_type": "code",
   "execution_count": 85,
   "metadata": {},
   "outputs": [
    {
     "data": {
      "text/html": [
       "<div>\n",
       "<style scoped>\n",
       "    .dataframe tbody tr th:only-of-type {\n",
       "        vertical-align: middle;\n",
       "    }\n",
       "\n",
       "    .dataframe tbody tr th {\n",
       "        vertical-align: top;\n",
       "    }\n",
       "\n",
       "    .dataframe thead th {\n",
       "        text-align: right;\n",
       "    }\n",
       "</style>\n",
       "<table border=\"1\" class=\"dataframe\">\n",
       "  <thead>\n",
       "    <tr style=\"text-align: right;\">\n",
       "      <th></th>\n",
       "      <th>number_of_students</th>\n",
       "    </tr>\n",
       "  </thead>\n",
       "  <tbody>\n",
       "    <tr>\n",
       "      <th>0</th>\n",
       "      <td>136</td>\n",
       "    </tr>\n",
       "  </tbody>\n",
       "</table>\n",
       "</div>"
      ],
      "text/plain": [
       "   number_of_students\n",
       "0                 136"
      ]
     },
     "execution_count": 85,
     "metadata": {},
     "output_type": "execute_result"
    }
   ],
   "source": [
    "df1 = ph.read_clickhouse(query_1, connection=connection_default)\n",
    "df1"
   ]
  },
  {
   "cell_type": "markdown",
   "metadata": {},
   "source": [
    "*Если месяцев было бы несколько, то я бы привел месяцы к 1 числу каждого месяца и считал бы месяц, который надо взять по условию*"
   ]
  },
  {
   "cell_type": "code",
   "execution_count": 86,
   "metadata": {},
   "outputs": [],
   "source": [
    "# на самом деле и без приведения типов считалось корректно\n",
    "query_1_2 = \"\"\"\n",
    "SELECT\n",
    "    COUNT(*) AS number_of_students\n",
    "FROM (\n",
    "    SELECT\n",
    "        SUM(correct) AS SUM,\n",
    "        toStartOfMonth(timest) AS month\n",
    "    FROM\n",
    "        default.peas\n",
    "    GROUP BY\n",
    "        CAST(st_id AS UInt32),\n",
    "        toStartOfMonth(timest)\n",
    "    HAVING\n",
    "        SUM >= 20)\n",
    "WHERE\n",
    "    month = '2021-10-01'\n",
    "\"\"\""
   ]
  },
  {
   "cell_type": "code",
   "execution_count": 87,
   "metadata": {},
   "outputs": [
    {
     "data": {
      "text/html": [
       "<div>\n",
       "<style scoped>\n",
       "    .dataframe tbody tr th:only-of-type {\n",
       "        vertical-align: middle;\n",
       "    }\n",
       "\n",
       "    .dataframe tbody tr th {\n",
       "        vertical-align: top;\n",
       "    }\n",
       "\n",
       "    .dataframe thead th {\n",
       "        text-align: right;\n",
       "    }\n",
       "</style>\n",
       "<table border=\"1\" class=\"dataframe\">\n",
       "  <thead>\n",
       "    <tr style=\"text-align: right;\">\n",
       "      <th></th>\n",
       "      <th>number_of_students</th>\n",
       "    </tr>\n",
       "  </thead>\n",
       "  <tbody>\n",
       "    <tr>\n",
       "      <th>0</th>\n",
       "      <td>136</td>\n",
       "    </tr>\n",
       "  </tbody>\n",
       "</table>\n",
       "</div>"
      ],
      "text/plain": [
       "   number_of_students\n",
       "0                 136"
      ]
     },
     "execution_count": 87,
     "metadata": {},
     "output_type": "execute_result"
    }
   ],
   "source": [
    "df1_2 = ph.read_clickhouse(query_1, connection=connection_default)\n",
    "df1_2"
   ]
  },
  {
   "cell_type": "markdown",
   "metadata": {},
   "source": [
    "### 2.2 Оптимизация воронки\n",
    "\n",
    "**2.2.1 Условие**\n",
    "\n",
    "Образовательная платформа предлагает пройти студентам курсы по модели trial: студент может решить бесплатно лишь 30 горошин в день. Для неограниченного количества заданий в определенной дисциплине студенту необходимо приобрести полный доступ. Команда провела эксперимент, где был протестирован новый экран оплаты.\n",
    "\n",
    "Даны 3 таблицы:\n",
    "\n",
    "таблица **default.peas:**\n",
    "\n",
    "```\n",
    "| Название атрибута |Тип атрибута | Смысловое значение                       |\n",
    "|-------------------+-------------+------------------------------------------|\n",
    "| st_id             | int         | ID ученика                               |\n",
    "|-------------------+-------------+------------------------------------------|\n",
    "| timest            | timestamp   | Время решения карточки                   |\n",
    "|-------------------+-------------+------------------------------------------|\n",
    "| correct           | bool        | Правильно ли решена горошина?            |\n",
    "|-------------------+-------------+------------------------------------------|\n",
    "| subject           | text        | Дисциплина, в которой находится горошина |\n",
    "```\n",
    "таблица **default.studs:**\n",
    "\n",
    "```\n",
    "| Название атрибута |Тип атрибута | Смысловое значение                       |\n",
    "|-------------------+-------------+------------------------------------------|\n",
    "| st_id             | int         | ID ученика                               |\n",
    "|-------------------+-------------+------------------------------------------|\n",
    "| test_grp          | text        | Метка ученика в данном эксперименте      |\n",
    "|-------------------+-------------+------------------------------------------|\n",
    "\n",
    "```\n",
    "таблица **default.final_project_check:**\n",
    "```\n",
    "| Название атрибута |Тип атрибута | Смысловое значение                       |\n",
    "|-------------------+-------------+------------------------------------------|\n",
    "| st_id             | int         | ID ученика                               |\n",
    "|-------------------+-------------+------------------------------------------|\n",
    "| sale_time         | timestamp   | Время покупки                            |\n",
    "|-------------------+-------------+------------------------------------------|\n",
    "| money             | int         | Цена, по которой приобрели данный курс   |\n",
    "|-------------------+-------------+------------------------------------------|\n",
    "| subject           | text        | Дисциплина, в которой находится горошина |\n",
    "```\n",
    "\n",
    "**Необходимо в одном запросе выгрузить следующую информацию о группах пользователей:**\n",
    "- ARPU \n",
    "- ARPAU \n",
    "- CR в покупку \n",
    "- СR активного пользователя в покупку \n",
    "- CR пользователя из активности по математике (subject = ’math’) в покупку курса по математике\n",
    "\n",
    "ARPU считается относительно всех пользователей, попавших в группы.\n",
    "\n",
    "Активным считается пользователь, за все время решивший больше 10 задач правильно в любых дисциплинах.\n",
    "\n",
    "Активным по математике считается пользователь, за все время решивший 2 или больше задач правильно по математике."
   ]
  },
  {
   "cell_type": "code",
   "execution_count": 88,
   "metadata": {},
   "outputs": [],
   "source": [
    "# смотрим на тип данных\n",
    "types_of_data = '''\n",
    "DESCRIBE TABLE default.studs\n",
    "'''"
   ]
  },
  {
   "cell_type": "code",
   "execution_count": 89,
   "metadata": {},
   "outputs": [
    {
     "data": {
      "text/html": [
       "<div>\n",
       "<style scoped>\n",
       "    .dataframe tbody tr th:only-of-type {\n",
       "        vertical-align: middle;\n",
       "    }\n",
       "\n",
       "    .dataframe tbody tr th {\n",
       "        vertical-align: top;\n",
       "    }\n",
       "\n",
       "    .dataframe thead th {\n",
       "        text-align: right;\n",
       "    }\n",
       "</style>\n",
       "<table border=\"1\" class=\"dataframe\">\n",
       "  <thead>\n",
       "    <tr style=\"text-align: right;\">\n",
       "      <th></th>\n",
       "      <th>name</th>\n",
       "      <th>type</th>\n",
       "      <th>default_type</th>\n",
       "      <th>default_expression</th>\n",
       "      <th>comment</th>\n",
       "      <th>codec_expression</th>\n",
       "      <th>ttl_expression</th>\n",
       "    </tr>\n",
       "  </thead>\n",
       "  <tbody>\n",
       "    <tr>\n",
       "      <th>0</th>\n",
       "      <td>st_id</td>\n",
       "      <td>String</td>\n",
       "      <td></td>\n",
       "      <td></td>\n",
       "      <td></td>\n",
       "      <td></td>\n",
       "      <td></td>\n",
       "    </tr>\n",
       "    <tr>\n",
       "      <th>1</th>\n",
       "      <td>test_grp</td>\n",
       "      <td>String</td>\n",
       "      <td></td>\n",
       "      <td></td>\n",
       "      <td></td>\n",
       "      <td></td>\n",
       "      <td></td>\n",
       "    </tr>\n",
       "  </tbody>\n",
       "</table>\n",
       "</div>"
      ],
      "text/plain": [
       "       name    type default_type default_expression comment codec_expression  \\\n",
       "0     st_id  String                                                            \n",
       "1  test_grp  String                                                            \n",
       "\n",
       "  ttl_expression  \n",
       "0                 \n",
       "1                 "
      ]
     },
     "execution_count": 89,
     "metadata": {},
     "output_type": "execute_result"
    }
   ],
   "source": [
    "info_2_1 = ph.read_clickhouse(types_of_data, connection=connection_default)\n",
    "info_2_1"
   ]
  },
  {
   "cell_type": "code",
   "execution_count": 90,
   "metadata": {},
   "outputs": [],
   "source": [
    "# смотрим на тип данных\n",
    "types_of_data = '''\n",
    "DESCRIBE TABLE default.final_project_check\n",
    "'''"
   ]
  },
  {
   "cell_type": "code",
   "execution_count": 91,
   "metadata": {},
   "outputs": [
    {
     "data": {
      "text/html": [
       "<div>\n",
       "<style scoped>\n",
       "    .dataframe tbody tr th:only-of-type {\n",
       "        vertical-align: middle;\n",
       "    }\n",
       "\n",
       "    .dataframe tbody tr th {\n",
       "        vertical-align: top;\n",
       "    }\n",
       "\n",
       "    .dataframe thead th {\n",
       "        text-align: right;\n",
       "    }\n",
       "</style>\n",
       "<table border=\"1\" class=\"dataframe\">\n",
       "  <thead>\n",
       "    <tr style=\"text-align: right;\">\n",
       "      <th></th>\n",
       "      <th>name</th>\n",
       "      <th>type</th>\n",
       "      <th>default_type</th>\n",
       "      <th>default_expression</th>\n",
       "      <th>comment</th>\n",
       "      <th>codec_expression</th>\n",
       "      <th>ttl_expression</th>\n",
       "    </tr>\n",
       "  </thead>\n",
       "  <tbody>\n",
       "    <tr>\n",
       "      <th>0</th>\n",
       "      <td>st_id</td>\n",
       "      <td>String</td>\n",
       "      <td></td>\n",
       "      <td></td>\n",
       "      <td></td>\n",
       "      <td></td>\n",
       "      <td></td>\n",
       "    </tr>\n",
       "    <tr>\n",
       "      <th>1</th>\n",
       "      <td>sale_time</td>\n",
       "      <td>DateTime64(3)</td>\n",
       "      <td></td>\n",
       "      <td></td>\n",
       "      <td></td>\n",
       "      <td></td>\n",
       "      <td></td>\n",
       "    </tr>\n",
       "    <tr>\n",
       "      <th>2</th>\n",
       "      <td>money</td>\n",
       "      <td>UInt32</td>\n",
       "      <td></td>\n",
       "      <td></td>\n",
       "      <td></td>\n",
       "      <td></td>\n",
       "      <td></td>\n",
       "    </tr>\n",
       "    <tr>\n",
       "      <th>3</th>\n",
       "      <td>subject</td>\n",
       "      <td>String</td>\n",
       "      <td></td>\n",
       "      <td></td>\n",
       "      <td></td>\n",
       "      <td></td>\n",
       "      <td></td>\n",
       "    </tr>\n",
       "  </tbody>\n",
       "</table>\n",
       "</div>"
      ],
      "text/plain": [
       "        name           type default_type default_expression comment  \\\n",
       "0      st_id         String                                           \n",
       "1  sale_time  DateTime64(3)                                           \n",
       "2      money         UInt32                                           \n",
       "3    subject         String                                           \n",
       "\n",
       "  codec_expression ttl_expression  \n",
       "0                                  \n",
       "1                                  \n",
       "2                                  \n",
       "3                                  "
      ]
     },
     "execution_count": 91,
     "metadata": {},
     "output_type": "execute_result"
    }
   ],
   "source": [
    "info_2_2 = ph.read_clickhouse(types_of_data, connection=connection_default)\n",
    "info_2_2"
   ]
  },
  {
   "cell_type": "code",
   "execution_count": 92,
   "metadata": {},
   "outputs": [],
   "source": [
    "# посмотрим на число уникальных юзеров в каждой колонке\n",
    "users_1 = '''\n",
    "SELECT\n",
    "    uniqExact(st_id)\n",
    "FROM\n",
    "    default.peas \n",
    "'''\n",
    "\n",
    "users_2 = '''\n",
    "SELECT\n",
    "    uniqExact(st_id)\n",
    "FROM\n",
    "    default.studs \n",
    "'''\n",
    "\n",
    "users_3 = '''\n",
    "SELECT\n",
    "    uniqExact(st_id)\n",
    "FROM\n",
    "    default.final_project_check \n",
    "'''"
   ]
  },
  {
   "cell_type": "code",
   "execution_count": 93,
   "metadata": {},
   "outputs": [
    {
     "name": "stdout",
     "output_type": "stream",
     "text": [
      "   uniqExact(st_id)\n",
      "0               308\n",
      "   uniqExact(st_id)\n",
      "0               600\n",
      "   uniqExact(st_id)\n",
      "0                47\n"
     ]
    }
   ],
   "source": [
    "print(ph.read_clickhouse(users_1, connection=connection_default))\n",
    "print(ph.read_clickhouse(users_2, connection=connection_default))\n",
    "print(ph.read_clickhouse(users_3, connection=connection_default))"
   ]
  },
  {
   "cell_type": "markdown",
   "metadata": {},
   "source": [
    "*308 человек, которые что-то решали, 600 человек всего, 47 из которых купили хотя бы 1 дисциплину.*"
   ]
  },
  {
   "cell_type": "code",
   "execution_count": 94,
   "metadata": {},
   "outputs": [],
   "source": [
    "# посмотрим на разбивку\n",
    "studs = '''\n",
    "SELECT\n",
    "    COUNT(*), \n",
    "    test_grp\n",
    "FROM\n",
    "    default.studs\n",
    "GROUP BY\n",
    "    test_grp\n",
    "'''"
   ]
  },
  {
   "cell_type": "code",
   "execution_count": 95,
   "metadata": {},
   "outputs": [
    {
     "data": {
      "text/html": [
       "<div>\n",
       "<style scoped>\n",
       "    .dataframe tbody tr th:only-of-type {\n",
       "        vertical-align: middle;\n",
       "    }\n",
       "\n",
       "    .dataframe tbody tr th {\n",
       "        vertical-align: top;\n",
       "    }\n",
       "\n",
       "    .dataframe thead th {\n",
       "        text-align: right;\n",
       "    }\n",
       "</style>\n",
       "<table border=\"1\" class=\"dataframe\">\n",
       "  <thead>\n",
       "    <tr style=\"text-align: right;\">\n",
       "      <th></th>\n",
       "      <th>count()</th>\n",
       "      <th>test_grp</th>\n",
       "    </tr>\n",
       "  </thead>\n",
       "  <tbody>\n",
       "    <tr>\n",
       "      <th>0</th>\n",
       "      <td>305</td>\n",
       "      <td>control</td>\n",
       "    </tr>\n",
       "    <tr>\n",
       "      <th>1</th>\n",
       "      <td>295</td>\n",
       "      <td>pilot</td>\n",
       "    </tr>\n",
       "  </tbody>\n",
       "</table>\n",
       "</div>"
      ],
      "text/plain": [
       "   count() test_grp\n",
       "0      305  control\n",
       "1      295    pilot"
      ]
     },
     "execution_count": 95,
     "metadata": {},
     "output_type": "execute_result"
    }
   ],
   "source": [
    "ph.read_clickhouse(studs, connection=connection_default)"
   ]
  },
  {
   "cell_type": "code",
   "execution_count": 96,
   "metadata": {},
   "outputs": [],
   "source": [
    "# посмотрим на число строк в каждой таблице, пригодится при джойнах\n",
    "size_1 = '''SELECT COUNT(*) FROM default.peas'''\n",
    "size_2 = '''SELECT COUNT(*) FROM default.studs'''\n",
    "size_3 = '''SELECT COUNT(*) FROM default.final_project_check'''"
   ]
  },
  {
   "cell_type": "code",
   "execution_count": 97,
   "metadata": {},
   "outputs": [
    {
     "name": "stdout",
     "output_type": "stream",
     "text": [
      "   count()\n",
      "0    13245\n",
      "   count()\n",
      "0      600\n",
      "   count()\n",
      "0       61\n"
     ]
    }
   ],
   "source": [
    "print(ph.read_clickhouse(size_1, connection=connection_default))\n",
    "print(ph.read_clickhouse(size_2, connection=connection_default))\n",
    "print(ph.read_clickhouse(size_3, connection=connection_default))"
   ]
  },
  {
   "cell_type": "markdown",
   "metadata": {},
   "source": [
    "Исходя из задания, финальная таблица может выглядеть следующим образом:\n",
    "````\n",
    "| Группы    |ARPU         | ARPAU     |CR в покупку|СR активного пользователя в покупку| CR активных по математике\n",
    "|-----------+-------------+-----------+------------+-----------------------------------+---------------------------\n",
    "| control   | значение    | значение  |значение    | значение                          |значение\n",
    "|-----------+-------------+-----------+------------+-----------------------------------+---------------------------\n",
    "| pilot     | значение    | значение  |значение    | значение                          |значение                      \n",
    "|-----------+-------------+-----------+------------+-----------------------------------+---------------------------\n",
    "````\n",
    "Подобную таблицу можно построить при помощи подзапросов и джойнов, т.е. подзапрос должен будет выводить группу и 1 метрику, а потом джойн, где ключом будет группа.\n",
    "\n",
    "Делать я буду итерациями, по отдельности выводить каждую метрику. В конце будет запрос целиком, как требуется в задании."
   ]
  },
  {
   "cell_type": "markdown",
   "metadata": {},
   "source": [
    "## ARPU"
   ]
  },
  {
   "cell_type": "code",
   "execution_count": 98,
   "metadata": {},
   "outputs": [],
   "source": [
    "# посмотрим, сколько потратила каждая группа\n",
    "money_all = '''\n",
    "SELECT\n",
    "    group,\n",
    "    SUM(money) AS sum_of_money\n",
    "FROM\n",
    "    (SELECT\n",
    "        l.st_id AS st_id,\n",
    "        l.money AS money,\n",
    "        r.test_grp AS group\n",
    "    FROM\n",
    "         default.final_project_check AS l -- клеим группы с деньгами\n",
    "    LEFT JOIN\n",
    "        default.studs AS r\n",
    "        USING (st_id)\n",
    "    )\n",
    "GROUP BY\n",
    "    group\n",
    "'''"
   ]
  },
  {
   "cell_type": "code",
   "execution_count": 99,
   "metadata": {},
   "outputs": [
    {
     "data": {
      "text/html": [
       "<div>\n",
       "<style scoped>\n",
       "    .dataframe tbody tr th:only-of-type {\n",
       "        vertical-align: middle;\n",
       "    }\n",
       "\n",
       "    .dataframe tbody tr th {\n",
       "        vertical-align: top;\n",
       "    }\n",
       "\n",
       "    .dataframe thead th {\n",
       "        text-align: right;\n",
       "    }\n",
       "</style>\n",
       "<table border=\"1\" class=\"dataframe\">\n",
       "  <thead>\n",
       "    <tr style=\"text-align: right;\">\n",
       "      <th></th>\n",
       "      <th>group</th>\n",
       "      <th>sum_of_money</th>\n",
       "    </tr>\n",
       "  </thead>\n",
       "  <tbody>\n",
       "    <tr>\n",
       "      <th>0</th>\n",
       "      <td>control</td>\n",
       "      <td>1385000</td>\n",
       "    </tr>\n",
       "    <tr>\n",
       "      <th>1</th>\n",
       "      <td>pilot</td>\n",
       "      <td>3395000</td>\n",
       "    </tr>\n",
       "  </tbody>\n",
       "</table>\n",
       "</div>"
      ],
      "text/plain": [
       "     group  sum_of_money\n",
       "0  control       1385000\n",
       "1    pilot       3395000"
      ]
     },
     "execution_count": 99,
     "metadata": {},
     "output_type": "execute_result"
    }
   ],
   "source": [
    "money_table = ph.read_clickhouse(money_all, connection=connection_default)\n",
    "money_table"
   ]
  },
  {
   "cell_type": "code",
   "execution_count": 100,
   "metadata": {},
   "outputs": [],
   "source": [
    "query_money='''\n",
    "SELECT\n",
    "    st_id,\n",
    "    money\n",
    "FROM\n",
    "    default.final_project_check \n",
    "'''"
   ]
  },
  {
   "cell_type": "code",
   "execution_count": 101,
   "metadata": {},
   "outputs": [
    {
     "data": {
      "text/html": [
       "<div>\n",
       "<style scoped>\n",
       "    .dataframe tbody tr th:only-of-type {\n",
       "        vertical-align: middle;\n",
       "    }\n",
       "\n",
       "    .dataframe tbody tr th {\n",
       "        vertical-align: top;\n",
       "    }\n",
       "\n",
       "    .dataframe thead th {\n",
       "        text-align: right;\n",
       "    }\n",
       "</style>\n",
       "<table border=\"1\" class=\"dataframe\">\n",
       "  <thead>\n",
       "    <tr style=\"text-align: right;\">\n",
       "      <th></th>\n",
       "      <th>st_id</th>\n",
       "      <th>money</th>\n",
       "    </tr>\n",
       "  </thead>\n",
       "  <tbody>\n",
       "    <tr>\n",
       "      <th>0</th>\n",
       "      <td>101432</td>\n",
       "      <td>85000</td>\n",
       "    </tr>\n",
       "    <tr>\n",
       "      <th>1</th>\n",
       "      <td>101432</td>\n",
       "      <td>65000</td>\n",
       "    </tr>\n",
       "    <tr>\n",
       "      <th>2</th>\n",
       "      <td>104885</td>\n",
       "      <td>65000</td>\n",
       "    </tr>\n",
       "    <tr>\n",
       "      <th>3</th>\n",
       "      <td>104885</td>\n",
       "      <td>75000</td>\n",
       "    </tr>\n",
       "    <tr>\n",
       "      <th>4</th>\n",
       "      <td>106464</td>\n",
       "      <td>85000</td>\n",
       "    </tr>\n",
       "    <tr>\n",
       "      <th>...</th>\n",
       "      <td>...</td>\n",
       "      <td>...</td>\n",
       "    </tr>\n",
       "    <tr>\n",
       "      <th>56</th>\n",
       "      <td>969595</td>\n",
       "      <td>65000</td>\n",
       "    </tr>\n",
       "    <tr>\n",
       "      <th>57</th>\n",
       "      <td>969595</td>\n",
       "      <td>75000</td>\n",
       "    </tr>\n",
       "    <tr>\n",
       "      <th>58</th>\n",
       "      <td>969595</td>\n",
       "      <td>100000</td>\n",
       "    </tr>\n",
       "    <tr>\n",
       "      <th>59</th>\n",
       "      <td>976866</td>\n",
       "      <td>85000</td>\n",
       "    </tr>\n",
       "    <tr>\n",
       "      <th>60</th>\n",
       "      <td>982100</td>\n",
       "      <td>85000</td>\n",
       "    </tr>\n",
       "  </tbody>\n",
       "</table>\n",
       "<p>61 rows × 2 columns</p>\n",
       "</div>"
      ],
      "text/plain": [
       "     st_id   money\n",
       "0   101432   85000\n",
       "1   101432   65000\n",
       "2   104885   65000\n",
       "3   104885   75000\n",
       "4   106464   85000\n",
       "..     ...     ...\n",
       "56  969595   65000\n",
       "57  969595   75000\n",
       "58  969595  100000\n",
       "59  976866   85000\n",
       "60  982100   85000\n",
       "\n",
       "[61 rows x 2 columns]"
      ]
     },
     "execution_count": 101,
     "metadata": {},
     "output_type": "execute_result"
    }
   ],
   "source": [
    "t = ph.read_clickhouse(query_money, connection=connection_default)\n",
    "t"
   ]
  },
  {
   "cell_type": "code",
   "execution_count": 102,
   "metadata": {},
   "outputs": [
    {
     "name": "stdout",
     "output_type": "stream",
     "text": [
      "4780000\n"
     ]
    },
    {
     "data": {
      "text/plain": [
       "True"
      ]
     },
     "execution_count": 102,
     "metadata": {},
     "output_type": "execute_result"
    }
   ],
   "source": [
    "print(sum(t['money']))\n",
    "sum(t['money']) == sum(money_table['sum_of_money'])"
   ]
  },
  {
   "cell_type": "code",
   "execution_count": 103,
   "metadata": {},
   "outputs": [],
   "source": [
    "# ARPU рассчитывается как все деньги / все пользователи\n",
    "query_arpu = '''\n",
    "SELECT\n",
    "    group,\n",
    "    sum_of_money / number_of_students AS ARPU\n",
    "FROM\n",
    "    (SELECT\n",
    "        group,\n",
    "        SUM(money) AS sum_of_money\n",
    "    FROM\n",
    "        (SELECT\n",
    "            l.st_id AS st_id,\n",
    "            l.money AS money,\n",
    "            r.test_grp AS group\n",
    "        FROM\n",
    "             default.final_project_check AS l -- клеим группы с деньгами\n",
    "        LEFT JOIN\n",
    "            default.studs AS r\n",
    "            USING (st_id)\n",
    "        )\n",
    "    GROUP BY\n",
    "        group) AS l2\n",
    "LEFT JOIN               -- клеим число людей в каждой группе с деньгами\n",
    "    (SELECT\n",
    "        COUNT(*) AS number_of_students, \n",
    "        test_grp AS group\n",
    "    FROM\n",
    "        default.studs\n",
    "    GROUP BY\n",
    "        test_grp) AS r2\n",
    "    USING (group)\n",
    "'''"
   ]
  },
  {
   "cell_type": "code",
   "execution_count": 104,
   "metadata": {},
   "outputs": [
    {
     "data": {
      "text/html": [
       "<div>\n",
       "<style scoped>\n",
       "    .dataframe tbody tr th:only-of-type {\n",
       "        vertical-align: middle;\n",
       "    }\n",
       "\n",
       "    .dataframe tbody tr th {\n",
       "        vertical-align: top;\n",
       "    }\n",
       "\n",
       "    .dataframe thead th {\n",
       "        text-align: right;\n",
       "    }\n",
       "</style>\n",
       "<table border=\"1\" class=\"dataframe\">\n",
       "  <thead>\n",
       "    <tr style=\"text-align: right;\">\n",
       "      <th></th>\n",
       "      <th>group</th>\n",
       "      <th>ARPU</th>\n",
       "    </tr>\n",
       "  </thead>\n",
       "  <tbody>\n",
       "    <tr>\n",
       "      <th>0</th>\n",
       "      <td>control</td>\n",
       "      <td>4540.983607</td>\n",
       "    </tr>\n",
       "    <tr>\n",
       "      <th>1</th>\n",
       "      <td>pilot</td>\n",
       "      <td>11508.474576</td>\n",
       "    </tr>\n",
       "  </tbody>\n",
       "</table>\n",
       "</div>"
      ],
      "text/plain": [
       "     group          ARPU\n",
       "0  control   4540.983607\n",
       "1    pilot  11508.474576"
      ]
     },
     "execution_count": 104,
     "metadata": {},
     "output_type": "execute_result"
    }
   ],
   "source": [
    "arpu_table = ph.read_clickhouse(query_arpu, connection=connection_default)\n",
    "arpu_table"
   ]
  },
  {
   "cell_type": "code",
   "execution_count": 105,
   "metadata": {},
   "outputs": [],
   "source": [
    "# обернем ph.read_clickhouse в функцию для удобства\n",
    "def read(query):\n",
    "    return ph.read_clickhouse(query, connection=connection_default)"
   ]
  },
  {
   "cell_type": "code",
   "execution_count": 106,
   "metadata": {},
   "outputs": [
    {
     "data": {
      "text/html": [
       "<div>\n",
       "<style scoped>\n",
       "    .dataframe tbody tr th:only-of-type {\n",
       "        vertical-align: middle;\n",
       "    }\n",
       "\n",
       "    .dataframe tbody tr th {\n",
       "        vertical-align: top;\n",
       "    }\n",
       "\n",
       "    .dataframe thead th {\n",
       "        text-align: right;\n",
       "    }\n",
       "</style>\n",
       "<table border=\"1\" class=\"dataframe\">\n",
       "  <thead>\n",
       "    <tr style=\"text-align: right;\">\n",
       "      <th></th>\n",
       "      <th>group</th>\n",
       "      <th>ARPU</th>\n",
       "    </tr>\n",
       "  </thead>\n",
       "  <tbody>\n",
       "    <tr>\n",
       "      <th>0</th>\n",
       "      <td>control</td>\n",
       "      <td>4540.983607</td>\n",
       "    </tr>\n",
       "    <tr>\n",
       "      <th>1</th>\n",
       "      <td>pilot</td>\n",
       "      <td>11508.474576</td>\n",
       "    </tr>\n",
       "  </tbody>\n",
       "</table>\n",
       "</div>"
      ],
      "text/plain": [
       "     group          ARPU\n",
       "0  control   4540.983607\n",
       "1    pilot  11508.474576"
      ]
     },
     "execution_count": 106,
     "metadata": {},
     "output_type": "execute_result"
    }
   ],
   "source": [
    "arpu_table = read(query_arpu)\n",
    "arpu_table"
   ]
  },
  {
   "cell_type": "markdown",
   "metadata": {},
   "source": [
    "## ARPAU\n",
    "Average Revenue Per Active User - средняя выручка на активного пользователя, т.е. все деньги (по аналогии с arpu и arppu)/ число активных пользователей. Активные пользователи те, которые решили больше 10 заданий за все время.\n",
    "\n",
    "Запрос будет похож на предыдущий, только предварительно надо будет отфильтровать пользоваталей с 11 и более задачами, приклеить к ним группу, сгруппировать по группе, и посчитать пользоваталей в каждой. С деньгами запрос будет аналогичен предыдущему."
   ]
  },
  {
   "cell_type": "code",
   "execution_count": 107,
   "metadata": {},
   "outputs": [],
   "source": [
    "# таблица с юзерами, у которых больше 10 правильных решений, всего 223 юзера\n",
    "active_uesrs = '''\n",
    "SELECT\n",
    "    *\n",
    "FROM\n",
    "    (SELECT\n",
    "        st_id,\n",
    "        SUM(correct) AS sum_of_points\n",
    "    FROM\n",
    "        default.peas\n",
    "    GROUP BY\n",
    "        st_id\n",
    "    HAVING\n",
    "        SUM(correct) > 10) AS l_arpau\n",
    "LEFT JOIN\n",
    "    default.studs AS r_arpau\n",
    "    USING(st_id)\n",
    "'''"
   ]
  },
  {
   "cell_type": "code",
   "execution_count": 108,
   "metadata": {},
   "outputs": [
    {
     "data": {
      "text/html": [
       "<div>\n",
       "<style scoped>\n",
       "    .dataframe tbody tr th:only-of-type {\n",
       "        vertical-align: middle;\n",
       "    }\n",
       "\n",
       "    .dataframe tbody tr th {\n",
       "        vertical-align: top;\n",
       "    }\n",
       "\n",
       "    .dataframe thead th {\n",
       "        text-align: right;\n",
       "    }\n",
       "</style>\n",
       "<table border=\"1\" class=\"dataframe\">\n",
       "  <thead>\n",
       "    <tr style=\"text-align: right;\">\n",
       "      <th></th>\n",
       "      <th>st_id</th>\n",
       "      <th>sum_of_points</th>\n",
       "      <th>test_grp</th>\n",
       "    </tr>\n",
       "  </thead>\n",
       "  <tbody>\n",
       "    <tr>\n",
       "      <th>222</th>\n",
       "      <td>70509</td>\n",
       "      <td>11</td>\n",
       "      <td>control</td>\n",
       "    </tr>\n",
       "    <tr>\n",
       "      <th>178</th>\n",
       "      <td>591725</td>\n",
       "      <td>11</td>\n",
       "      <td>control</td>\n",
       "    </tr>\n",
       "    <tr>\n",
       "      <th>166</th>\n",
       "      <td>277530</td>\n",
       "      <td>11</td>\n",
       "      <td>pilot</td>\n",
       "    </tr>\n",
       "    <tr>\n",
       "      <th>4</th>\n",
       "      <td>373937</td>\n",
       "      <td>11</td>\n",
       "      <td>control</td>\n",
       "    </tr>\n",
       "    <tr>\n",
       "      <th>124</th>\n",
       "      <td>349833</td>\n",
       "      <td>11</td>\n",
       "      <td>pilot</td>\n",
       "    </tr>\n",
       "    <tr>\n",
       "      <th>...</th>\n",
       "      <td>...</td>\n",
       "      <td>...</td>\n",
       "      <td>...</td>\n",
       "    </tr>\n",
       "    <tr>\n",
       "      <th>107</th>\n",
       "      <td>434775</td>\n",
       "      <td>79</td>\n",
       "      <td>pilot</td>\n",
       "    </tr>\n",
       "    <tr>\n",
       "      <th>67</th>\n",
       "      <td>234705</td>\n",
       "      <td>81</td>\n",
       "      <td>pilot</td>\n",
       "    </tr>\n",
       "    <tr>\n",
       "      <th>11</th>\n",
       "      <td>577659</td>\n",
       "      <td>111</td>\n",
       "      <td>pilot</td>\n",
       "    </tr>\n",
       "    <tr>\n",
       "      <th>100</th>\n",
       "      <td>976310</td>\n",
       "      <td>121</td>\n",
       "      <td>control</td>\n",
       "    </tr>\n",
       "    <tr>\n",
       "      <th>1</th>\n",
       "      <td>700123</td>\n",
       "      <td>126</td>\n",
       "      <td>control</td>\n",
       "    </tr>\n",
       "  </tbody>\n",
       "</table>\n",
       "<p>223 rows × 3 columns</p>\n",
       "</div>"
      ],
      "text/plain": [
       "      st_id  sum_of_points test_grp\n",
       "222   70509             11  control\n",
       "178  591725             11  control\n",
       "166  277530             11    pilot\n",
       "4    373937             11  control\n",
       "124  349833             11    pilot\n",
       "..      ...            ...      ...\n",
       "107  434775             79    pilot\n",
       "67   234705             81    pilot\n",
       "11   577659            111    pilot\n",
       "100  976310            121  control\n",
       "1    700123            126  control\n",
       "\n",
       "[223 rows x 3 columns]"
      ]
     },
     "execution_count": 108,
     "metadata": {},
     "output_type": "execute_result"
    }
   ],
   "source": [
    "read(active_uesrs).sort_values('sum_of_points')"
   ]
  },
  {
   "cell_type": "code",
   "execution_count": 109,
   "metadata": {},
   "outputs": [],
   "source": [
    "number_of_active='''\n",
    "SELECT\n",
    "    test_grp AS group,\n",
    "    COUNT(*)\n",
    "FROM\n",
    "    (SELECT\n",
    "        *\n",
    "    FROM\n",
    "        (SELECT\n",
    "            st_id,\n",
    "            SUM(correct) AS sum_of_points\n",
    "        FROM\n",
    "            default.peas\n",
    "        GROUP BY\n",
    "            st_id\n",
    "        HAVING\n",
    "            SUM(correct) > 10) AS l_ponts\n",
    "    LEFT JOIN\n",
    "        default.studs AS r_number_of_active\n",
    "        USING(st_id)\n",
    "        )\n",
    "GROUP BY\n",
    "    test_grp\n",
    "'''"
   ]
  },
  {
   "cell_type": "code",
   "execution_count": 110,
   "metadata": {},
   "outputs": [
    {
     "data": {
      "text/html": [
       "<div>\n",
       "<style scoped>\n",
       "    .dataframe tbody tr th:only-of-type {\n",
       "        vertical-align: middle;\n",
       "    }\n",
       "\n",
       "    .dataframe tbody tr th {\n",
       "        vertical-align: top;\n",
       "    }\n",
       "\n",
       "    .dataframe thead th {\n",
       "        text-align: right;\n",
       "    }\n",
       "</style>\n",
       "<table border=\"1\" class=\"dataframe\">\n",
       "  <thead>\n",
       "    <tr style=\"text-align: right;\">\n",
       "      <th></th>\n",
       "      <th>group</th>\n",
       "      <th>count()</th>\n",
       "    </tr>\n",
       "  </thead>\n",
       "  <tbody>\n",
       "    <tr>\n",
       "      <th>0</th>\n",
       "      <td>control</td>\n",
       "      <td>127</td>\n",
       "    </tr>\n",
       "    <tr>\n",
       "      <th>1</th>\n",
       "      <td>pilot</td>\n",
       "      <td>96</td>\n",
       "    </tr>\n",
       "  </tbody>\n",
       "</table>\n",
       "</div>"
      ],
      "text/plain": [
       "     group  count()\n",
       "0  control      127\n",
       "1    pilot       96"
      ]
     },
     "execution_count": 110,
     "metadata": {},
     "output_type": "execute_result"
    }
   ],
   "source": [
    "read(number_of_active)"
   ]
  },
  {
   "cell_type": "code",
   "execution_count": 111,
   "metadata": {},
   "outputs": [],
   "source": [
    "# объединив, получаем\n",
    "ARPAU = '''\n",
    "SELECT\n",
    "    group,\n",
    "    sum_of_money / number_of_active_users AS ARPAU\n",
    "FROM\n",
    "    (SELECT\n",
    "        test_grp AS group,\n",
    "        COUNT(*) AS number_of_active_users\n",
    "    FROM\n",
    "        (SELECT\n",
    "            *\n",
    "        FROM\n",
    "            (SELECT\n",
    "                st_id,\n",
    "                SUM(correct) AS sum_of_points\n",
    "            FROM\n",
    "                default.peas\n",
    "            GROUP BY\n",
    "                st_id\n",
    "            HAVING\n",
    "                SUM(correct) > 10) AS l_ponts\n",
    "        LEFT JOIN\n",
    "            default.studs AS r_number_of_active\n",
    "            USING(st_id)\n",
    "            )\n",
    "    GROUP BY\n",
    "        test_grp) AS number_of_active_by_groups\n",
    "JOIN\n",
    "    (SELECT\n",
    "        group,\n",
    "        SUM(money) AS sum_of_money\n",
    "    FROM\n",
    "        (SELECT\n",
    "            l.st_id AS st_id,\n",
    "            l.money AS money,\n",
    "            r.test_grp AS group\n",
    "        FROM\n",
    "             default.final_project_check AS l -- клеим группы с деньгами\n",
    "        LEFT JOIN\n",
    "            default.studs AS r\n",
    "            USING (st_id)\n",
    "        )\n",
    "    GROUP BY\n",
    "        group) AS money_by_groups\n",
    "    USING(group)\n",
    "'''"
   ]
  },
  {
   "cell_type": "code",
   "execution_count": 112,
   "metadata": {},
   "outputs": [
    {
     "data": {
      "text/html": [
       "<div>\n",
       "<style scoped>\n",
       "    .dataframe tbody tr th:only-of-type {\n",
       "        vertical-align: middle;\n",
       "    }\n",
       "\n",
       "    .dataframe tbody tr th {\n",
       "        vertical-align: top;\n",
       "    }\n",
       "\n",
       "    .dataframe thead th {\n",
       "        text-align: right;\n",
       "    }\n",
       "</style>\n",
       "<table border=\"1\" class=\"dataframe\">\n",
       "  <thead>\n",
       "    <tr style=\"text-align: right;\">\n",
       "      <th></th>\n",
       "      <th>group</th>\n",
       "      <th>ARPAU</th>\n",
       "    </tr>\n",
       "  </thead>\n",
       "  <tbody>\n",
       "    <tr>\n",
       "      <th>0</th>\n",
       "      <td>control</td>\n",
       "      <td>10905.511811</td>\n",
       "    </tr>\n",
       "    <tr>\n",
       "      <th>1</th>\n",
       "      <td>pilot</td>\n",
       "      <td>35364.583333</td>\n",
       "    </tr>\n",
       "  </tbody>\n",
       "</table>\n",
       "</div>"
      ],
      "text/plain": [
       "     group         ARPAU\n",
       "0  control  10905.511811\n",
       "1    pilot  35364.583333"
      ]
     },
     "execution_count": 112,
     "metadata": {},
     "output_type": "execute_result"
    }
   ],
   "source": [
    "read(ARPAU)"
   ]
  },
  {
   "cell_type": "markdown",
   "metadata": {},
   "source": [
    "## CR в покупку\n",
    "число уникальных купивших юзеров / общее число юзеров\n",
    "\n",
    "В чеках надо оставить только уникальных пользователей, приклеить к ним группы, а потом поделить их число на всех пользоваталей (надо приклеить к ним запрос `studs`, который считает число студентов в группах."
   ]
  },
  {
   "cell_type": "code",
   "execution_count": 113,
   "metadata": {},
   "outputs": [],
   "source": [
    "# Сделаем запрос о числе купивших курс в каждой группе\n",
    "nuniq_payments = '''\n",
    "SELECT\n",
    "    group,\n",
    "    uniqExact( un_id) AS number_of_paments\n",
    "FROM\n",
    "    (\n",
    "    SELECT\n",
    "        DISTINCT(unique_pay_users.st_id) AS un_id,\n",
    "        groups.test_grp AS group\n",
    "    FROM\n",
    "        default.final_project_check AS unique_pay_users\n",
    "    JOIN\n",
    "        default.studs AS groups\n",
    "        USING(st_id)\n",
    "    )\n",
    "GROUP BY\n",
    "    group\n",
    "'''"
   ]
  },
  {
   "cell_type": "code",
   "execution_count": 114,
   "metadata": {},
   "outputs": [
    {
     "data": {
      "text/html": [
       "<div>\n",
       "<style scoped>\n",
       "    .dataframe tbody tr th:only-of-type {\n",
       "        vertical-align: middle;\n",
       "    }\n",
       "\n",
       "    .dataframe tbody tr th {\n",
       "        vertical-align: top;\n",
       "    }\n",
       "\n",
       "    .dataframe thead th {\n",
       "        text-align: right;\n",
       "    }\n",
       "</style>\n",
       "<table border=\"1\" class=\"dataframe\">\n",
       "  <thead>\n",
       "    <tr style=\"text-align: right;\">\n",
       "      <th></th>\n",
       "      <th>group</th>\n",
       "      <th>number_of_paments</th>\n",
       "    </tr>\n",
       "  </thead>\n",
       "  <tbody>\n",
       "    <tr>\n",
       "      <th>0</th>\n",
       "      <td>control</td>\n",
       "      <td>15</td>\n",
       "    </tr>\n",
       "    <tr>\n",
       "      <th>1</th>\n",
       "      <td>pilot</td>\n",
       "      <td>32</td>\n",
       "    </tr>\n",
       "  </tbody>\n",
       "</table>\n",
       "</div>"
      ],
      "text/plain": [
       "     group  number_of_paments\n",
       "0  control                 15\n",
       "1    pilot                 32"
      ]
     },
     "execution_count": 114,
     "metadata": {},
     "output_type": "execute_result"
    }
   ],
   "source": [
    "read(nuniq_payments) # по сумме купивших все совпадает"
   ]
  },
  {
   "cell_type": "code",
   "execution_count": 115,
   "metadata": {},
   "outputs": [],
   "source": [
    "# соединив nuniq_payments и запрос studs, получаем CR по группам\n",
    "CR = '''\n",
    "SELECT\n",
    "    nuniq_payments.group AS group,\n",
    "    number_of_paments / num_users AS CR\n",
    "FROM\n",
    "    (SELECT\n",
    "        group,\n",
    "        uniqExact( un_id) AS number_of_paments\n",
    "    FROM\n",
    "        (\n",
    "        SELECT\n",
    "            DISTINCT(unique_pay_users.st_id) AS un_id,\n",
    "            groups.test_grp AS group\n",
    "        FROM\n",
    "            default.final_project_check AS unique_pay_users\n",
    "        JOIN\n",
    "            default.studs AS groups\n",
    "            USING(st_id)\n",
    "        )\n",
    "    GROUP BY\n",
    "        group) AS nuniq_payments\n",
    "    JOIN\n",
    "        (SELECT\n",
    "            COUNT(*) AS num_users,\n",
    "            test_grp\n",
    "        FROM\n",
    "            default.studs\n",
    "        GROUP BY\n",
    "            test_grp) AS users_by_group\n",
    "    ON\n",
    "        users_by_group.test_grp = nuniq_payments.group\n",
    "'''"
   ]
  },
  {
   "cell_type": "code",
   "execution_count": 116,
   "metadata": {},
   "outputs": [
    {
     "data": {
      "text/html": [
       "<div>\n",
       "<style scoped>\n",
       "    .dataframe tbody tr th:only-of-type {\n",
       "        vertical-align: middle;\n",
       "    }\n",
       "\n",
       "    .dataframe tbody tr th {\n",
       "        vertical-align: top;\n",
       "    }\n",
       "\n",
       "    .dataframe thead th {\n",
       "        text-align: right;\n",
       "    }\n",
       "</style>\n",
       "<table border=\"1\" class=\"dataframe\">\n",
       "  <thead>\n",
       "    <tr style=\"text-align: right;\">\n",
       "      <th></th>\n",
       "      <th>group</th>\n",
       "      <th>CR</th>\n",
       "    </tr>\n",
       "  </thead>\n",
       "  <tbody>\n",
       "    <tr>\n",
       "      <th>0</th>\n",
       "      <td>control</td>\n",
       "      <td>0.049180</td>\n",
       "    </tr>\n",
       "    <tr>\n",
       "      <th>1</th>\n",
       "      <td>pilot</td>\n",
       "      <td>0.108475</td>\n",
       "    </tr>\n",
       "  </tbody>\n",
       "</table>\n",
       "</div>"
      ],
      "text/plain": [
       "     group        CR\n",
       "0  control  0.049180\n",
       "1    pilot  0.108475"
      ]
     },
     "execution_count": 116,
     "metadata": {},
     "output_type": "execute_result"
    }
   ],
   "source": [
    "read(CR)"
   ]
  },
  {
   "cell_type": "markdown",
   "metadata": {},
   "source": [
    "## СR активного пользователя в покупку\n",
    "CR активного пользователя это число активных купивших / число активных пользователей. Число активных пользоваталей мы уже находили, надо найти тех, кто из активных что то купил"
   ]
  },
  {
   "cell_type": "code",
   "execution_count": 117,
   "metadata": {},
   "outputs": [],
   "source": [
    "# выведем список всех активных пользователей. Далее их их нужно соединить с покупателями внутренним джойном\n",
    "active_uesers_all = '''\n",
    "SELECT\n",
    "    st_id AS active_user,\n",
    "    r_number_of_active.test_grp AS group\n",
    "FROM\n",
    "    (SELECT\n",
    "        st_id,\n",
    "        SUM(correct) AS sum_of_points\n",
    "    FROM\n",
    "        default.peas\n",
    "    GROUP BY\n",
    "        st_id\n",
    "    HAVING\n",
    "        SUM(correct) > 10) AS l_ponts\n",
    "LEFT JOIN\n",
    "    default.studs AS r_number_of_active\n",
    "    USING(st_id)\n",
    "'''"
   ]
  },
  {
   "cell_type": "code",
   "execution_count": 118,
   "metadata": {},
   "outputs": [
    {
     "data": {
      "text/html": [
       "<div>\n",
       "<style scoped>\n",
       "    .dataframe tbody tr th:only-of-type {\n",
       "        vertical-align: middle;\n",
       "    }\n",
       "\n",
       "    .dataframe tbody tr th {\n",
       "        vertical-align: top;\n",
       "    }\n",
       "\n",
       "    .dataframe thead th {\n",
       "        text-align: right;\n",
       "    }\n",
       "</style>\n",
       "<table border=\"1\" class=\"dataframe\">\n",
       "  <thead>\n",
       "    <tr style=\"text-align: right;\">\n",
       "      <th></th>\n",
       "      <th>active_user</th>\n",
       "      <th>group</th>\n",
       "    </tr>\n",
       "  </thead>\n",
       "  <tbody>\n",
       "    <tr>\n",
       "      <th>0</th>\n",
       "      <td>414769</td>\n",
       "      <td>control</td>\n",
       "    </tr>\n",
       "    <tr>\n",
       "      <th>1</th>\n",
       "      <td>700123</td>\n",
       "      <td>control</td>\n",
       "    </tr>\n",
       "    <tr>\n",
       "      <th>2</th>\n",
       "      <td>171209</td>\n",
       "      <td>control</td>\n",
       "    </tr>\n",
       "    <tr>\n",
       "      <th>3</th>\n",
       "      <td>289442</td>\n",
       "      <td>control</td>\n",
       "    </tr>\n",
       "    <tr>\n",
       "      <th>4</th>\n",
       "      <td>373937</td>\n",
       "      <td>control</td>\n",
       "    </tr>\n",
       "    <tr>\n",
       "      <th>...</th>\n",
       "      <td>...</td>\n",
       "      <td>...</td>\n",
       "    </tr>\n",
       "    <tr>\n",
       "      <th>218</th>\n",
       "      <td>370427</td>\n",
       "      <td>control</td>\n",
       "    </tr>\n",
       "    <tr>\n",
       "      <th>219</th>\n",
       "      <td>421765</td>\n",
       "      <td>pilot</td>\n",
       "    </tr>\n",
       "    <tr>\n",
       "      <th>220</th>\n",
       "      <td>790532</td>\n",
       "      <td>pilot</td>\n",
       "    </tr>\n",
       "    <tr>\n",
       "      <th>221</th>\n",
       "      <td>594177</td>\n",
       "      <td>control</td>\n",
       "    </tr>\n",
       "    <tr>\n",
       "      <th>222</th>\n",
       "      <td>70509</td>\n",
       "      <td>control</td>\n",
       "    </tr>\n",
       "  </tbody>\n",
       "</table>\n",
       "<p>223 rows × 2 columns</p>\n",
       "</div>"
      ],
      "text/plain": [
       "    active_user    group\n",
       "0        414769  control\n",
       "1        700123  control\n",
       "2        171209  control\n",
       "3        289442  control\n",
       "4        373937  control\n",
       "..          ...      ...\n",
       "218      370427  control\n",
       "219      421765    pilot\n",
       "220      790532    pilot\n",
       "221      594177  control\n",
       "222       70509  control\n",
       "\n",
       "[223 rows x 2 columns]"
      ]
     },
     "execution_count": 118,
     "metadata": {},
     "output_type": "execute_result"
    }
   ],
   "source": [
    "read(active_uesers_all)"
   ]
  },
  {
   "cell_type": "code",
   "execution_count": 119,
   "metadata": {},
   "outputs": [],
   "source": [
    "# активные пользователи, которые делали покупки, по группам\n",
    "active_buyers = '''\n",
    "SELECT\n",
    "    COUNT(active_uesers_all.active_user) AS number_of_pay_act_user,\n",
    "    group\n",
    "FROM\n",
    "    (\n",
    "    SELECT\n",
    "        st_id AS active_user,\n",
    "        r_number_of_active.test_grp AS group\n",
    "    FROM\n",
    "        (SELECT\n",
    "            st_id,\n",
    "            SUM(correct) AS sum_of_points\n",
    "        FROM\n",
    "            default.peas\n",
    "        GROUP BY\n",
    "            st_id\n",
    "        HAVING\n",
    "            SUM(correct) > 10) AS l_ponts\n",
    "    LEFT JOIN\n",
    "        default.studs AS r_number_of_active\n",
    "        USING(st_id)\n",
    "    ) AS active_uesers_all\n",
    "    JOIN\n",
    "    (SELECT\n",
    "        DISTINCT(st_id) AS st_id\n",
    "    FROM\n",
    "        default.final_project_check\n",
    "    ) AS payments\n",
    "    ON\n",
    "    payments.st_id = active_uesers_all.active_user\n",
    "GROUP BY\n",
    "    group\n",
    "'''"
   ]
  },
  {
   "cell_type": "code",
   "execution_count": 120,
   "metadata": {},
   "outputs": [
    {
     "data": {
      "text/html": [
       "<div>\n",
       "<style scoped>\n",
       "    .dataframe tbody tr th:only-of-type {\n",
       "        vertical-align: middle;\n",
       "    }\n",
       "\n",
       "    .dataframe tbody tr th {\n",
       "        vertical-align: top;\n",
       "    }\n",
       "\n",
       "    .dataframe thead th {\n",
       "        text-align: right;\n",
       "    }\n",
       "</style>\n",
       "<table border=\"1\" class=\"dataframe\">\n",
       "  <thead>\n",
       "    <tr style=\"text-align: right;\">\n",
       "      <th></th>\n",
       "      <th>number_of_pay_act_user</th>\n",
       "      <th>group</th>\n",
       "    </tr>\n",
       "  </thead>\n",
       "  <tbody>\n",
       "    <tr>\n",
       "      <th>0</th>\n",
       "      <td>14</td>\n",
       "      <td>control</td>\n",
       "    </tr>\n",
       "    <tr>\n",
       "      <th>1</th>\n",
       "      <td>25</td>\n",
       "      <td>pilot</td>\n",
       "    </tr>\n",
       "  </tbody>\n",
       "</table>\n",
       "</div>"
      ],
      "text/plain": [
       "   number_of_pay_act_user    group\n",
       "0                      14  control\n",
       "1                      25    pilot"
      ]
     },
     "execution_count": 120,
     "metadata": {},
     "output_type": "execute_result"
    }
   ],
   "source": [
    "read(active_buyers)"
   ]
  },
  {
   "cell_type": "code",
   "execution_count": 121,
   "metadata": {},
   "outputs": [],
   "source": [
    "# далее цепляем две таблицы, предварительно сделав группировку в активных\n",
    "active_CR = '''\n",
    "SELECT\n",
    "    active_buyers.group AS group,\n",
    "    number_of_pay_act_user / active_all AS active_CR\n",
    "FROM\n",
    "    (SELECT\n",
    "        test_grp AS group,\n",
    "        COUNT(*) AS active_all\n",
    "    FROM\n",
    "        (SELECT\n",
    "            *\n",
    "        FROM\n",
    "            (SELECT\n",
    "                st_id,\n",
    "                SUM(correct) AS sum_of_points\n",
    "            FROM\n",
    "                default.peas\n",
    "            GROUP BY\n",
    "                st_id\n",
    "            HAVING\n",
    "                SUM(correct) > 10) AS l_ponts\n",
    "        LEFT JOIN\n",
    "            default.studs AS r_number_of_active\n",
    "            USING(st_id)\n",
    "            )\n",
    "    GROUP BY\n",
    "        test_grp) AS active_by_groups\n",
    "    JOIN\n",
    "        (SELECT\n",
    "            COUNT(active_uesers_all.active_user) AS number_of_pay_act_user,\n",
    "            group\n",
    "        FROM\n",
    "            (\n",
    "            SELECT\n",
    "                st_id AS active_user,\n",
    "                r_number_of_active.test_grp AS group\n",
    "            FROM\n",
    "                (SELECT\n",
    "                    st_id,\n",
    "                    SUM(correct) AS sum_of_points\n",
    "                FROM\n",
    "                    default.peas\n",
    "                GROUP BY\n",
    "                    st_id\n",
    "                HAVING\n",
    "                    SUM(correct) > 10) AS l_ponts\n",
    "            LEFT JOIN\n",
    "                default.studs AS r_number_of_active\n",
    "                USING(st_id)\n",
    "            ) AS active_uesers_all\n",
    "            JOIN\n",
    "            (SELECT\n",
    "                DISTINCT(st_id) AS st_id\n",
    "            FROM\n",
    "                default.final_project_check\n",
    "            ) AS payments\n",
    "            ON\n",
    "            payments.st_id = active_uesers_all.active_user\n",
    "        GROUP BY\n",
    "            group) AS active_buyers\n",
    "    ON\n",
    "       active_buyers.group = active_by_groups.group\n",
    "'''"
   ]
  },
  {
   "cell_type": "code",
   "execution_count": 122,
   "metadata": {},
   "outputs": [
    {
     "data": {
      "text/html": [
       "<div>\n",
       "<style scoped>\n",
       "    .dataframe tbody tr th:only-of-type {\n",
       "        vertical-align: middle;\n",
       "    }\n",
       "\n",
       "    .dataframe tbody tr th {\n",
       "        vertical-align: top;\n",
       "    }\n",
       "\n",
       "    .dataframe thead th {\n",
       "        text-align: right;\n",
       "    }\n",
       "</style>\n",
       "<table border=\"1\" class=\"dataframe\">\n",
       "  <thead>\n",
       "    <tr style=\"text-align: right;\">\n",
       "      <th></th>\n",
       "      <th>group</th>\n",
       "      <th>active_CR</th>\n",
       "    </tr>\n",
       "  </thead>\n",
       "  <tbody>\n",
       "    <tr>\n",
       "      <th>0</th>\n",
       "      <td>control</td>\n",
       "      <td>0.110236</td>\n",
       "    </tr>\n",
       "    <tr>\n",
       "      <th>1</th>\n",
       "      <td>pilot</td>\n",
       "      <td>0.260417</td>\n",
       "    </tr>\n",
       "  </tbody>\n",
       "</table>\n",
       "</div>"
      ],
      "text/plain": [
       "     group  active_CR\n",
       "0  control   0.110236\n",
       "1    pilot   0.260417"
      ]
     },
     "execution_count": 122,
     "metadata": {},
     "output_type": "execute_result"
    }
   ],
   "source": [
    "read(active_CR)"
   ]
  },
  {
   "cell_type": "markdown",
   "metadata": {},
   "source": [
    "## CR пользователя из активности по математике в покупку курса по математике\n",
    "Нужно найти всех активных студентов по математике - те, у кого не меньше 2 правильно выполненных задач по математике. Также нужно найти тех, кто купил курс по математике и был активным в ней. Далее надо поделить вторых на первых."
   ]
  },
  {
   "cell_type": "code",
   "execution_count": 123,
   "metadata": {},
   "outputs": [],
   "source": [
    "# посмотрим, какие вообще есть дисциплины\n",
    "subjects = '''\n",
    "SELECT\n",
    "    DISTINCT(subject)\n",
    "FROM\n",
    "    default.peas\n",
    "'''"
   ]
  },
  {
   "cell_type": "code",
   "execution_count": 124,
   "metadata": {},
   "outputs": [
    {
     "data": {
      "text/html": [
       "<div>\n",
       "<style scoped>\n",
       "    .dataframe tbody tr th:only-of-type {\n",
       "        vertical-align: middle;\n",
       "    }\n",
       "\n",
       "    .dataframe tbody tr th {\n",
       "        vertical-align: top;\n",
       "    }\n",
       "\n",
       "    .dataframe thead th {\n",
       "        text-align: right;\n",
       "    }\n",
       "</style>\n",
       "<table border=\"1\" class=\"dataframe\">\n",
       "  <thead>\n",
       "    <tr style=\"text-align: right;\">\n",
       "      <th></th>\n",
       "      <th>subject</th>\n",
       "    </tr>\n",
       "  </thead>\n",
       "  <tbody>\n",
       "    <tr>\n",
       "      <th>0</th>\n",
       "      <td>Theory of probability</td>\n",
       "    </tr>\n",
       "    <tr>\n",
       "      <th>1</th>\n",
       "      <td>Vizualization</td>\n",
       "    </tr>\n",
       "    <tr>\n",
       "      <th>2</th>\n",
       "      <td>Python</td>\n",
       "    </tr>\n",
       "    <tr>\n",
       "      <th>3</th>\n",
       "      <td>Statistics</td>\n",
       "    </tr>\n",
       "    <tr>\n",
       "      <th>4</th>\n",
       "      <td>Math</td>\n",
       "    </tr>\n",
       "  </tbody>\n",
       "</table>\n",
       "</div>"
      ],
      "text/plain": [
       "                 subject\n",
       "0  Theory of probability\n",
       "1          Vizualization\n",
       "2                 Python\n",
       "3             Statistics\n",
       "4                   Math"
      ]
     },
     "execution_count": 124,
     "metadata": {},
     "output_type": "execute_result"
    }
   ],
   "source": [
    "read(subjects)"
   ]
  },
  {
   "cell_type": "code",
   "execution_count": 125,
   "metadata": {},
   "outputs": [],
   "source": [
    "# отберем активных математиков\n",
    "math_active_st = '''\n",
    "SELECT\n",
    "    st_id,\n",
    "    SUM(correct) AS points_of_math\n",
    "FROM\n",
    "    default.peas\n",
    "WHERE\n",
    "    subject = 'Math'\n",
    "GROUP BY\n",
    "    st_id\n",
    "HAVING\n",
    "    points_of_math >= 2\n",
    "ORDER BY\n",
    "    points_of_math\n",
    "'''"
   ]
  },
  {
   "cell_type": "code",
   "execution_count": 126,
   "metadata": {},
   "outputs": [
    {
     "data": {
      "text/html": [
       "<div>\n",
       "<style scoped>\n",
       "    .dataframe tbody tr th:only-of-type {\n",
       "        vertical-align: middle;\n",
       "    }\n",
       "\n",
       "    .dataframe tbody tr th {\n",
       "        vertical-align: top;\n",
       "    }\n",
       "\n",
       "    .dataframe thead th {\n",
       "        text-align: right;\n",
       "    }\n",
       "</style>\n",
       "<table border=\"1\" class=\"dataframe\">\n",
       "  <thead>\n",
       "    <tr style=\"text-align: right;\">\n",
       "      <th></th>\n",
       "      <th>st_id</th>\n",
       "      <th>points_of_math</th>\n",
       "    </tr>\n",
       "  </thead>\n",
       "  <tbody>\n",
       "    <tr>\n",
       "      <th>0</th>\n",
       "      <td>921919</td>\n",
       "      <td>3</td>\n",
       "    </tr>\n",
       "    <tr>\n",
       "      <th>1</th>\n",
       "      <td>973519</td>\n",
       "      <td>3</td>\n",
       "    </tr>\n",
       "    <tr>\n",
       "      <th>2</th>\n",
       "      <td>969749</td>\n",
       "      <td>3</td>\n",
       "    </tr>\n",
       "    <tr>\n",
       "      <th>3</th>\n",
       "      <td>332988</td>\n",
       "      <td>3</td>\n",
       "    </tr>\n",
       "    <tr>\n",
       "      <th>4</th>\n",
       "      <td>726051</td>\n",
       "      <td>3</td>\n",
       "    </tr>\n",
       "    <tr>\n",
       "      <th>...</th>\n",
       "      <td>...</td>\n",
       "      <td>...</td>\n",
       "    </tr>\n",
       "    <tr>\n",
       "      <th>86</th>\n",
       "      <td>750680</td>\n",
       "      <td>31</td>\n",
       "    </tr>\n",
       "    <tr>\n",
       "      <th>87</th>\n",
       "      <td>760034</td>\n",
       "      <td>32</td>\n",
       "    </tr>\n",
       "    <tr>\n",
       "      <th>88</th>\n",
       "      <td>706735</td>\n",
       "      <td>38</td>\n",
       "    </tr>\n",
       "    <tr>\n",
       "      <th>89</th>\n",
       "      <td>489093</td>\n",
       "      <td>43</td>\n",
       "    </tr>\n",
       "    <tr>\n",
       "      <th>90</th>\n",
       "      <td>577659</td>\n",
       "      <td>54</td>\n",
       "    </tr>\n",
       "  </tbody>\n",
       "</table>\n",
       "<p>91 rows × 2 columns</p>\n",
       "</div>"
      ],
      "text/plain": [
       "     st_id  points_of_math\n",
       "0   921919               3\n",
       "1   973519               3\n",
       "2   969749               3\n",
       "3   332988               3\n",
       "4   726051               3\n",
       "..     ...             ...\n",
       "86  750680              31\n",
       "87  760034              32\n",
       "88  706735              38\n",
       "89  489093              43\n",
       "90  577659              54\n",
       "\n",
       "[91 rows x 2 columns]"
      ]
     },
     "execution_count": 126,
     "metadata": {},
     "output_type": "execute_result"
    }
   ],
   "source": [
    "read(math_active_st) # всего 91 студент (также проверил, что не было студентов с 2 баллами)"
   ]
  },
  {
   "cell_type": "code",
   "execution_count": 127,
   "metadata": {},
   "outputs": [],
   "source": [
    "# найдем число активных математиков в каждой группе\n",
    "math_by_groups = '''\n",
    "SELECT\n",
    "    groups.test_grp AS group,\n",
    "    COUNT(*) AS number_of_math\n",
    "FROM\n",
    "    (SELECT\n",
    "        st_id,\n",
    "        SUM(correct) AS points_of_math\n",
    "    FROM\n",
    "        default.peas\n",
    "    WHERE\n",
    "        subject = 'Math'\n",
    "    GROUP BY\n",
    "        st_id\n",
    "    HAVING\n",
    "        points_of_math >= 2) AS math_students\n",
    "    LEFT JOIN\n",
    "        default.studs AS groups\n",
    "        USING(st_id)\n",
    "GROUP BY\n",
    "    groups.test_grp \n",
    "'''"
   ]
  },
  {
   "cell_type": "code",
   "execution_count": 128,
   "metadata": {},
   "outputs": [
    {
     "data": {
      "text/html": [
       "<div>\n",
       "<style scoped>\n",
       "    .dataframe tbody tr th:only-of-type {\n",
       "        vertical-align: middle;\n",
       "    }\n",
       "\n",
       "    .dataframe tbody tr th {\n",
       "        vertical-align: top;\n",
       "    }\n",
       "\n",
       "    .dataframe thead th {\n",
       "        text-align: right;\n",
       "    }\n",
       "</style>\n",
       "<table border=\"1\" class=\"dataframe\">\n",
       "  <thead>\n",
       "    <tr style=\"text-align: right;\">\n",
       "      <th></th>\n",
       "      <th>group</th>\n",
       "      <th>number_of_math</th>\n",
       "    </tr>\n",
       "  </thead>\n",
       "  <tbody>\n",
       "    <tr>\n",
       "      <th>0</th>\n",
       "      <td>control</td>\n",
       "      <td>49</td>\n",
       "    </tr>\n",
       "    <tr>\n",
       "      <th>1</th>\n",
       "      <td>pilot</td>\n",
       "      <td>42</td>\n",
       "    </tr>\n",
       "  </tbody>\n",
       "</table>\n",
       "</div>"
      ],
      "text/plain": [
       "     group  number_of_math\n",
       "0  control              49\n",
       "1    pilot              42"
      ]
     },
     "execution_count": 128,
     "metadata": {},
     "output_type": "execute_result"
    }
   ],
   "source": [
    "read(math_by_groups)"
   ]
  },
  {
   "cell_type": "code",
   "execution_count": 129,
   "metadata": {},
   "outputs": [],
   "source": [
    "# теперь найдем среди активных математиков тех, кто купил курс по математике\n",
    "active_buyers_math = '''\n",
    "SELECT\n",
    "    COUNT(st_id),\n",
    "    test_grp AS group\n",
    "FROM\n",
    "    (SELECT\n",
    "        st_id\n",
    "    FROM\n",
    "        (SELECT\n",
    "            st_id,\n",
    "            SUM(correct) AS points_of_math\n",
    "        FROM\n",
    "            default.peas\n",
    "        WHERE\n",
    "            subject = 'Math'\n",
    "        GROUP BY\n",
    "            st_id\n",
    "        HAVING\n",
    "            points_of_math >= 2) AS math_active_st\n",
    "        JOIN\n",
    "        (SELECT\n",
    "            DISTINCT(st_id) AS st_id\n",
    "        FROM\n",
    "            default.final_project_check\n",
    "        WHERE\n",
    "            subject = 'Math'\n",
    "        ) AS buyers_math\n",
    "        USING(st_id)) AS math_active_buyets\n",
    "    LEFT JOIN\n",
    "        default.studs AS groups\n",
    "    USING(st_id)\n",
    "GROUP BY\n",
    "    test_grp\n",
    " '''"
   ]
  },
  {
   "cell_type": "code",
   "execution_count": 130,
   "metadata": {},
   "outputs": [
    {
     "data": {
      "text/html": [
       "<div>\n",
       "<style scoped>\n",
       "    .dataframe tbody tr th:only-of-type {\n",
       "        vertical-align: middle;\n",
       "    }\n",
       "\n",
       "    .dataframe tbody tr th {\n",
       "        vertical-align: top;\n",
       "    }\n",
       "\n",
       "    .dataframe thead th {\n",
       "        text-align: right;\n",
       "    }\n",
       "</style>\n",
       "<table border=\"1\" class=\"dataframe\">\n",
       "  <thead>\n",
       "    <tr style=\"text-align: right;\">\n",
       "      <th></th>\n",
       "      <th>count(st_id)</th>\n",
       "      <th>group</th>\n",
       "    </tr>\n",
       "  </thead>\n",
       "  <tbody>\n",
       "    <tr>\n",
       "      <th>0</th>\n",
       "      <td>3</td>\n",
       "      <td>control</td>\n",
       "    </tr>\n",
       "    <tr>\n",
       "      <th>1</th>\n",
       "      <td>4</td>\n",
       "      <td>pilot</td>\n",
       "    </tr>\n",
       "  </tbody>\n",
       "</table>\n",
       "</div>"
      ],
      "text/plain": [
       "   count(st_id)    group\n",
       "0             3  control\n",
       "1             4    pilot"
      ]
     },
     "execution_count": 130,
     "metadata": {},
     "output_type": "execute_result"
    }
   ],
   "source": [
    "read(active_buyers_math)"
   ]
  },
  {
   "cell_type": "code",
   "execution_count": 131,
   "metadata": {},
   "outputs": [],
   "source": [
    "# соединим и получим нужную метрику\n",
    "active_cr_math = '''\n",
    "SELECT\n",
    "    group,\n",
    "    num_buyers / number_of_math AS active_cr_math\n",
    "FROM\n",
    "    (SELECT\n",
    "        groups.test_grp AS group,\n",
    "        COUNT(*) AS number_of_math\n",
    "    FROM\n",
    "        (SELECT\n",
    "            st_id,\n",
    "            SUM(correct) AS points_of_math\n",
    "        FROM\n",
    "            default.peas\n",
    "        WHERE\n",
    "            subject = 'Math'\n",
    "        GROUP BY\n",
    "            st_id\n",
    "        HAVING\n",
    "            points_of_math >= 2) AS math_students\n",
    "        LEFT JOIN\n",
    "            default.studs AS groups\n",
    "            USING(st_id)\n",
    "    GROUP BY\n",
    "        groups.test_grp) AS math_by_groups\n",
    "    JOIN\n",
    "    (SELECT\n",
    "        COUNT(st_id) AS num_buyers,\n",
    "        test_grp AS group\n",
    "    FROM\n",
    "        (SELECT\n",
    "            st_id\n",
    "        FROM\n",
    "            (SELECT\n",
    "                st_id,\n",
    "                SUM(correct) AS points_of_math\n",
    "            FROM\n",
    "                default.peas\n",
    "            WHERE\n",
    "                subject = 'Math'\n",
    "            GROUP BY\n",
    "                st_id\n",
    "            HAVING\n",
    "                points_of_math >= 2) AS math_active_st\n",
    "            JOIN\n",
    "            (SELECT\n",
    "                DISTINCT(st_id) AS st_id\n",
    "            FROM\n",
    "                default.final_project_check\n",
    "            WHERE\n",
    "                subject = 'Math'\n",
    "            ) AS buyers_math\n",
    "            USING(st_id)) AS math_active_buyets\n",
    "        LEFT JOIN\n",
    "            default.studs AS groups\n",
    "        USING(st_id)\n",
    "    GROUP BY\n",
    "        test_grp) AS active_buyers_math\n",
    "        ON\n",
    "        active_buyers_math.group = math_by_groups.group'''"
   ]
  },
  {
   "cell_type": "code",
   "execution_count": 132,
   "metadata": {},
   "outputs": [
    {
     "data": {
      "text/html": [
       "<div>\n",
       "<style scoped>\n",
       "    .dataframe tbody tr th:only-of-type {\n",
       "        vertical-align: middle;\n",
       "    }\n",
       "\n",
       "    .dataframe tbody tr th {\n",
       "        vertical-align: top;\n",
       "    }\n",
       "\n",
       "    .dataframe thead th {\n",
       "        text-align: right;\n",
       "    }\n",
       "</style>\n",
       "<table border=\"1\" class=\"dataframe\">\n",
       "  <thead>\n",
       "    <tr style=\"text-align: right;\">\n",
       "      <th></th>\n",
       "      <th>group</th>\n",
       "      <th>active_cr_math</th>\n",
       "    </tr>\n",
       "  </thead>\n",
       "  <tbody>\n",
       "    <tr>\n",
       "      <th>0</th>\n",
       "      <td>control</td>\n",
       "      <td>0.061224</td>\n",
       "    </tr>\n",
       "    <tr>\n",
       "      <th>1</th>\n",
       "      <td>pilot</td>\n",
       "      <td>0.095238</td>\n",
       "    </tr>\n",
       "  </tbody>\n",
       "</table>\n",
       "</div>"
      ],
      "text/plain": [
       "     group  active_cr_math\n",
       "0  control        0.061224\n",
       "1    pilot        0.095238"
      ]
     },
     "execution_count": 132,
     "metadata": {},
     "output_type": "execute_result"
    }
   ],
   "source": [
    "read(active_cr_math)"
   ]
  },
  {
   "cell_type": "code",
   "execution_count": 133,
   "metadata": {},
   "outputs": [],
   "source": [
    "# теперь можно объединить все запросы в один\n",
    "final_query = '''\n",
    "SELECT\n",
    "    ARPU_table.group AS group,\n",
    "    ARPU_table.ARPU AS ARPU,\n",
    "    ARPAU_table.ARPAU AS ARPAU,\n",
    "    CR_table.CR AS CR,\n",
    "    CR_active_table.active_CR AS active_CR,\n",
    "    math_CR.active_cr_math\n",
    "FROM\n",
    "    (SELECT\n",
    "        group,\n",
    "        sum_of_money / number_of_students AS ARPU\n",
    "    FROM\n",
    "        (SELECT\n",
    "            group,\n",
    "            SUM(money) AS sum_of_money\n",
    "        FROM\n",
    "            (SELECT\n",
    "                l.st_id AS st_id,\n",
    "                l.money AS money,\n",
    "                r.test_grp AS group\n",
    "            FROM\n",
    "                 default.final_project_check AS l -- клеим группы с деньгами\n",
    "            LEFT JOIN\n",
    "                default.studs AS r\n",
    "                USING (st_id)\n",
    "            )\n",
    "        GROUP BY\n",
    "            group) AS l2\n",
    "    LEFT JOIN               -- клеим число людей в каждой группе с деньгами\n",
    "        (SELECT\n",
    "            COUNT(*) AS number_of_students, \n",
    "            test_grp AS group\n",
    "        FROM\n",
    "            default.studs\n",
    "        GROUP BY\n",
    "            test_grp) AS r2\n",
    "        USING (group)) AS ARPU_table ---------------------------\n",
    "        JOIN\n",
    "        (SELECT\n",
    "            group,\n",
    "            sum_of_money / number_of_active_users AS ARPAU\n",
    "        FROM\n",
    "            (SELECT\n",
    "                test_grp AS group,\n",
    "                COUNT(*) AS number_of_active_users\n",
    "            FROM\n",
    "                (SELECT\n",
    "                    *\n",
    "                FROM\n",
    "                    (SELECT\n",
    "                        st_id,\n",
    "                        SUM(correct) AS sum_of_points\n",
    "                    FROM\n",
    "                        default.peas\n",
    "                    GROUP BY\n",
    "                        st_id\n",
    "                    HAVING\n",
    "                        SUM(correct) > 10) AS l_ponts\n",
    "                LEFT JOIN\n",
    "                    default.studs AS r_number_of_active\n",
    "                    USING(st_id)\n",
    "                    )\n",
    "            GROUP BY\n",
    "                test_grp) AS number_of_active_by_groups\n",
    "        JOIN\n",
    "            (SELECT\n",
    "                group,\n",
    "                SUM(money) AS sum_of_money\n",
    "            FROM\n",
    "                (SELECT\n",
    "                    l.st_id AS st_id,\n",
    "                    l.money AS money,\n",
    "                    r.test_grp AS group\n",
    "                FROM\n",
    "                     default.final_project_check AS l -- клеим группы с деньгами\n",
    "                LEFT JOIN\n",
    "                    default.studs AS r\n",
    "                    USING (st_id)\n",
    "                )\n",
    "            GROUP BY\n",
    "                group) AS money_by_groups\n",
    "            USING(group)) AS ARPAU_table ----------------\n",
    "        USING(group)\n",
    "        JOIN\n",
    "            (SELECT\n",
    "                nuniq_payments.group AS group,\n",
    "                number_of_paments / num_users AS CR\n",
    "            FROM\n",
    "                (SELECT\n",
    "                    group,\n",
    "                    uniqExact( un_id) AS number_of_paments\n",
    "                FROM\n",
    "                    (\n",
    "                    SELECT\n",
    "                        DISTINCT(unique_pay_users.st_id) AS un_id,\n",
    "                        groups.test_grp AS group\n",
    "                    FROM\n",
    "                        default.final_project_check AS unique_pay_users\n",
    "                    JOIN\n",
    "                        default.studs AS groups\n",
    "                        USING(st_id)\n",
    "                    )\n",
    "                GROUP BY\n",
    "                    group) AS nuniq_payments\n",
    "                JOIN\n",
    "                    (SELECT\n",
    "                        COUNT(*) AS num_users,\n",
    "                        test_grp\n",
    "                    FROM\n",
    "                        default.studs\n",
    "                    GROUP BY\n",
    "                        test_grp) AS users_by_group\n",
    "                ON\n",
    "                    users_by_group.test_grp = nuniq_payments.group) AS CR_table\n",
    "        ON\n",
    "        CR_table.group = ARPAU_table.group\n",
    "        JOIN\n",
    "            (SELECT\n",
    "                active_buyers.group AS group,\n",
    "                number_of_pay_act_user / active_all AS active_CR\n",
    "            FROM\n",
    "                (SELECT\n",
    "                    test_grp AS group,\n",
    "                    COUNT(*) AS active_all\n",
    "                FROM\n",
    "                    (SELECT\n",
    "                        *\n",
    "                    FROM\n",
    "                        (SELECT\n",
    "                            st_id,\n",
    "                            SUM(correct) AS sum_of_points\n",
    "                        FROM\n",
    "                            default.peas\n",
    "                        GROUP BY\n",
    "                            st_id\n",
    "                        HAVING\n",
    "                            SUM(correct) > 10) AS l_ponts\n",
    "                    LEFT JOIN\n",
    "                        default.studs AS r_number_of_active\n",
    "                        USING(st_id)\n",
    "                        )\n",
    "                GROUP BY\n",
    "                    test_grp) AS active_by_groups\n",
    "                JOIN\n",
    "                    (SELECT\n",
    "                        COUNT(active_uesers_all.active_user) AS number_of_pay_act_user,\n",
    "                        group\n",
    "                    FROM\n",
    "                        (\n",
    "                        SELECT\n",
    "                            st_id AS active_user,\n",
    "                            r_number_of_active.test_grp AS group\n",
    "                        FROM\n",
    "                            (SELECT\n",
    "                                st_id,\n",
    "                                SUM(correct) AS sum_of_points\n",
    "                            FROM\n",
    "                                default.peas\n",
    "                            GROUP BY\n",
    "                                st_id\n",
    "                            HAVING\n",
    "                                SUM(correct) > 10) AS l_ponts\n",
    "                        LEFT JOIN\n",
    "                            default.studs AS r_number_of_active\n",
    "                            USING(st_id)\n",
    "                        ) AS active_uesers_all\n",
    "                        JOIN\n",
    "                        (SELECT\n",
    "                            DISTINCT(st_id) AS st_id\n",
    "                        FROM\n",
    "                            default.final_project_check\n",
    "                        ) AS payments\n",
    "                        ON\n",
    "                        payments.st_id = active_uesers_all.active_user\n",
    "                    GROUP BY\n",
    "                        group) AS active_buyers\n",
    "                    ON\n",
    "                       active_buyers.group = active_by_groups.group) AS CR_active_table ----------------\n",
    "       ON\n",
    "       CR_active_table.group = ARPAU_table.group\n",
    "       JOIN\n",
    "       (SELECT\n",
    "            group,\n",
    "            num_buyers / number_of_math AS active_cr_math\n",
    "        FROM\n",
    "            (SELECT\n",
    "                groups.test_grp AS group,\n",
    "                COUNT(*) AS number_of_math\n",
    "            FROM\n",
    "                (SELECT\n",
    "                    st_id,\n",
    "                    SUM(correct) AS points_of_math\n",
    "                FROM\n",
    "                    default.peas\n",
    "                WHERE\n",
    "                    subject = 'Math'\n",
    "                GROUP BY\n",
    "                    st_id\n",
    "                HAVING\n",
    "                    points_of_math >= 2) AS math_students\n",
    "                LEFT JOIN\n",
    "                    default.studs AS groups\n",
    "                    USING(st_id)\n",
    "            GROUP BY\n",
    "                groups.test_grp) AS math_by_groups\n",
    "            JOIN\n",
    "            (SELECT\n",
    "                COUNT(st_id) AS num_buyers,\n",
    "                test_grp AS group\n",
    "            FROM\n",
    "                (SELECT\n",
    "                    st_id\n",
    "                FROM\n",
    "                    (SELECT\n",
    "                        st_id,\n",
    "                        SUM(correct) AS points_of_math\n",
    "                    FROM\n",
    "                        default.peas\n",
    "                    WHERE\n",
    "                        subject = 'Math'\n",
    "                    GROUP BY\n",
    "                        st_id\n",
    "                    HAVING\n",
    "                        points_of_math >= 2) AS math_active_st\n",
    "                    JOIN\n",
    "                    (SELECT\n",
    "                        DISTINCT(st_id) AS st_id\n",
    "                    FROM\n",
    "                        default.final_project_check\n",
    "                    WHERE\n",
    "                        subject = 'Math'\n",
    "                    ) AS buyers_math\n",
    "                    USING(st_id)) AS math_active_buyets\n",
    "                LEFT JOIN\n",
    "                    default.studs AS groups\n",
    "                USING(st_id)\n",
    "            GROUP BY\n",
    "                test_grp) AS active_buyers_math\n",
    "                ON\n",
    "                active_buyers_math.group = math_by_groups.group) AS math_CR\n",
    "            ON\n",
    "            math_CR.group = CR_active_table.group\n",
    "'''"
   ]
  },
  {
   "attachments": {
    "%D0%BA%D0%BB%D0%B8%D0%BA.png": {
     "image/png": "[encoded data removed]"
    }
   },
   "cell_type": "markdown",
   "metadata": {},
   "source": [
    "*Код получился слишком громоздким, но рабочим (в кликхаусе, пандахаус его не прожевал). Однако, подозреваю, для больших данных это ужасный код, который я пока думаю как исправить*\n",
    "\n",
    "![%D0%BA%D0%BB%D0%B8%D0%BA.png](attachment:%D0%BA%D0%BB%D0%B8%D0%BA.png)"
   ]
  },
  {
   "cell_type": "markdown",
   "metadata": {},
   "source": [
    "# Задание 3. Python\n",
    "## 3.1 Задача\n",
    "\n",
    "Реализуйте функцию, которая будет автоматически подгружать информацию из дополнительного файла groups_add.csv (заголовки могут отличаться) и на основании дополнительных параметров пересчитывать метрики.\n",
    "\n",
    "Реализуйте функцию, которая будет строить графики по получаемым метрикам."
   ]
  },
  {
   "cell_type": "markdown",
   "metadata": {},
   "source": [
    "*Допустим, у нас есть уже 3 прочитанных файла, а именно **groups, active_users и checks**. Тогда функция на вход будет брать ссылку на файл (или путь) с добавочными пользователями*"
   ]
  },
  {
   "cell_type": "code",
   "execution_count": 134,
   "metadata": {},
   "outputs": [],
   "source": [
    "def ab_with_add(x):\n",
    "    \n",
    "    '''\n",
    "    Функция учитывает добавочный файл и возвращает пересчитанные значения метрик \n",
    "    после проведения А/Б-теста при внедрении новой механики оплаты. Пересчитанные \n",
    "    метрики:конверсии в покупку, ARPAU и ARPPU активных пользователей. \n",
    "    Проверяются различия в двух группах на стат. значимость. \n",
    "    На вход подается путь или ссылка файла с доп. пользователями. \n",
    "    Затем происходит объединение таблиц и вычисление необходимых показателей.\n",
    "    Также функция рисует графики полученных результатов и некоторые полезные \n",
    "    графики, например, распределения выручки по группам.\n",
    "    '''\n",
    "        \n",
    "    # считывание данных, на вход путь к файлу или ссылка\n",
    "    \n",
    "    add_group = pd.read_csv(x)\n",
    "    if len(add_group.columns) == 1:\n",
    "        add_group = pd.read_csv(x, sep=';')\n",
    "    add_group.columns = groups.columns\n",
    "    \n",
    "    all_group = pd.concat([groups, add_group])\n",
    "    \n",
    "    if all_group['id'].nunique() != len(groups_all):\n",
    "        check_len =  \"Ошибка данных из-за неправильной разбивки пользоваталей!!!\"\n",
    "    else:\n",
    "        check_len = ''\n",
    "    groups_all.columns = ['student_id', 'group']\n",
    "    \n",
    "    \n",
    "    # Объединим файлы, чтобы получить таблицу активных пользователей с чеками\n",
    "  \n",
    "    active_users = active.merge(groups_all, how='left', on='student_id')\n",
    "    active_users_payments = active_users.merge(checks, how='left', on='student_id')\n",
    "    active_users_payments = active_users_payments.fillna(0)\n",
    "    \n",
    "    # Смотрим CR, проверяем на стат. значимость\n",
    "    \n",
    "    active_users_payments['status'] = active_users_payments['rev'] > 0\n",
    "    chi_sq = active_users_payments.groupby('group', as_index=False) \\\n",
    "                            .agg({'rev': 'count', 'status': 'sum'}) \\\n",
    "                            .rename(columns={'rev':'all', 'status': 'payments'})\n",
    "    \n",
    "    cr_active_A = round(chi_sq['payments'][0] / chi_sq['all'][0], 4)\n",
    "    cr_active_B = round(chi_sq['payments'][1] / chi_sq['all'][1], 4)\n",
    "    \n",
    "    arr = np.array([[chi_sq['payments'][0], chi_sq['all'][0]],\n",
    "                   [chi_sq['payments'][1], chi_sq['all'][1]]])\n",
    "    result_chi2 = ss.chi2_contingency(arr)\n",
    "    \n",
    "    result_1 = f'Конврсия в покупку активных пользователей в группе А: {cr_active_A*100}%, \\\n",
    "в группе B: {cr_active_B*100}%.\\n'\n",
    "    \n",
    "    if cr_active_A > cr_active_B:\n",
    "        result_1 += f'''- Конверсия в группе А выше, чем в B на {round((cr_active_A / cr_active_B - 1)*100, 2)}% \\\n",
    "или на {round((cr_active_A - cr_active_B), 3)} п.п.'''\n",
    "    elif cr_active_A < cr_active_B:\n",
    "        result_1 += f'''- Конверсия в группе B выше, чем в A на {round((cr_active_B / cr_active_A - 1)*100, 2)}% \\\n",
    "или на {round((cr_active_B - cr_active_A), 3)} п.п.'''\n",
    "    else:\n",
    "        result_1 += f'- Конверсии равны и составляют {cr_active_A}'\n",
    "        \n",
    "    if result_chi2[1] >= 0.05:\n",
    "        result_chi2_p = f'Между выборками нет стат. значимых различий, p-value = {round(result_chi2[1], 3)}, \\\n",
    "в силе остается нулевая гипотеза о том, что CR в покупку не зависит от группы'\n",
    "    elif result_chi2[1] < 0.05:\n",
    "        result_chi2_p = f'Между выборками есть стат. значимые различия, p-value = {round(result_chi2[1], 3)}, \\\n",
    "принимается альтернативная гипотеза о том, что CR в покупку зависит от группы'\n",
    "    \n",
    "\n",
    "    # Сравниваем ARPAU при помощи бутстрапа, будем сравнивать средние\n",
    "\n",
    "    mean_arpau = active_users_payments.groupby('group') \\\n",
    "                                    .agg({'rev': 'mean'}) \\\n",
    "                                    .reset_index()\n",
    "    mean_arpau_A = round(mean_arpau['rev'][0], 2)\n",
    "    mean_arpau_B = round(mean_arpau['rev'][1], 2)\n",
    "    \n",
    "    A_group = active_users_payments.query('group == \"A\"')['rev']\n",
    "    B_group = active_users_payments.query('group == \"B\"')['rev']\n",
    "    \n",
    "    def get_bootstrap(\n",
    "        data_column_1, # числовые значения первой выборки\n",
    "        data_column_2, # числовые значения второй выборки\n",
    "        boot_it = 1000, # количество бутстрап-подвыборок\n",
    "        statistic = np.mean, # интересующая нас статистика\n",
    "        bootstrap_conf_level = 0.95 # уровень значимости\n",
    "    ):\n",
    "        boot_len = max([len(data_column_1), len(data_column_2)])\n",
    "        boot_data = []\n",
    "        for i in range(boot_it): # извлекаем подвыборки\n",
    "            samples_1 = data_column_1.sample(\n",
    "                boot_len, \n",
    "                replace = True # параметр возвращения\n",
    "            ).values\n",
    "\n",
    "            samples_2 = data_column_2.sample(\n",
    "                boot_len, \n",
    "                replace = True\n",
    "            ).values\n",
    "\n",
    "            boot_data.append(statistic(samples_1-samples_2)) # mean() - применяем статистику\n",
    "\n",
    "        pd_boot_data = pd.DataFrame(boot_data)\n",
    "\n",
    "        left_quant = (1 - bootstrap_conf_level)/2\n",
    "        right_quant = 1 - (1 - bootstrap_conf_level) / 2\n",
    "        ci = pd_boot_data.quantile([left_quant, right_quant])\n",
    "\n",
    "        p_1 = ss.norm.cdf(\n",
    "            x = 0, \n",
    "            loc = np.mean(boot_data), \n",
    "            scale = np.std(boot_data)\n",
    "        )\n",
    "        p_2 = ss.norm.cdf(\n",
    "            x = 0, \n",
    "            loc = -np.mean(boot_data), \n",
    "            scale = np.std(boot_data)\n",
    "        )\n",
    "        p_value = min(p_1, p_2) * 2\n",
    "        return p_value\n",
    "    \n",
    "    p_value_arpau = get_bootstrap(A_group, B_group)\n",
    "    if p_value_arpau >= 0.5:\n",
    "        out_arpau = f'''Средний чек активного пользователя в двух группах статистически не отличается, \\\n",
    "p-value = {round(p_value_arpau, 3)}'''\n",
    "    else:\n",
    "        out_arpau = f'''Наблюдается статистически значимое различие между средними чеками активных пользователей, \\\n",
    "p-value = {round(p_value_arpau, 3)}'''\n",
    "    \n",
    "    result_arpau = f'Средний чек на активного пользователя в группе А: {mean_arpau_A}, в группе В: {mean_arpau_B}. \\n'\n",
    "    if mean_arpau_A > mean_arpau_B:\n",
    "        result_arpau += f'''- ARPAU выше в группе А на {round(mean_arpau_A - mean_arpau_B, 2)} у.е. \\\n",
    "или на {round((mean_arpau_A / mean_arpau_B - 1)*100, 2)}%'''\n",
    "    elif mean_arpau_A < mean_arpau_B:\n",
    "        result_arpau += f'''- ARPAU выше в группе В на {round(mean_arpau_B - mean_arpau_A, 2)} у.е. \\\n",
    "или на {round((mean_arpau_B / mean_arpau_A - 1)*100, 2)}%'''\n",
    "    else:\n",
    "        result_arpau += f'- ARPAU в двух группах равны и составляют {mean_arpau_B}'\n",
    "    \n",
    "    # Сравнение ARPPAU в двух группах\n",
    "    \n",
    "    active_users_payments_not_0 = active_users_payments.query('rev > 0') \n",
    "    A_not_0 = active_users_payments.query('rev > 0 and group == \"A\"')['rev']\n",
    "    B_not_0 = active_users_payments.query('rev > 0 and group == \"B\"')['rev']\n",
    "    \n",
    "    p_value = get_bootstrap(A_not_0, B_not_0)\n",
    "    \n",
    "    if p_value >= 0.5:\n",
    "        out = f'''Средний чек активного платящего пользователя в двух группах статистически не отличается, \\\n",
    "p-value = {round(p_value, 3)}'''\n",
    "    else:\n",
    "        out = f'''Наблюдается статистически значимое различие между средними чеками активных платящих пользователей, \\\n",
    "p-value = {round(p_value, 3)}'''\n",
    "    \n",
    "    mean_arppau_A = round(A_not_0.mean(), 2)\n",
    "    mean_arppau_B = round(B_not_0.mean(), 2)\n",
    "    \n",
    "    result_arppau = f'Средний чек активного платящего пользователя в группе А: {mean_arppau_A}, в группе B: {mean_arppau_B}. \\n'\n",
    "    \n",
    "    if mean_arppau_A > mean_arppau_B:\n",
    "        result_arppau += f'''- ARPPAU выше в группе А на {round(mean_arppau_A - mean_arppau_B, 2)} у.е. \\\n",
    "или на {round((mean_arppau_A / mean_arppau_B - 1)*100, 2)}%'''\n",
    "    elif mean_arppau_A < mean_arppau_B:\n",
    "        result_arppau += f'''- ARPPAU выше в группе В на {round(mean_arppau_B - mean_arppau_A, 2)} у.е. \\\n",
    "или на {round((mean_arppau_B / mean_arppau_A - 1)*100, 2)}%'''\n",
    "    else:\n",
    "        result_arppau += '- ARPPAU в двух группах равны'\n",
    "        \n",
    "    final_results = f'''Выводы по конверсии активных пользователей в покупку: \n",
    "- {result_1}\n",
    "- {result_chi2_p}.\n",
    "\n",
    "Выводы по среднему чеку активных пользователей:\n",
    "- {result_arpau}\n",
    "- {out_arpau}.\n",
    "\n",
    "Выводы по среднему чеку активных пользователей, сделавших покупки:\n",
    "- {result_arppau}\n",
    "- {out}.\n",
    "'''\n",
    "    print(check_len, final_results, sep='\\n')"
   ]
  },
  {
   "cell_type": "code",
   "execution_count": 136,
   "metadata": {},
   "outputs": [
    {
     "name": "stdout",
     "output_type": "stream",
     "text": [
      "\n",
      "Выводы по конверсии активных пользователей в покупку: \n",
      "- Конврсия в покупку активных пользователей в группе А: 5.07%, в группе B: 4.62%.\n",
      "- Конверсия в группе А выше, чем в B на 9.74% или на 0.005 п.п.\n",
      "- Между выборками нет стат. значимых различий, p-value = 0.509, в силе остается нулевая гипотеза о том, что CR в покупку не зависит от группы.\n",
      "\n",
      "Выводы по среднему чеку активных пользователей:\n",
      "- Средний чек на активного пользователя в группе А: 47.35, в группе В: 58.06. \n",
      "- ARPAU выше в группе В на 10.71 у.е. или на 22.62%\n",
      "- Наблюдается статистически значимое различие между средними чеками активных пользователей, p-value = 0.038.\n",
      "\n",
      "Выводы по среднему чеку активных пользователей, сделавших покупки:\n",
      "- Средний чек активного платящего пользователя в группе А: 933.59, в группе B: 1257.88. \n",
      "- ARPPAU выше в группе В на 324.29 у.е. или на 34.74%\n",
      "- Наблюдается статистически значимое различие между средними чеками активных платящих пользователей, p-value = 0.0.\n",
      "\n"
     ]
    }
   ],
   "source": [
    "ab_with_add('https://getfile.dokpub.com/yandex/get/https://disk.yandex.ru/d/5Kxrz02m3IBUwQ')"
   ]
  },
  {
   "cell_type": "markdown",
   "metadata": {},
   "source": [
    "*Также сделаем функцию, которая будет рисовать графики. Однако я не вижу большого смысла рисовать графики метрик, которые получаются не самыми интересными. Вместо этого я бы нарисовал графики, которые бы показали некоторые особенности наших датасетов. В качестве особенностей можно указать число людей в обеих выборках, распределение трат как общее, так и в обеих группах. Также можно изобразить боксплот ARPPAU.*"
   ]
  },
  {
   "cell_type": "code",
   "execution_count": 138,
   "metadata": {},
   "outputs": [],
   "source": [
    "def charts(x):\n",
    "    \n",
    "    '''\n",
    "    Функция на вход принимает путь добавочного файла. Внутри функции\n",
    "    задается стиль будущих графиков, строится финальный датасет двух групп,\n",
    "    промежуточные датасеты, необходимые для графиков и сами графики, которых \n",
    "    6 штук: изначальные размеры выборок\n",
    "            распределение трат активных пользователей по группам\n",
    "            распределение трат активных платящих пользователей по группам\n",
    "            боксплот для трат в обеих группах\n",
    "    '''\n",
    "    \n",
    "    sns.set(\n",
    "    rc={\n",
    "        \"figure.figsize\": (14, 8), #размер графика \n",
    "        \"axes.titlesize\": 16, #размер заголовка \n",
    "        \"axes.labelsize\": 14, #размер подписей осей\n",
    "        \"xtick.labelsize\": 13, #размер подписей чёрточек на x-оси\n",
    "        \"ytick.labelsize\": 13, #размер подписей чёрточек на y-оси\n",
    "        }\n",
    "    )\n",
    "    sns.set_style(\"whitegrid\")\n",
    "    \n",
    "    #  считывание данных, на вход путь к файлу или ссылка\n",
    "    \n",
    "    add_group = pd.read_csv(x)\n",
    "    if len(add_group.columns) == 1:\n",
    "        add_group = pd.read_csv(x, sep=';')\n",
    "    add_group.columns = groups.columns\n",
    "    \n",
    "    all_group = pd.concat([groups, add_group])   \n",
    "    \n",
    "    # Объединим файлы, чтобы получить таблицу активных пользователей с чеками\n",
    "    active_users = active.merge(groups_all, how='left', on='student_id')\n",
    "    active_users_payments = active_users.merge(checks, how='left', on='student_id')\n",
    "    active_users_payments = active_users_payments.fillna(0)\n",
    "    \n",
    "    active_users_payments = active_users_payments.fillna(0)\n",
    "    active_users_payments_groups = active_users_payments.groupby('group')['student_id'] \\\n",
    "                                                        .agg(['count']) \\\n",
    "                                                        .reset_index()\n",
    "    # Размер выборок\n",
    "    active_users_payments_groups.plot.bar(x='group', y='count', rot=0)\n",
    "    plt.title('Sample size during test')\n",
    "    plt.xlabel('Groups')\n",
    "    plt.ylabel('Sample size')\n",
    "    plt.show()\n",
    "    \n",
    "    # Распределения трат по группам\n",
    "    active_users_payments.query('group == \"A\"')['rev'].plot.hist()\n",
    "    plt.title('Active user spending of group A')\n",
    "    plt.xlabel('Money')\n",
    "    plt.ylabel('Number of active users')\n",
    "    plt.show()\n",
    "    \n",
    "    active_users_payments.query('group == \"B\"')['rev'].plot.hist()\n",
    "    plt.title('Active user spending of group B')\n",
    "    plt.xlabel('Money')\n",
    "    plt.ylabel('Number of active users')\n",
    "    plt.show()\n",
    "    \n",
    "    \n",
    "    # распределения ARPPAU\n",
    "    A_not_0 = active_users_payments.query('rev > 0 and group == \"A\"')['rev']\n",
    "    B_not_0 = active_users_payments.query('rev > 0 and group == \"B\"')['rev']\n",
    "    \n",
    "    A_not_0.plot.hist()\n",
    "    plt.title('Spending of active paying users of group A')\n",
    "    plt.xlabel('Money')\n",
    "    plt.ylabel('Paying users')\n",
    "    plt.show()\n",
    "    \n",
    "    B_not_0.plot.hist()\n",
    "    plt.title('Spending of active paying users of group B')\n",
    "    plt.xlabel('Money')\n",
    "    plt.ylabel('Paying users')\n",
    "    plt.show()\n",
    "   \n",
    "\n",
    "    \n",
    "    # Box plot активных платящих пользователей\n",
    "    active_users_payments_not_0 = active_users_payments.query('rev > 0')\n",
    "\n",
    "    sns.boxplot(data=active_users_payments_not_0, x=\"group\", y=\"rev\")\n",
    "    plt.title('Active paying users spending')\n",
    "    plt.xlabel('Groups')\n",
    "    plt.ylabel('Money')\n",
    "    plt.show()"
   ]
  },
  {
   "cell_type": "code",
   "execution_count": 139,
   "metadata": {
    "scrolled": false
   },
   "outputs": [
    {
     "data": {
      "image/png": "[encoded data removed]",
      "text/plain": [
       "<Figure size 1008x576 with 1 Axes>"
      ]
     },
     "metadata": {},
     "output_type": "display_data"
    },
    {
     "data": {
      "image/png": "[encoded data removed]",
      "text/plain": [
       "<Figure size 1008x576 with 1 Axes>"
      ]
     },
     "metadata": {},
     "output_type": "display_data"
    },
    {
     "data": {
      "image/png": "[encoded data removed]",
      "text/plain": [
       "<Figure size 1008x576 with 1 Axes>"
      ]
     },
     "metadata": {},
     "output_type": "display_data"
    },
    {
     "data": {
      "image/png": "[encoded data removed]",
      "text/plain": [
       "<Figure size 1008x576 with 1 Axes>"
      ]
     },
     "metadata": {},
     "output_type": "display_data"
    },
    {
     "data": {
      "image/png": "[encoded data removed]",
      "text/plain": [
       "<Figure size 1008x576 with 1 Axes>"
      ]
     },
     "metadata": {},
     "output_type": "display_data"
    },
    {
     "data": {
      "image/png": "[encoded data removed]",
      "text/plain": [
       "<Figure size 1008x576 with 1 Axes>"
      ]
     },
     "metadata": {},
     "output_type": "display_data"
    }
   ],
   "source": [
    "charts('https://getfile.dokpub.com/yandex/get/https://disk.yandex.ru/d/5Kxrz02m3IBUwQ')"
   ]
  },
  {
   "cell_type": "code",
   "execution_count": null,
   "metadata": {},
   "outputs": [],
   "source": []
  }
 ],
 "metadata": {
  "kernelspec": {
   "display_name": "Python 3",
   "language": "python",
   "name": "python3"
  },
  "language_info": {
   "codemirror_mode": {
    "name": "ipython",
    "version": 3
   },
   "file_extension": ".py",
   "mimetype": "text/x-python",
   "name": "python",
   "nbconvert_exporter": "python",
   "pygments_lexer": "ipython3",
   "version": "3.7.3"
  }
 },
 "nbformat": 4,
 "nbformat_minor": 4
}
